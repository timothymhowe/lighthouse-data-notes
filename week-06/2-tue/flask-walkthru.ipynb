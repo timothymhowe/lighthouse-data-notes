{
 "cells": [
  {
   "cell_type": "code",
   "execution_count": 5,
   "metadata": {
    "collapsed": false,
    "pycharm": {
     "name": "#%%\n"
    }
   },
   "outputs": [],
   "source": []
  },
  {
   "cell_type": "code",
   "execution_count": 6,
   "metadata": {
    "collapsed": false,
    "pycharm": {
     "name": "#%%\n"
    }
   },
   "outputs": [
    {
     "name": "stdout",
     "output_type": "stream",
     "text": [
      "Collecting package metadata (current_repodata.json): done\r\n",
      "Solving environment: done\r\n",
      "\r\n",
      "## Package Plan ##\r\n",
      "\r\n",
      "  environment location: /home/thowe/anaconda3/envs/LighthouseEnv\r\n",
      "\r\n",
      "  added / updated specs:\r\n",
      "    - flask-restful\r\n",
      "\r\n",
      "\r\n",
      "The following packages will be downloaded:\r\n",
      "\r\n",
      "    package                    |            build\r\n",
      "    ---------------------------|-----------------\r\n",
      "    aniso8601-9.0.1            |     pyhd8ed1ab_0          38 KB  conda-forge\r\n",
      "    flask-restful-0.3.9        |     pyhd8ed1ab_0          25 KB  conda-forge\r\n",
      "    ------------------------------------------------------------\r\n",
      "                                           Total:          63 KB\r\n",
      "\r\n",
      "The following NEW packages will be INSTALLED:\r\n",
      "\r\n",
      "  aniso8601          conda-forge/noarch::aniso8601-9.0.1-pyhd8ed1ab_0\r\n",
      "  flask-restful      conda-forge/noarch::flask-restful-0.3.9-pyhd8ed1ab_0\r\n",
      "\r\n",
      "\r\n",
      "\r\n",
      "Downloading and Extracting Packages\r\n",
      "flask-restful-0.3.9  | 25 KB     | ##################################### | 100% \r\n",
      "aniso8601-9.0.1      | 38 KB     | ##################################### | 100% \r\n",
      "Preparing transaction: done\r\n",
      "Verifying transaction: done\r\n",
      "Executing transaction: done\r\n"
     ]
    }
   ],
   "source": [
    "import  sys\n",
    "!conda install --yes --prefix {sys.prefix} flask-restful -c conda-forge"
   ]
  },
  {
   "cell_type": "code",
   "execution_count": null,
   "metadata": {
    "collapsed": false,
    "pycharm": {
     "name": "#%%\n"
    }
   },
   "outputs": [],
   "source": []
  }
 ],
 "metadata": {
  "kernelspec": {
   "display_name": "LighthouseEnv",
   "language": "python",
   "name": "lighthouseenv"
  },
  "language_info": {
   "codemirror_mode": {
    "name": "ipython",
    "version": 2
   },
   "file_extension": ".py",
   "mimetype": "text/x-python",
   "name": "python",
   "nbconvert_exporter": "python",
   "pygments_lexer": "ipython2",
   "version": "2.7.6"
  }
 },
 "nbformat": 4,
 "nbformat_minor": 0
}
