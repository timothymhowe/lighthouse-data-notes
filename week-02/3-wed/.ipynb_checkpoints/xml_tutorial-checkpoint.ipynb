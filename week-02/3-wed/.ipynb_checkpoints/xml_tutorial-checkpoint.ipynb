{
 "cells": [
  {
   "cell_type": "code",
   "execution_count": 1,
   "id": "bf808732",
   "metadata": {},
   "outputs": [],
   "source": [
    "import xml.etree.ElementTree as ET\n"
   ]
  },
  {
   "cell_type": "code",
   "execution_count": 2,
   "id": "4ce38ec2",
   "metadata": {},
   "outputs": [],
   "source": [
    "tree = ET.parse('data/xml_data.xml')\n",
    "print(type(tree))"
   ]
  },
  {
   "cell_type": "code",
   "execution_count": 6,
   "id": "19e87838",
   "metadata": {},
   "outputs": [
    {
     "data": {
      "text/plain": [
       "<Element 'data' at 0x7fdce72caa20>"
      ]
     },
     "execution_count": 6,
     "metadata": {},
     "output_type": "execute_result"
    }
   ],
   "source": [
    "root = tree.getroot()\n",
    "root"
   ]
  },
  {
   "cell_type": "code",
   "execution_count": 8,
   "id": "652e10d3",
   "metadata": {},
   "outputs": [
    {
     "name": "stdout",
     "output_type": "stream",
     "text": [
      "data\n",
      "{}\n",
      "3\n"
     ]
    }
   ],
   "source": [
    "print(root.tag)\n",
    "print(root.attrib)\n",
    "print(len(root))"
   ]
  },
  {
   "cell_type": "code",
   "execution_count": 13,
   "id": "baa5608d",
   "metadata": {},
   "outputs": [],
   "source": [
    "country1 = root[0]\n",
    "country2 = root[1]\n",
    "country3 = root[2]"
   ]
  },
  {
   "cell_type": "code",
   "execution_count": 15,
   "id": "ec047025",
   "metadata": {},
   "outputs": [
    {
     "name": "stdout",
     "output_type": "stream",
     "text": [
      "<Element 'country' at 0x7fdce72c9bc0>\n"
     ]
    }
   ],
   "source": [
    "print(country1)"
   ]
  },
  {
   "cell_type": "code",
   "execution_count": null,
   "id": "c31f766d",
   "metadata": {},
   "outputs": [],
   "source": []
  }
 ],
 "metadata": {
  "kernelspec": {
   "display_name": "LighthouseEnv",
   "language": "python",
   "name": "lighthouseenv"
  },
  "language_info": {
   "codemirror_mode": {
    "name": "ipython",
    "version": 3
   },
   "file_extension": ".py",
   "mimetype": "text/x-python",
   "name": "python",
   "nbconvert_exporter": "python",
   "pygments_lexer": "ipython3",
   "version": "3.10.4"
  }
 },
 "nbformat": 4,
 "nbformat_minor": 5
}
