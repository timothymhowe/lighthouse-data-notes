{
 "cells": [
  {
   "cell_type": "code",
   "execution_count": 1,
   "id": "bf808732",
   "metadata": {
    "pycharm": {
     "name": "#%%\n"
    }
   },
   "outputs": [],
   "source": [
    "import xml.etree.ElementTree as ET\n"
   ]
  },
  {
   "cell_type": "code",
   "execution_count": 2,
   "id": "4ce38ec2",
   "metadata": {
    "pycharm": {
     "name": "#%%\n"
    }
   },
   "outputs": [],
   "source": [
    "tree = ET.parse('data/xml_data.xml')\n",
    "print(type(tree))"
   ]
  },
  {
   "cell_type": "code",
   "execution_count": 6,
   "id": "19e87838",
   "metadata": {
    "pycharm": {
     "name": "#%%\n"
    }
   },
   "outputs": [
    {
     "data": {
      "text/plain": [
       "<Element 'data' at 0x7fdce72caa20>"
      ]
     },
     "execution_count": 6,
     "metadata": {},
     "output_type": "execute_result"
    }
   ],
   "source": [
    "root = tree.getroot()\n",
    "root"
   ]
  },
  {
   "cell_type": "code",
   "execution_count": 8,
   "id": "652e10d3",
   "metadata": {
    "pycharm": {
     "name": "#%%\n"
    }
   },
   "outputs": [
    {
     "name": "stdout",
     "output_type": "stream",
     "text": [
      "data\n",
      "{}\n",
      "3\n"
     ]
    }
   ],
   "source": [
    "print(root.tag)\n",
    "print(root.attrib)\n",
    "print(len(root))"
   ]
  },
  {
   "cell_type": "code",
   "execution_count": 18,
   "id": "baa5608d",
   "metadata": {
    "pycharm": {
     "name": "#%%\n"
    }
   },
   "outputs": [],
   "source": [
    "country1 = root[0]\n",
    "country2 = root[1]\n",
    "country3 = root[2]"
   ]
  },
  {
   "cell_type": "code",
   "execution_count": 19,
   "id": "ec047025",
   "metadata": {
    "pycharm": {
     "name": "#%%\n"
    }
   },
   "outputs": [
    {
     "name": "stdout",
     "output_type": "stream",
     "text": [
      "<Element 'country' at 0x7fdce72c9bc0>\n"
     ]
    }
   ],
   "source": [
    "print(country1)"
   ]
  },
  {
   "cell_type": "code",
   "execution_count": 24,
   "id": "f2764214",
   "metadata": {
    "collapsed": false,
    "pycharm": {
     "name": "#%%\n"
    }
   },
   "outputs": [
    {
     "name": "stdout",
     "output_type": "stream",
     "text": [
      "rank\n",
      "1\n",
      "{'name': 'Switzerland', 'direction': 'W'}\n"
     ]
    }
   ],
   "source": [
    "rank = country1[0]\n",
    "print(rank.tag)\n",
    "print(rank.text)\n",
    "print(country1[4].attrib)"
   ]
  },
  {
   "cell_type": "code",
   "execution_count": 25,
   "id": "eaa9ddf6",
   "metadata": {
    "collapsed": false,
    "pycharm": {
     "name": "#%%\n"
    }
   },
   "outputs": [
    {
     "name": "stdout",
     "output_type": "stream",
     "text": [
      "rank\n",
      "1\n",
      "{'name': 'Colombia', 'direction': 'E'}\n"
     ]
    }
   ],
   "source": [
    "rank3 = country3[0]\n",
    "print(rank.tag)\n",
    "print(rank.text)\n",
    "print(country3[4].attrib)"
   ]
  },
  {
   "cell_type": "code",
   "execution_count": 26,
   "id": "8fede574",
   "metadata": {
    "collapsed": false,
    "pycharm": {
     "name": "#%%\n"
    }
   },
   "outputs": [
    {
     "name": "stdout",
     "output_type": "stream",
     "text": [
      "{'name': 'Austria', 'direction': 'E'}\n",
      "{'name': 'Switzerland', 'direction': 'W'}\n",
      "{'name': 'Malaysia', 'direction': 'N'}\n",
      "{'name': 'Costa Rica', 'direction': 'W'}\n",
      "{'name': 'Colombia', 'direction': 'E'}\n"
     ]
    }
   ],
   "source": [
    "for neighbor in root.iter(\"neighbor\"):\n",
    "    print(neighbor.attrib)"
   ]
  },
  {
   "cell_type": "code",
   "execution_count": 29,
   "id": "3a9e00b1",
   "metadata": {
    "collapsed": false,
    "pycharm": {
     "name": "#%%\n"
    }
   },
   "outputs": [
    {
     "data": {
      "text/plain": [
       "[<Element 'neighbor' at 0x7fdce7355990>,\n",
       " <Element 'neighbor' at 0x7fdce7355d50>]"
      ]
     },
     "execution_count": 29,
     "metadata": {},
     "output_type": "execute_result"
    }
   ],
   "source": [
    "# top level elements\n",
    "root.findall(\".\")\n",
    "\n",
    "# All 'neighbor' grandchildren of 'country' children of the top level elements\n",
    "root.findall(\"./country/neighbor\")\n",
    "\n",
    "# elements with name='Singapore' that have a 'year' child\n",
    "root.findall(\".//year/..[@name='Singapore']\")\n",
    "\n",
    "# 'year' elements that are children of elements with name='Singapore'\n",
    "root.findall(\".//*[@name='Singapore']/year\")\n",
    "\n",
    "# All 'neighbor' elements that are the second child of their parent\n",
    "root.findall(\".//neighbor[2]\")"
   ]
  },
  {
   "cell_type": "code",
   "execution_count": 31,
   "id": "8f0be59d",
   "metadata": {
    "collapsed": false,
    "pycharm": {
     "name": "#%%\n"
    }
   },
   "outputs": [
    {
     "data": {
      "text/html": [
       "<div>\n",
       "<style scoped>\n",
       "    .dataframe tbody tr th:only-of-type {\n",
       "        vertical-align: middle;\n",
       "    }\n",
       "\n",
       "    .dataframe tbody tr th {\n",
       "        vertical-align: top;\n",
       "    }\n",
       "\n",
       "    .dataframe thead th {\n",
       "        text-align: right;\n",
       "    }\n",
       "</style>\n",
       "<table border=\"1\" class=\"dataframe\">\n",
       "  <thead>\n",
       "    <tr style=\"text-align: right;\">\n",
       "      <th></th>\n",
       "      <th>name</th>\n",
       "      <th>rank</th>\n",
       "      <th>year</th>\n",
       "      <th>gdppc</th>\n",
       "    </tr>\n",
       "  </thead>\n",
       "  <tbody>\n",
       "    <tr>\n",
       "      <th>0</th>\n",
       "      <td>Liechtenstein</td>\n",
       "      <td>1</td>\n",
       "      <td>2008</td>\n",
       "      <td>141100</td>\n",
       "    </tr>\n",
       "    <tr>\n",
       "      <th>1</th>\n",
       "      <td>Singapore</td>\n",
       "      <td>4</td>\n",
       "      <td>2011</td>\n",
       "      <td>59900</td>\n",
       "    </tr>\n",
       "    <tr>\n",
       "      <th>2</th>\n",
       "      <td>Panama</td>\n",
       "      <td>68</td>\n",
       "      <td>2011</td>\n",
       "      <td>13600</td>\n",
       "    </tr>\n",
       "  </tbody>\n",
       "</table>\n",
       "</div>"
      ],
      "text/plain": [
       "            name rank  year   gdppc\n",
       "0  Liechtenstein    1  2008  141100\n",
       "1      Singapore    4  2011   59900\n",
       "2         Panama   68  2011   13600"
      ]
     },
     "execution_count": 31,
     "metadata": {},
     "output_type": "execute_result"
    }
   ],
   "source": [
    "import xml.etree.ElementTree as ET\n",
    "import pandas as pd\n",
    "\n",
    "tree = ET.parse('data/xml_data.xml')  # Load from file\n",
    "root = tree.getroot()\n",
    "\n",
    "my_dict = {'name': [],\n",
    "           'rank': [],\n",
    "           'year': [],\n",
    "           'gdppc': []}\n",
    "\n",
    "\n",
    "for country in root:\n",
    "    name_value = country.attrib['name']\n",
    "    my_dict['name'].append(name_value)\n",
    "\n",
    "    rank_value = country[0].text\n",
    "    my_dict['rank'].append(rank_value)\n",
    "\n",
    "    year_value = country[1].text\n",
    "    my_dict['year'].append(year_value)\n",
    "\n",
    "    gdppc_value = country[2].text\n",
    "    my_dict['gdppc'].append(gdppc_value)\n",
    "\n",
    "df = pd.DataFrame(my_dict)\n",
    "df"
   ]
  },
  {
   "cell_type": "code",
   "execution_count": null,
   "id": "3ebda8f2",
   "metadata": {
    "collapsed": false,
    "pycharm": {
     "name": "#%%\n"
    }
   },
   "outputs": [],
   "source": []
  }
 ],
 "metadata": {
  "kernelspec": {
   "display_name": "LighthouseEnv",
   "language": "python",
   "name": "lighthouseenv"
  },
  "language_info": {
   "codemirror_mode": {
    "name": "ipython",
    "version": 3
   },
   "file_extension": ".py",
   "mimetype": "text/x-python",
   "name": "python",
   "nbconvert_exporter": "python",
   "pygments_lexer": "ipython3",
   "version": "3.10.4"
  }
 },
 "nbformat": 4,
 "nbformat_minor": 5
}
