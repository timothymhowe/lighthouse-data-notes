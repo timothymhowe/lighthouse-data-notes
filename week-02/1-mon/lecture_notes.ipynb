{
 "cells": [
  {
   "cell_type": "markdown",
   "id": "7ff51126",
   "metadata": {
    "pycharm": {
     "name": "#%% md\n"
    }
   },
   "source": [
    "# Introduction to SQL\n",
    "All companies and organizations store their data in some form of a database"
   ]
  },
  {
   "cell_type": "markdown",
   "id": "99104770",
   "metadata": {
    "pycharm": {
     "name": "#%% md\n"
    }
   },
   "source": [
    "### 3 Main Types of Data\n",
    "1. Structured\n",
    "   - Tablular(rows/columns)\n",
    "   - Relational (storing additional information about certain rows/columns in different tables)\n",
    "\n",
    "2. Semi-Structured Data\n",
    "    - Key Value Stores (JSON), graph databases\n",
    "    - attributes may vary from entry to entry.  More flexible, commonly what you get from an API.\n",
    "    - Semi-structured data can often be faster to pull or write data from than structured databases.\n",
    "\n",
    "3. Unstructured Data\n",
    "    - Audio\n",
    "    - Video (A/V can be structured, but they are generally described as unstructured regardless)\n",
    "    - Binary Data"
   ]
  },
  {
   "cell_type": "markdown",
   "id": "fa0f6774",
   "metadata": {
    "collapsed": false,
    "pycharm": {
     "name": "#%% md\n"
    }
   },
   "source": [
    "### Why use Databases?\n",
    "- keeps data clean\n",
    "- ensures data transactions are correct (ACID)\n",
    "    - atomicity, consistency, isolation, durability\n",
    "- can store massive amounts of data\n",
    "- efficient data retrieval\n",
    "- centralized, secure, robust\n",
    "- integration availability with other software tools\n",
    "\n",
    "\n",
    "- **BAD EXAMPLE:** Excel Spreadsheets"
   ]
  },
  {
   "cell_type": "markdown",
   "id": "59172755",
   "metadata": {
    "pycharm": {
     "name": "#%% md\n"
    }
   },
   "source": [
    "### Why SQL?\n",
    "\n",
    "- SQL is a relational database management system (RDBMS).\n",
    "    - Relations created via Primary/Foreign keys\n",
    "    - Save space by using multiple tables\n",
    "- SQL databases are used to store **structured** data (relational data).\n",
    "- Use queries to get only the necessary data (unlike many apis!)\n",
    "- can caluclate summary statistics on groups subsets of data\n",
    "- mentioned in most data science job postings\n",
    "    - As a data scientist, focus on data retrieval, not definition, manipulation, control\n",
    "\n",
    "\n",
    "#### Challenges with SQL\n",
    "- SQL is a declarative language (unlike python, which is imperative)\n",
    "    -  order of operations\n",
    "- Long, nested queries with many variable names\n",
    "    - vs. imperative programming where good programs break logic up into multiple steps\n",
    "- Many things happening concurrently in a single SQL statement, order not explicit\n",
    "    - vs imperatve programming where code executes line-by-line\n",
    "- Debugging is more difficult thanks to the above =(\n",
    "    - can help to break down a complex query into steps and test them incrementally.\n",
    "\n",
    "- **To review fundamentals, check [this](https://www.w3schools.com/sql/) out.**\n"
   ]
  },
  {
   "cell_type": "markdown",
   "id": "65aa114c",
   "metadata": {
    "pycharm": {
     "name": "#%% md\n"
    }
   },
   "source": [
    "## Database Schemata\n",
    "\n",
    "- How many tables should we create?\n",
    "- What should be stored in each table?\n",
    "- How are different tables related?\n",
    "\n",
    "#### Star Schemata\n",
    "- fact tables vs dimension tables\n",
    "- <u>fact tables</u>: Contain events, transactions, observations.  Lots of rows, less columns. Updated often\n",
    "- <u>Dimension Tables</u>: Contain attributes abot a singgle concept in the fact table.  Rarely updatad--fewer rows.\n",
    "- Fact tables contain foregin keys, dimension tables contain primary keys\n",
    "- Dimension tables are not related to each other\n",
    "- Usually filter/group on items in dimension tables.\n",
    "\n",
    "\n",
    "#### Snowflake Schemata\n",
    "- Nested version of the Star Schema\n",
    "    - Dimension tables can contain foreign keys\n",
    "- Dimension items can be complex concepts\n",
    "- More tables, but less duplication\n",
    "- Concepts of normalization\n",
    "    - Eliminate repeating groups in individual tables\n",
    "    - Create a separate table for each set of related data\n",
    "    - Identify each set of related data with a primary key"
   ]
  },
  {
   "cell_type": "markdown",
   "id": "a7fb3cb9",
   "metadata": {
    "pycharm": {
     "name": "#%% md\n"
    }
   },
   "source": [
    "## RDBMS Landscape\n",
    "- SQL is a programming language, but there are many different flavours of SQL (versions).\n",
    "    - basic SQL statements are the same, but different custom statements\n",
    "- Closed Source (i.e. paid)\n",
    "    - **Vendors**: Oracle, SQL Server, IBM DB2, Access\n",
    "    - could come with integrations and services that makes things easier\n",
    "- Open Source (ie free)\n",
    "    - **Projects:** MySQL, PostgreSQL, SQLite, MariaDB\n",
    "    - Good developer community makes these great options\n",
    "\n",
    "#### SQLite\n",
    "- SQLite is great to learn sql\n",
    "    - Dont have to set up a server\n",
    "- Stored locally as a file\n",
    "- Not actually used in companies with multiple users (no concurrency)\n",
    "\n",
    "#### PostgreSQL (Postgres)\n",
    "- Open source (easy to upgrade and extend)\n",
    "- High compliance to the SQL standard\n",
    "- Runs on almost all operating systems\n",
    "- MySQL would be a good choice (except it's less compliance to the SQL standard\n",
    "- can run locally or connect remotely"
   ]
  },
  {
   "cell_type": "markdown",
   "id": "4335c33f",
   "metadata": {
    "collapsed": false,
    "pycharm": {
     "name": "#%% md\n"
    }
   },
   "source": [
    "## Installing ipythonSQL\n",
    "\n",
    "- "
   ]
  },
  {
   "cell_type": "markdown",
   "id": "5eb7b7f8",
   "metadata": {
    "collapsed": false,
    "pycharm": {
     "name": "#%% md\n"
    }
   },
   "source": [
    "### SQL Demo/Exercises"
   ]
  },
  {
   "cell_type": "code",
   "execution_count": 5,
   "id": "b1a4753b",
   "metadata": {
    "collapsed": false,
    "pycharm": {
     "name": "#%%\n"
    }
   },
   "outputs": [],
   "source": []
  },
  {
   "cell_type": "code",
   "execution_count": 5,
   "id": "9b8dbd65",
   "metadata": {
    "collapsed": false,
    "pycharm": {
     "name": "#%%\n"
    }
   },
   "outputs": [],
   "source": []
  }
 ],
 "metadata": {
  "kernelspec": {
   "display_name": "LighthouseEnv",
   "language": "python",
   "name": "lighthouseenv"
  },
  "language_info": {
   "codemirror_mode": {
    "name": "ipython",
    "version": 3
   },
   "file_extension": ".py",
   "mimetype": "text/x-python",
   "name": "python",
   "nbconvert_exporter": "python",
   "pygments_lexer": "ipython3",
   "version": "3.10.4"
  }
 },
 "nbformat": 4,
 "nbformat_minor": 5
}
