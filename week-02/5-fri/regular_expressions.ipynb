{
 "cells": [
  {
   "cell_type": "code",
   "execution_count": 35,
   "metadata": {
    "collapsed": false,
    "pycharm": {
     "name": "#%%\n"
    }
   },
   "outputs": [],
   "source": [
    "# Regular Expressions"
   ]
  },
  {
   "cell_type": "markdown",
   "metadata": {
    "collapsed": false,
    "pycharm": {
     "name": "#%% md\n"
    }
   },
   "source": [
    "## Regex Cheatsheet:\n",
    "|    regex    | definition                     |\n",
    "|:-----------:|:-------------------------------|\n",
    "|    abc…\t    | Letters                        |\n",
    "|    123…\t    | Digits                         |\n",
    "|    \\\\d\t     | Any Digit                      |\n",
    "|    \\\\D\t     | Any Non-digit character        |\n",
    "|     .\t      | Any Character                  |\n",
    "|     \\\\.     | \tPeriod                        |\n",
    "|   [abc]\t    | Only a, b, or c                |\n",
    "|   [^abc]\t   | Not a, b, nor c                |\n",
    "|   [a-z]\t    | Characters a to z              |\n",
    "|   [0-9]\t    | Numbers 0 to 9                 |\n",
    "|    \\\\w\t     | Any Alphanumeric character     |\n",
    "|    \\\\W\t     | Any Non-alphanumeric character |\n",
    "|     {m}     | \tm Repetitions                 |\n",
    "|   {m,n}\t    | m to n Repetitions             |\n",
    "|     *\t      | Zero or more repetitions       |\n",
    "|     +\t      | One or more repetitions        |\n",
    "|     ?\t      | Optional character             |\n",
    "|    \\\\s\t     | Any Whitespace                 |\n",
    "|    \\\\S\t     | Any Non-whitespace character   |\n",
    "|    ^…$\t     | Starts and ends                |\n",
    "|    (…)\t     | Capture Group                  |\n",
    "|   (a(bc))   | \tCapture Sub-group             |\n",
    "|    (.*)\t    | Capture all                    |\n",
    "| (abc      \\| def)\t                          |Matches abc or def|"
   ]
  },
  {
   "cell_type": "code",
   "execution_count": 36,
   "metadata": {
    "collapsed": false,
    "pycharm": {
     "name": "#%%\n"
    }
   },
   "outputs": [],
   "source": [
    "## Regex in Python!!"
   ]
  },
  {
   "cell_type": "code",
   "execution_count": 37,
   "metadata": {
    "collapsed": false,
    "pycharm": {
     "name": "#%%\n"
    }
   },
   "outputs": [],
   "source": [
    "import re"
   ]
  },
  {
   "cell_type": "code",
   "execution_count": 38,
   "metadata": {
    "collapsed": false,
    "pycharm": {
     "name": "#%%\n"
    }
   },
   "outputs": [
    {
     "name": "stdout",
     "output_type": "stream",
     "text": [
      "Match at index 0, 7.\n",
      "Full match: June 24\n",
      "Month: June\n",
      "Day: 24\n"
     ]
    }
   ],
   "source": [
    "pattern = r\"([a-zA-Z]+) (\\d+)\"\n",
    "if re.search(pattern, \"june 24\"):\n",
    "    match = re.search(pattern, \"June 24\")\n",
    "    print (\"Match at index %s, %s.\" % (match.start(),match.end()))\n",
    "\n",
    "    print(\"Full match: %s\" % (match.group(0)))\n",
    "    print(\"Month: %s\" % (match.group(1)))\n",
    "    print(\"Day: %s\" % (match.group(2)))\n",
    "else:\n",
    "    # If re.search() does not match, then None is returned\n",
    "    print(\"The regex pattern does not match. :(\")"
   ]
  },
  {
   "cell_type": "markdown",
   "metadata": {
    "collapsed": false,
    "pycharm": {
     "name": "#%% md\n"
    }
   },
   "source": [
    "If you need to see if there are multiple matches, then use either ```findall()``` or ```finditer()```:\n",
    "```python\n",
    "matchList = re.findAll(pattern,string,flags=0)\n",
    "matchListIter = re.finditer(pattern, input, flags=0)\n",
    "```\n",
    "For example:"
   ]
  },
  {
   "cell_type": "code",
   "execution_count": 39,
   "metadata": {
    "collapsed": false,
    "pycharm": {
     "name": "#%%\n"
    }
   },
   "outputs": [
    {
     "name": "stdout",
     "output_type": "stream",
     "text": [
      "Full match: June 24\n",
      "Full match: August 9\n",
      "Full match: Dev 12\n"
     ]
    }
   ],
   "source": [
    "regex = r\"[a-zA-Z]+ \\d+\"\n",
    "matches = re.findall(regex,\"June 24, August 9, Dev 12\")\n",
    "for match in matches:\n",
    "    print(\"Full match: %s\" % (match))"
   ]
  },
  {
   "cell_type": "markdown",
   "metadata": {
    "collapsed": false,
    "pycharm": {
     "name": "#%% md\n"
    }
   },
   "source": [
    "To capture the specific months of each date, use the following pattern:"
   ]
  },
  {
   "cell_type": "markdown",
   "metadata": {
    "collapsed": false,
    "pycharm": {
     "name": "#%% md\n"
    }
   },
   "source": []
  },
  {
   "cell_type": "code",
   "execution_count": 40,
   "metadata": {
    "collapsed": false,
    "pycharm": {
     "name": "#%%\n"
    }
   },
   "outputs": [
    {
     "name": "stdout",
     "output_type": "stream",
     "text": [
      "Match month: June\n",
      "Match month: August\n",
      "Match month: Dec\n"
     ]
    }
   ],
   "source": [
    "regex = r\"([a-zA-Z]+) \\d+\"\n",
    "matches = re.findall(regex, \"June 24, August 9, Dec 12\")\n",
    "for match in matches:\n",
    "    print (\"Match month: %s\" % (match))"
   ]
  },
  {
   "cell_type": "markdown",
   "metadata": {
    "collapsed": false,
    "pycharm": {
     "name": "#%% md\n"
    }
   },
   "source": [
    "For the exact positions of each match:"
   ]
  },
  {
   "cell_type": "code",
   "execution_count": 41,
   "metadata": {
    "collapsed": false,
    "pycharm": {
     "name": "#%%\n"
    }
   },
   "outputs": [
    {
     "name": "stdout",
     "output_type": "stream",
     "text": [
      "Match at index: 0, 7\n",
      "Match at index: 9, 17\n",
      "Match at index: 19, 25\n"
     ]
    }
   ],
   "source": [
    "regex = r\"([a-zA-Z]+) \\d+\"\n",
    "matches = re.finditer(regex, \"June 24, August 9, Dec 12\")\n",
    "for match in matches:\n",
    "    print(\"Match at index: %s, %s\" % (match.start(), match.end()))"
   ]
  },
  {
   "cell_type": "markdown",
   "metadata": {
    "collapsed": false,
    "pycharm": {
     "name": "#%% md\n"
    }
   },
   "source": [
    "## Finding and Replacing Strings\n",
    "\n",
    "Use the ```sub()``` function:\n",
    "```python\n",
    "replacedString = re.sub(pattern,replacement_pattern, input_str, count, flags=0)\n",
    "```\n",
    "For example, I can reverse the order of the day in the month in a date string as follows:"
   ]
  },
  {
   "cell_type": "code",
   "execution_count": 42,
   "metadata": {
    "collapsed": false,
    "pycharm": {
     "name": "#%%\n"
    }
   },
   "outputs": [
    {
     "name": "stdout",
     "output_type": "stream",
     "text": [
      "24 of June, 9 of August, 12 of Dec\n"
     ]
    }
   ],
   "source": [
    "pattern = r\"([a-zA-Z]+) (\\d+)\"\n",
    "print(re.sub(pattern, r\"\\2 of \\1\", \"June 24, August 9, Dec 12\"))"
   ]
  },
  {
   "cell_type": "markdown",
   "metadata": {
    "collapsed": false,
    "pycharm": {
     "name": "#%% md\n"
    }
   },
   "source": [
    "# Flags\n",
    "The above functions all have a ```flags``` parameter.  Flags are generally just QoL/conveniences, and are useful in some situations but useless in others.\n",
    "\n",
    " - ```re.IGNORECASE``` makes the pattern case insensitive\n",
    " - ```re.MULTILINE``` necessary if the input string has newline characters (\\n).  Allows the start (^) and end ($) metacharacters to match at the beginning of each line rather than at the beginning of the whole string.\n",
    " - ```re.DOTALL``` allows the dot (.) metacharacter match all characters, including the newline character."
   ]
  },
  {
   "cell_type": "markdown",
   "metadata": {
    "collapsed": false,
    "pycharm": {
     "name": "#%% md\n"
    }
   },
   "source": [
    "# Compiling a Pattern for Performance\n",
    "\n",
    "If you need to test many input strings with the same regular expression, it is recommended to compile them using the following function, which returns a ```regexObject```:\n",
    "\n",
    "```python\n",
    "regexObject = re.compile(pattern,flags=0)\n",
    "```\n"
   ]
  },
  {
   "cell_type": "code",
   "execution_count": 43,
   "metadata": {
    "collapsed": false,
    "pycharm": {
     "name": "#%%\n"
    }
   },
   "outputs": [
    {
     "name": "stdout",
     "output_type": "stream",
     "text": [
      "0 11\n"
     ]
    }
   ],
   "source": [
    "regex = re.compile(r\"(\\w+) World\")\n",
    "result = regex.search(\"Hello World is easiest\")\n",
    "if result:\n",
    "    # this will print ```0 11``` for the start and end of the match\n",
    "    print(result.start(),result.end())"
   ]
  },
  {
   "cell_type": "markdown",
   "metadata": {
    "collapsed": false,
    "pycharm": {
     "name": "#%% md\n"
    }
   },
   "source": [
    "This will print\n",
    "```\n",
    "hello\n",
    "bonjour\n",
    "```\n",
    "for each of the captured groups that matched"
   ]
  },
  {
   "cell_type": "code",
   "execution_count": 44,
   "metadata": {
    "collapsed": false,
    "pycharm": {
     "name": "#%%\n"
    }
   },
   "outputs": [
    {
     "name": "stdout",
     "output_type": "stream",
     "text": [
      "Hello\n",
      "Bonjour\n"
     ]
    }
   ],
   "source": [
    "for result in regex.findall(\"Hello World, Bonjour World\"):\n",
    "    print(result)"
   ]
  },
  {
   "cell_type": "markdown",
   "metadata": {
    "collapsed": false,
    "pycharm": {
     "name": "#%% md\n"
    }
   },
   "source": [
    "This will substitute \"World\" with \"Earth\" and print ```Hello Earth```:"
   ]
  },
  {
   "cell_type": "code",
   "execution_count": 45,
   "metadata": {
    "collapsed": false,
    "pycharm": {
     "name": "#%%\n"
    }
   },
   "outputs": [
    {
     "name": "stdout",
     "output_type": "stream",
     "text": [
      "Hello Earth\n"
     ]
    }
   ],
   "source": [
    "print(regex.sub(r\"\\1 Earth\", \"Hello World\"))"
   ]
  },
  {
   "cell_type": "code",
   "execution_count": 45,
   "metadata": {
    "collapsed": false,
    "pycharm": {
     "name": "#%%\n"
    }
   },
   "outputs": [],
   "source": []
  }
 ],
 "metadata": {
  "kernelspec": {
   "display_name": "LighthouseEnv",
   "language": "python",
   "name": "lighthouseenv"
  },
  "language_info": {
   "codemirror_mode": {
    "name": "ipython",
    "version": 2
   },
   "file_extension": ".py",
   "mimetype": "text/x-python",
   "name": "python",
   "nbconvert_exporter": "python",
   "pygments_lexer": "ipython2",
   "version": "2.7.6"
  }
 },
 "nbformat": 4,
 "nbformat_minor": 0
}
