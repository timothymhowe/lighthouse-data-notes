{
 "cells": [
  {
   "cell_type": "markdown",
   "source": [
    "# Generative Adversarial Neural Networks\n",
    "### ... from scratch\n",
    "\n",
    "All credit goes to Jeff Heaton, lesson plan and youtube video found [here.](https://github.com/jeffheaton/present/blob/master/youtube/gan/gans_scratch.ipynb)"
   ],
   "metadata": {
    "collapsed": false,
    "pycharm": {
     "name": "#%% md\n"
    }
   }
  },
  {
   "cell_type": "code",
   "execution_count": 1,
   "outputs": [],
   "source": [
    "# Nicely formatted time string\n",
    "import PIL.Image\n",
    "\n",
    "\n",
    "def hms_string(sec_elapsed):\n",
    "    h = int(sec_elapsed / (60 * 60))\n",
    "    m = int((sec_elapsed % (60 * 60)) / 60)\n",
    "    s = sec_elapsed % 60\n",
    "    return \"{}:{:>02}:{:>05.2f}\".format(h, m, s)"
   ],
   "metadata": {
    "collapsed": false,
    "pycharm": {
     "name": "#%%\n"
    }
   }
  },
  {
   "cell_type": "code",
   "execution_count": 2,
   "outputs": [
    {
     "name": "stdout",
     "output_type": "stream",
     "text": [
      "Note: not using Google CoLab\n"
     ]
    }
   ],
   "source": [
    "try:\n",
    "    from google.colab import drive\n",
    "    drive.mount('/content/drive', force_remount=True)\n",
    "    COLAB = True\n",
    "    print(\"Note: using Google CoLab\")\n",
    "    %tensorflow_version 2.x\n",
    "except:\n",
    "    print(\"Note: not using Google CoLab\")\n",
    "    COLAB = False"
   ],
   "metadata": {
    "collapsed": false,
    "pycharm": {
     "name": "#%%\n"
    }
   }
  },
  {
   "cell_type": "code",
   "execution_count": 3,
   "outputs": [],
   "source": [
    "# Following packages are necessary to impolement a basic GAN in Python/Keras\n",
    "\n",
    "import tensorflow as tf\n",
    "from tensorflow.keras.layers import Input, Reshape, Dropout, Dense\n",
    "from tensorflow.keras.layers import Flatten, BatchNormalization\n",
    "from tensorflow.keras.layers import Activation, ZeroPadding2D\n",
    "from tensorflow.keras.layers import LeakyReLU\n",
    "from tensorflow.keras.layers import UpSampling2D, Conv2D\n",
    "from tensorflow.keras.models import Sequential, Model, load_model\n",
    "\n",
    "import numpy as np\n",
    "from PIL import Image\n",
    "from tqdm import tqdm\n",
    "import os\n",
    "import time\n",
    "import matplotlib.pyplot as plt"
   ],
   "metadata": {
    "collapsed": false,
    "pycharm": {
     "name": "#%%\n"
    }
   }
  },
  {
   "cell_type": "code",
   "execution_count": 33,
   "outputs": [
    {
     "name": "stdout",
     "output_type": "stream",
     "text": [
      "Will generate 96 px by 96 px images.\n"
     ]
    }
   ],
   "source": [
    "# The following constants define the creation of the GAN\n",
    "# Generation resolution - must be square\n",
    "# training data is also scaled to this\n",
    "# WARNING: GENERATE_RES 4 or higher\n",
    "# will blow Google Colab's memory.\n",
    "\n",
    "GENERATE_RES = 3 # RESOLUTION  = ( 32H X 32W ) * GENERATE_RES\n",
    "GENERATE_SQUARE = 32 * GENERATE_RES # GENERATE_SQUARE = SIDE LENGTH OF SQUARE = 32 * GENERATE_RES\n",
    "IMAGE_CHANNELS = 3\n",
    "\n",
    "# PREVIEW IMAGE\n",
    "PREVIEW_ROWS = 4\n",
    "PREVIEW_COLS = 7\n",
    "PREVIEW_MARGIN = 16\n",
    "\n",
    "# SIZE VECTOR TO GENERATE IMAGES FROM\n",
    "SEED_SIZE=100\n",
    "\n",
    "# CONFIG\n",
    "DATA_PATH = './data'\n",
    "EPOCHS = 2000\n",
    "BATCH_SIZE = 64\n",
    "BUFFER_SIZE = 60000\n",
    "\n",
    "print(f\"Will generate {GENERATE_SQUARE} px by {GENERATE_SQUARE} px images.\")\n",
    "\n",
    "\n",
    "\n"
   ],
   "metadata": {
    "collapsed": false,
    "pycharm": {
     "name": "#%%\n"
    }
   }
  },
  {
   "cell_type": "code",
   "execution_count": 34,
   "outputs": [
    {
     "name": "stdout",
     "output_type": "stream",
     "text": [
      "looking for file: ./data/training_data96_96.npy\n",
      "Unpickling previous binary\n"
     ]
    }
   ],
   "source": [
    "# Next step is loading and preprocessing the images\n",
    "import os\n",
    "\n",
    "training_binary_path = os.path.join(DATA_PATH, f'training_data{GENERATE_SQUARE}_{GENERATE_SQUARE}.npy')\n",
    "\n",
    "print(f\"looking for file: {training_binary_path}\")\n",
    "if not os.path.isfile(training_binary_path):\n",
    "    start = time.time()\n",
    "    print(\"Existing pickle not found...\\n...Loading training data!\")\n",
    "\n",
    "    training_data = []\n",
    "\n",
    "    faces_path = os.path.join(DATA_PATH,'images')\n",
    "    for filename in tqdm(os.listdir(faces_path)):\n",
    "        path = os.path.join(faces_path,filename)\n",
    "        image = Image.open(path).resize((GENERATE_SQUARE,GENERATE_SQUARE), Image.Resampling.LANCZOS)\n",
    "        training_data.append(np.asarray(image))\n",
    "    training_data = np.reshape(training_data,(-1, GENERATE_SQUARE, GENERATE_SQUARE, IMAGE_CHANNELS))\n",
    "    training_data = training_data.astype(np.float32)\n",
    "    training_data = training_data/127.5 - 1\n",
    "\n",
    "    print(\"Saving training image binary...\")\n",
    "    np.save(training_binary_path,training_data)\n",
    "    elapsed = time.time() - start\n",
    "    print(f'preprocess time = {hms_string(elapsed)}')\n",
    "else:\n",
    "    print(\"Unpickling previous binary\")\n",
    "    training_data = np.load(training_binary_path)"
   ],
   "metadata": {
    "collapsed": false,
    "pycharm": {
     "name": "#%%\n"
    }
   }
  },
  {
   "cell_type": "code",
   "execution_count": 35,
   "outputs": [],
   "source": [
    "# Batch and shuffle the training data!\n",
    "train_dataset = tf.data.Dataset.from_tensor_slices(training_data).shuffle(BUFFER_SIZE).batch(BATCH_SIZE)"
   ],
   "metadata": {
    "collapsed": false,
    "pycharm": {
     "name": "#%%\n"
    }
   }
  },
  {
   "cell_type": "markdown",
   "source": [
    "### The following code actually creates the discriminator and the generator"
   ],
   "metadata": {
    "collapsed": false,
    "pycharm": {
     "name": "#%% md\n"
    }
   }
  },
  {
   "cell_type": "code",
   "execution_count": 36,
   "outputs": [],
   "source": [
    "def build_generator(seed_size, channels):\n",
    "    model = Sequential()\n",
    "\n",
    "    model.add(Dense(4*4*256,activation=\"relu\",input_dim=seed_size))\n",
    "    model.add(Reshape((4,4,256)))\n",
    "\n",
    "    model.add(UpSampling2D())\n",
    "    model.add(Conv2D(256,kernel_size=3,padding=\"same\"))\n",
    "    model.add(BatchNormalization(momentum=0.8))\n",
    "    model.add(Activation(\"relu\"))\n",
    "\n",
    "    model.add(UpSampling2D())\n",
    "    model.add(Conv2D(256,kernel_size=3,padding=\"same\"))\n",
    "    model.add(BatchNormalization(momentum=0.8))\n",
    "    model.add(Activation(\"relu\"))\n",
    "\n",
    "    # Output resolution, additional upsampling\n",
    "    model.add(UpSampling2D())\n",
    "    model.add(Conv2D(128,kernel_size=3,padding=\"same\"))\n",
    "    model.add(BatchNormalization(momentum=0.8))\n",
    "    model.add(Activation(\"relu\"))\n",
    "\n",
    "    if GENERATE_RES>1:\n",
    "      model.add(UpSampling2D(size=(GENERATE_RES,GENERATE_RES)))\n",
    "      model.add(Conv2D(128,kernel_size=3,padding=\"same\"))\n",
    "      model.add(BatchNormalization(momentum=0.8))\n",
    "      model.add(Activation(\"relu\"))\n",
    "\n",
    "    # Final CNN layer\n",
    "    model.add(Conv2D(channels,kernel_size=3,padding=\"same\"))\n",
    "    model.add(Activation(\"tanh\"))\n",
    "\n",
    "    return model"
   ],
   "metadata": {
    "collapsed": false,
    "pycharm": {
     "name": "#%%\n"
    }
   }
  },
  {
   "cell_type": "code",
   "execution_count": 37,
   "outputs": [],
   "source": [
    "def build_discriminator(image_shape):\n",
    "    model = Sequential()\n",
    "\n",
    "    model.add(Conv2D(32, kernel_size=3, strides=2, input_shape=image_shape,\n",
    "                     padding=\"same\"))\n",
    "    model.add(LeakyReLU(alpha=0.2))\n",
    "\n",
    "    model.add(Dropout(0.25))\n",
    "    model.add(Conv2D(64, kernel_size=3, strides=2, padding=\"same\"))\n",
    "    model.add(ZeroPadding2D(padding=((0,1),(0,1))))\n",
    "    model.add(BatchNormalization(momentum=0.8))\n",
    "    model.add(LeakyReLU(alpha=0.2))\n",
    "\n",
    "    model.add(Dropout(0.25))\n",
    "    model.add(Conv2D(128, kernel_size=3, strides=2, padding=\"same\"))\n",
    "    model.add(BatchNormalization(momentum=0.8))\n",
    "    model.add(LeakyReLU(alpha=0.2))\n",
    "\n",
    "    model.add(Dropout(0.25))\n",
    "    model.add(Conv2D(256, kernel_size=3, strides=1, padding=\"same\"))\n",
    "    model.add(BatchNormalization(momentum=0.8))\n",
    "    model.add(LeakyReLU(alpha=0.2))\n",
    "\n",
    "    model.add(Dropout(0.25))\n",
    "    model.add(Conv2D(512, kernel_size=3, strides=1, padding=\"same\"))\n",
    "    model.add(BatchNormalization(momentum=0.8))\n",
    "    model.add(LeakyReLU(alpha=0.2))\n",
    "\n",
    "    model.add(Dropout(0.25))\n",
    "    model.add(Flatten())\n",
    "    model.add(Dense(1, activation='sigmoid'))\n",
    "\n",
    "    return model\n",
    "\n"
   ],
   "metadata": {
    "collapsed": false,
    "pycharm": {
     "name": "#%%\n"
    }
   }
  },
  {
   "cell_type": "markdown",
   "source": [
    "As training progresses, images will be produced to demonstrate the training progress. These images will contain a number of rendered faces to show the progress of the model.  The following function defines those images:"
   ],
   "metadata": {
    "collapsed": false,
    "pycharm": {
     "name": "#%% md\n"
    }
   }
  },
  {
   "cell_type": "code",
   "execution_count": 38,
   "outputs": [],
   "source": [
    "def save_images(cnt,noise):\n",
    "  image_array = np.full((\n",
    "      PREVIEW_MARGIN + (PREVIEW_ROWS * (GENERATE_SQUARE+PREVIEW_MARGIN)),\n",
    "      PREVIEW_MARGIN + (PREVIEW_COLS * (GENERATE_SQUARE+PREVIEW_MARGIN)), IMAGE_CHANNELS),\n",
    "      255, dtype=np.uint8)\n",
    "\n",
    "  generated_images = generator.predict(noise)\n",
    "\n",
    "  generated_images = 0.5 * generated_images + 0.5\n",
    "\n",
    "  image_count = 0\n",
    "  for row in range(PREVIEW_ROWS):\n",
    "      for col in range(PREVIEW_COLS):\n",
    "        r = row * (GENERATE_SQUARE+16) + PREVIEW_MARGIN\n",
    "        c = col * (GENERATE_SQUARE+16) + PREVIEW_MARGIN\n",
    "        image_array[r:r+GENERATE_SQUARE,c:c+GENERATE_SQUARE] \\\n",
    "            = generated_images[image_count] * 255\n",
    "        image_count += 1\n",
    "\n",
    "\n",
    "  output_path = os.path.join(DATA_PATH,'output')\n",
    "  if not os.path.exists(output_path):\n",
    "    os.makedirs(output_path)\n",
    "\n",
    "  filename = os.path.join(output_path,f\"train-{cnt}.png\")\n",
    "  im = Image.fromarray(image_array)\n",
    "  im.save(filename)"
   ],
   "metadata": {
    "collapsed": false,
    "pycharm": {
     "name": "#%%\n"
    }
   }
  },
  {
   "cell_type": "code",
   "execution_count": 39,
   "outputs": [
    {
     "name": "stdout",
     "output_type": "stream",
     "text": [
      "Generating noise\n",
      "Generating images of size 96 px square.\n",
      "Printing image\n"
     ]
    },
    {
     "data": {
      "text/plain": "<matplotlib.image.AxesImage at 0x7fe7b29cf4c0>"
     },
     "execution_count": 39,
     "metadata": {},
     "output_type": "execute_result"
    },
    {
     "data": {
      "text/plain": "<Figure size 432x288 with 1 Axes>",
      "image/png": "[encoded data removed]"
     },
     "metadata": {
      "needs_background": "light"
     },
     "output_type": "display_data"
    }
   ],
   "source": [
    "generator = build_generator(SEED_SIZE, IMAGE_CHANNELS)\n",
    "print(\"Generating noise\")\n",
    "noise = tf.random.normal([1, SEED_SIZE])\n",
    "print(f\"Generating images of size {GENERATE_SQUARE} px square.\")\n",
    "generated_image = generator(noise, training=False)\n",
    "print(\"Printing image\")\n",
    "plt.imshow(generated_image[0, :, :, 0])"
   ],
   "metadata": {
    "collapsed": false,
    "pycharm": {
     "name": "#%%\n"
    }
   }
  },
  {
   "cell_type": "code",
   "execution_count": 40,
   "outputs": [
    {
     "name": "stdout",
     "output_type": "stream",
     "text": [
      "tf.Tensor([[0.49990103]], shape=(1, 1), dtype=float32)\n"
     ]
    }
   ],
   "source": [
    "image_shape = (GENERATE_SQUARE,GENERATE_SQUARE,IMAGE_CHANNELS)\n",
    "\n",
    "discriminator = build_discriminator(image_shape)\n",
    "decision = discriminator(generated_image)\n",
    "print (decision)"
   ],
   "metadata": {
    "collapsed": false,
    "pycharm": {
     "name": "#%%\n"
    }
   }
  },
  {
   "cell_type": "code",
   "execution_count": 41,
   "outputs": [],
   "source": [
    "# returns a helper function to compute cross entropy loss\n",
    "cross_entropy = tf.keras.losses.BinaryCrossentropy()\n",
    "\n",
    "def discriminator_loss(real_output, fake_output):\n",
    "    real_loss = cross_entropy(tf.ones_like(real_output), real_output)\n",
    "    fake_loss = cross_entropy(tf.zeros_like(fake_output), fake_output)\n",
    "    total_loss = real_loss + fake_loss\n",
    "    return total_loss\n",
    "\n",
    "def generator_loss(fake_output):\n",
    "    return cross_entropy(tf.ones_like(fake_output), fake_output)\n",
    "\n"
   ],
   "metadata": {
    "collapsed": false,
    "pycharm": {
     "name": "#%%\n"
    }
   }
  },
  {
   "cell_type": "code",
   "execution_count": 42,
   "outputs": [],
   "source": [
    "generator_optimizer = tf.keras.optimizers.Adam(1.5e-4,0.5)\n",
    "discriminator_optimizer = tf.keras.optimizers.Adam(1.5e-4,0.5)"
   ],
   "metadata": {
    "collapsed": false,
    "pycharm": {
     "name": "#%%\n"
    }
   }
  },
  {
   "cell_type": "code",
   "execution_count": 43,
   "outputs": [],
   "source": [
    "# Notice the use of `tf.function`\n",
    "# This annotation causes the function to be \"compiled\".\n",
    "@tf.function\n",
    "def train_step(images):\n",
    "  seed = tf.random.normal([BATCH_SIZE, SEED_SIZE])\n",
    "\n",
    "  with tf.GradientTape() as gen_tape, tf.GradientTape() as disc_tape:\n",
    "    generated_images = generator(seed, training=True)\n",
    "\n",
    "    real_output = discriminator(images, training=True)\n",
    "    fake_output = discriminator(generated_images, training=True)\n",
    "\n",
    "    gen_loss = generator_loss(fake_output)\n",
    "    disc_loss = discriminator_loss(real_output, fake_output)\n",
    "\n",
    "\n",
    "    gradients_of_generator = gen_tape.gradient(\\\n",
    "        gen_loss, generator.trainable_variables)\n",
    "    gradients_of_discriminator = disc_tape.gradient(\\\n",
    "        disc_loss, discriminator.trainable_variables)\n",
    "\n",
    "    generator_optimizer.apply_gradients(zip(\n",
    "        gradients_of_generator, generator.trainable_variables))\n",
    "    discriminator_optimizer.apply_gradients(zip(\n",
    "        gradients_of_discriminator,\n",
    "        discriminator.trainable_variables))\n",
    "  return gen_loss,disc_loss\n"
   ],
   "metadata": {
    "collapsed": false,
    "pycharm": {
     "name": "#%%\n"
    }
   }
  },
  {
   "cell_type": "code",
   "execution_count": 44,
   "outputs": [],
   "source": [
    "def train(dataset, epochs):\n",
    "  fixed_seed = np.random.normal(0, 1, (PREVIEW_ROWS * PREVIEW_COLS,\n",
    "                                       SEED_SIZE))\n",
    "  start = time.time()\n",
    "\n",
    "  for epoch in range(epochs):\n",
    "    epoch_start = time.time()\n",
    "\n",
    "    gen_loss_list = []\n",
    "    disc_loss_list = []\n",
    "\n",
    "    for image_batch in dataset:\n",
    "      t = train_step(image_batch)\n",
    "      gen_loss_list.append(t[0])\n",
    "      disc_loss_list.append(t[1])\n",
    "\n",
    "    g_loss = sum(gen_loss_list) / len(gen_loss_list)\n",
    "    d_loss = sum(disc_loss_list) / len(disc_loss_list)\n",
    "\n",
    "    epoch_elapsed = time.time()-epoch_start\n",
    "    print (f'Epoch {epoch+1}, gen loss={g_loss},disc loss={d_loss},'\\\n",
    "           f' {hms_string(epoch_elapsed)}')\n",
    "    save_images(epoch,fixed_seed)\n",
    "\n",
    "  elapsed = time.time()-start\n",
    "  print (f'Training time: {hms_string(elapsed)}')"
   ],
   "metadata": {
    "collapsed": false,
    "pycharm": {
     "name": "#%%\n"
    }
   }
  },
  {
   "cell_type": "code",
   "execution_count": 45,
   "outputs": [
    {
     "name": "stdout",
     "output_type": "stream",
     "text": [
      "Epoch 1, gen loss=2.7324423789978027,disc loss=0.884803056716919, 0:00:17.18\n",
      "1/1 [==============================] - 0s 190ms/step\n",
      "Epoch 2, gen loss=3.321244478225708,disc loss=1.0248271226882935, 0:00:13.24\n",
      "1/1 [==============================] - 0s 11ms/step\n",
      "Epoch 3, gen loss=2.969040870666504,disc loss=1.0480729341506958, 0:00:13.31\n",
      "1/1 [==============================] - 0s 11ms/step\n",
      "Epoch 4, gen loss=2.9170968532562256,disc loss=0.8534614443778992, 0:00:13.32\n",
      "1/1 [==============================] - 0s 10ms/step\n",
      "Epoch 5, gen loss=3.725519895553589,disc loss=0.6784616112709045, 0:00:13.40\n",
      "1/1 [==============================] - 0s 11ms/step\n",
      "Epoch 6, gen loss=3.873131513595581,disc loss=0.7041316032409668, 0:00:13.41\n",
      "1/1 [==============================] - 0s 12ms/step\n",
      "Epoch 7, gen loss=3.6907224655151367,disc loss=0.732647716999054, 0:00:14.44\n",
      "1/1 [==============================] - 0s 11ms/step\n",
      "Epoch 8, gen loss=3.0683155059814453,disc loss=0.8712806105613708, 0:00:16.56\n",
      "1/1 [==============================] - 0s 11ms/step\n",
      "Epoch 9, gen loss=3.072970151901245,disc loss=0.792763352394104, 0:00:14.70\n",
      "1/1 [==============================] - 0s 11ms/step\n",
      "Epoch 10, gen loss=2.8066294193267822,disc loss=0.860027551651001, 0:00:13.62\n",
      "1/1 [==============================] - 0s 10ms/step\n",
      "Epoch 11, gen loss=2.713700532913208,disc loss=0.9003087282180786, 0:00:13.16\n",
      "1/1 [==============================] - 0s 11ms/step\n",
      "Epoch 12, gen loss=2.7122857570648193,disc loss=0.8535385727882385, 0:00:13.87\n",
      "1/1 [==============================] - 0s 11ms/step\n",
      "Epoch 13, gen loss=2.7421133518218994,disc loss=0.8267711997032166, 0:00:12.94\n",
      "1/1 [==============================] - 0s 11ms/step\n",
      "Epoch 14, gen loss=2.7257630825042725,disc loss=0.8225676417350769, 0:00:12.94\n",
      "1/1 [==============================] - 0s 11ms/step\n",
      "Epoch 15, gen loss=2.786548376083374,disc loss=0.8060837388038635, 0:00:12.99\n",
      "1/1 [==============================] - 0s 11ms/step\n",
      "Epoch 16, gen loss=2.749250650405884,disc loss=0.8164941072463989, 0:00:13.01\n",
      "1/1 [==============================] - 0s 11ms/step\n",
      "Epoch 17, gen loss=2.759732246398926,disc loss=0.764197587966919, 0:00:12.99\n",
      "1/1 [==============================] - 0s 11ms/step\n",
      "Epoch 18, gen loss=2.771073579788208,disc loss=0.7948620915412903, 0:00:12.98\n",
      "1/1 [==============================] - 0s 11ms/step\n",
      "Epoch 19, gen loss=2.8407540321350098,disc loss=0.7532079219818115, 0:00:13.03\n",
      "1/1 [==============================] - 0s 11ms/step\n",
      "Epoch 20, gen loss=2.7949137687683105,disc loss=0.7523971796035767, 0:00:12.98\n",
      "1/1 [==============================] - 0s 11ms/step\n",
      "Epoch 21, gen loss=2.78328275680542,disc loss=0.7292258143424988, 0:00:13.01\n",
      "1/1 [==============================] - 0s 11ms/step\n",
      "Epoch 22, gen loss=2.866974353790283,disc loss=0.7375015616416931, 0:00:13.05\n",
      "1/1 [==============================] - 0s 11ms/step\n",
      "Epoch 23, gen loss=2.91827392578125,disc loss=0.7207554578781128, 0:00:13.00\n",
      "1/1 [==============================] - 0s 11ms/step\n",
      "Epoch 24, gen loss=2.8372557163238525,disc loss=0.6477014422416687, 0:00:13.03\n",
      "1/1 [==============================] - 0s 11ms/step\n",
      "Epoch 25, gen loss=2.975149631500244,disc loss=0.6893346905708313, 0:00:13.03\n",
      "1/1 [==============================] - 0s 11ms/step\n",
      "Epoch 26, gen loss=3.045053720474243,disc loss=0.6597034335136414, 0:00:13.01\n",
      "1/1 [==============================] - 0s 11ms/step\n",
      "Epoch 27, gen loss=3.208559513092041,disc loss=0.6415531635284424, 0:00:13.07\n",
      "1/1 [==============================] - 0s 11ms/step\n",
      "Epoch 28, gen loss=3.226330041885376,disc loss=0.6165183782577515, 0:00:13.07\n",
      "1/1 [==============================] - 0s 11ms/step\n",
      "Epoch 29, gen loss=3.27321195602417,disc loss=0.6106451749801636, 0:00:13.91\n",
      "1/1 [==============================] - 0s 11ms/step\n",
      "Epoch 30, gen loss=3.141782283782959,disc loss=0.6056943535804749, 0:00:14.02\n",
      "1/1 [==============================] - 0s 11ms/step\n",
      "Epoch 31, gen loss=3.3365540504455566,disc loss=0.6013331413269043, 0:00:13.64\n",
      "1/1 [==============================] - 0s 13ms/step\n",
      "Epoch 32, gen loss=3.2615020275115967,disc loss=0.6329828500747681, 0:00:13.20\n",
      "1/1 [==============================] - 0s 11ms/step\n",
      "Epoch 33, gen loss=3.275298833847046,disc loss=0.553673505783081, 0:00:13.84\n",
      "1/1 [==============================] - 0s 11ms/step\n",
      "Epoch 34, gen loss=3.4099977016448975,disc loss=0.5760404467582703, 0:00:13.88\n",
      "1/1 [==============================] - 0s 11ms/step\n",
      "Epoch 35, gen loss=3.3777332305908203,disc loss=0.5563264489173889, 0:00:13.32\n",
      "1/1 [==============================] - 0s 11ms/step\n",
      "Epoch 36, gen loss=3.4784960746765137,disc loss=0.570096492767334, 0:00:13.41\n",
      "1/1 [==============================] - 0s 14ms/step\n",
      "Epoch 37, gen loss=3.425528049468994,disc loss=0.5954830646514893, 0:00:13.48\n",
      "1/1 [==============================] - 0s 11ms/step\n",
      "Epoch 38, gen loss=3.507960319519043,disc loss=0.5174800157546997, 0:00:13.07\n",
      "1/1 [==============================] - 0s 11ms/step\n",
      "Epoch 39, gen loss=3.672234058380127,disc loss=0.5443748831748962, 0:00:13.79\n",
      "1/1 [==============================] - 0s 11ms/step\n",
      "Epoch 40, gen loss=3.4806387424468994,disc loss=0.5549423098564148, 0:00:13.99\n",
      "1/1 [==============================] - 0s 11ms/step\n",
      "Epoch 41, gen loss=3.469528913497925,disc loss=0.5584753155708313, 0:00:13.59\n",
      "1/1 [==============================] - 0s 11ms/step\n",
      "Epoch 42, gen loss=3.526113748550415,disc loss=0.5480186939239502, 0:00:13.35\n",
      "1/1 [==============================] - 0s 11ms/step\n",
      "Epoch 43, gen loss=3.6199495792388916,disc loss=0.5451908111572266, 0:00:13.32\n",
      "1/1 [==============================] - 0s 11ms/step\n",
      "Epoch 44, gen loss=3.608027219772339,disc loss=0.5520316958427429, 0:00:15.12\n",
      "1/1 [==============================] - 0s 11ms/step\n",
      "Epoch 45, gen loss=3.6375443935394287,disc loss=0.5054047107696533, 0:00:15.90\n",
      "1/1 [==============================] - 0s 12ms/step\n",
      "Epoch 46, gen loss=3.6346707344055176,disc loss=0.5120177865028381, 0:00:15.33\n",
      "1/1 [==============================] - 0s 13ms/step\n",
      "Epoch 47, gen loss=3.677664041519165,disc loss=0.5413607358932495, 0:00:15.34\n",
      "1/1 [==============================] - 0s 13ms/step\n",
      "Epoch 48, gen loss=3.7625255584716797,disc loss=0.5073957443237305, 0:00:15.32\n",
      "1/1 [==============================] - 0s 13ms/step\n",
      "Epoch 49, gen loss=3.9256017208099365,disc loss=0.4988754391670227, 0:00:15.34\n",
      "1/1 [==============================] - 0s 12ms/step\n",
      "Epoch 50, gen loss=4.006390571594238,disc loss=0.5514014959335327, 0:00:15.51\n",
      "1/1 [==============================] - 0s 12ms/step\n",
      "Epoch 51, gen loss=3.757023811340332,disc loss=0.4977472126483917, 0:00:16.06\n",
      "1/1 [==============================] - 0s 13ms/step\n",
      "Epoch 52, gen loss=3.8106844425201416,disc loss=0.5240373015403748, 0:00:14.90\n",
      "1/1 [==============================] - 0s 11ms/step\n",
      "Epoch 53, gen loss=3.7525081634521484,disc loss=0.5146161913871765, 0:00:13.35\n",
      "1/1 [==============================] - 0s 11ms/step\n",
      "Epoch 54, gen loss=3.8264529705047607,disc loss=0.5311867594718933, 0:00:13.12\n",
      "1/1 [==============================] - 0s 13ms/step\n",
      "Epoch 55, gen loss=3.934034585952759,disc loss=0.5070403814315796, 0:00:13.32\n",
      "1/1 [==============================] - 0s 14ms/step\n",
      "Epoch 56, gen loss=3.83250093460083,disc loss=0.48996201157569885, 0:00:13.20\n",
      "1/1 [==============================] - 0s 12ms/step\n",
      "Epoch 57, gen loss=3.9828402996063232,disc loss=0.45064014196395874, 0:00:13.17\n",
      "1/1 [==============================] - 0s 12ms/step\n",
      "Epoch 58, gen loss=4.1685566902160645,disc loss=0.4189591407775879, 0:00:13.04\n",
      "1/1 [==============================] - 0s 12ms/step\n",
      "Epoch 59, gen loss=3.999598503112793,disc loss=0.46935296058654785, 0:00:13.43\n",
      "1/1 [==============================] - 0s 13ms/step\n",
      "Epoch 60, gen loss=4.179502010345459,disc loss=0.4740106761455536, 0:00:13.13\n",
      "1/1 [==============================] - 0s 12ms/step\n",
      "Epoch 61, gen loss=4.227270603179932,disc loss=0.46540260314941406, 0:00:13.05\n",
      "1/1 [==============================] - 0s 12ms/step\n",
      "Epoch 62, gen loss=4.170589923858643,disc loss=0.4588155150413513, 0:00:13.08\n",
      "1/1 [==============================] - 0s 12ms/step\n",
      "Epoch 63, gen loss=4.2336106300354,disc loss=0.4160788059234619, 0:00:13.05\n",
      "1/1 [==============================] - 0s 12ms/step\n",
      "Epoch 64, gen loss=4.225531578063965,disc loss=0.4548349380493164, 0:00:14.38\n",
      "1/1 [==============================] - 0s 12ms/step\n",
      "Epoch 65, gen loss=4.299668312072754,disc loss=0.507381796836853, 0:00:13.15\n",
      "1/1 [==============================] - 0s 12ms/step\n",
      "Epoch 66, gen loss=4.197575569152832,disc loss=0.4906604588031769, 0:00:14.50\n",
      "1/1 [==============================] - 0s 12ms/step\n",
      "Epoch 67, gen loss=4.226536273956299,disc loss=0.505695641040802, 0:00:13.05\n",
      "1/1 [==============================] - 0s 12ms/step\n",
      "Epoch 68, gen loss=4.2207722663879395,disc loss=0.43062397837638855, 0:00:13.09\n",
      "1/1 [==============================] - 0s 12ms/step\n",
      "Epoch 69, gen loss=4.263200759887695,disc loss=0.46435239911079407, 0:00:13.04\n",
      "1/1 [==============================] - 0s 11ms/step\n",
      "Epoch 70, gen loss=4.252040863037109,disc loss=0.47468820214271545, 0:00:13.06\n",
      "1/1 [==============================] - 0s 11ms/step\n",
      "Epoch 71, gen loss=4.406796455383301,disc loss=0.4574710428714752, 0:00:13.04\n",
      "1/1 [==============================] - 0s 12ms/step\n",
      "Epoch 72, gen loss=4.348110198974609,disc loss=0.4877942204475403, 0:00:13.04\n",
      "1/1 [==============================] - 0s 12ms/step\n",
      "Epoch 73, gen loss=4.274231910705566,disc loss=0.433146208524704, 0:00:13.05\n",
      "1/1 [==============================] - 0s 12ms/step\n",
      "Epoch 74, gen loss=4.3378071784973145,disc loss=0.4198095500469208, 0:00:13.05\n",
      "1/1 [==============================] - 0s 13ms/step\n",
      "Epoch 75, gen loss=4.415604114532471,disc loss=0.4522261619567871, 0:00:13.09\n",
      "1/1 [==============================] - 0s 12ms/step\n",
      "Epoch 76, gen loss=4.348458766937256,disc loss=0.45853105187416077, 0:00:13.04\n",
      "1/1 [==============================] - 0s 11ms/step\n",
      "Epoch 77, gen loss=4.4190216064453125,disc loss=0.46325448155403137, 0:00:13.05\n",
      "1/1 [==============================] - 0s 11ms/step\n",
      "Epoch 78, gen loss=4.384124755859375,disc loss=0.42147383093833923, 0:00:13.05\n",
      "1/1 [==============================] - 0s 11ms/step\n",
      "Epoch 79, gen loss=4.4679388999938965,disc loss=0.44474682211875916, 0:00:13.07\n",
      "1/1 [==============================] - 0s 11ms/step\n",
      "Epoch 80, gen loss=4.4254865646362305,disc loss=0.3928307294845581, 0:00:13.05\n",
      "1/1 [==============================] - 0s 12ms/step\n",
      "Epoch 81, gen loss=4.622617244720459,disc loss=0.39849385619163513, 0:00:13.09\n",
      "1/1 [==============================] - 0s 12ms/step\n",
      "Epoch 82, gen loss=4.582535266876221,disc loss=0.39054176211357117, 0:00:13.05\n",
      "1/1 [==============================] - 0s 13ms/step\n",
      "Epoch 83, gen loss=4.5530195236206055,disc loss=0.4142185151576996, 0:00:13.07\n",
      "1/1 [==============================] - 0s 12ms/step\n",
      "Epoch 84, gen loss=4.834233283996582,disc loss=0.39449942111968994, 0:00:13.07\n",
      "1/1 [==============================] - 0s 12ms/step\n",
      "Epoch 85, gen loss=4.807713031768799,disc loss=0.36750924587249756, 0:00:13.05\n",
      "1/1 [==============================] - 0s 11ms/step\n",
      "Epoch 86, gen loss=4.883218765258789,disc loss=0.4511087238788605, 0:00:13.05\n",
      "1/1 [==============================] - 0s 11ms/step\n",
      "Epoch 87, gen loss=4.903944969177246,disc loss=0.3997349739074707, 0:00:13.05\n",
      "1/1 [==============================] - 0s 11ms/step\n",
      "Epoch 88, gen loss=4.978326797485352,disc loss=0.35684269666671753, 0:00:13.05\n",
      "1/1 [==============================] - 0s 12ms/step\n",
      "Epoch 89, gen loss=4.980308532714844,disc loss=0.37521323561668396, 0:00:13.10\n",
      "1/1 [==============================] - 0s 12ms/step\n",
      "Epoch 90, gen loss=5.106940746307373,disc loss=0.4122946262359619, 0:00:13.07\n",
      "1/1 [==============================] - 0s 12ms/step\n",
      "Epoch 91, gen loss=5.106438636779785,disc loss=0.36328649520874023, 0:00:13.05\n",
      "1/1 [==============================] - 0s 12ms/step\n",
      "Epoch 92, gen loss=5.0663275718688965,disc loss=0.364001601934433, 0:00:13.08\n",
      "1/1 [==============================] - 0s 12ms/step\n",
      "Epoch 93, gen loss=5.135044574737549,disc loss=0.3757399916648865, 0:00:13.07\n",
      "1/1 [==============================] - 0s 12ms/step\n",
      "Epoch 94, gen loss=5.142864227294922,disc loss=0.3974246382713318, 0:00:13.05\n",
      "1/1 [==============================] - 0s 11ms/step\n",
      "Epoch 95, gen loss=5.23594331741333,disc loss=0.40002864599227905, 0:00:13.07\n",
      "1/1 [==============================] - 0s 11ms/step\n",
      "Epoch 96, gen loss=5.14456844329834,disc loss=0.35242366790771484, 0:00:13.10\n",
      "1/1 [==============================] - 0s 12ms/step\n",
      "Epoch 97, gen loss=5.11961555480957,disc loss=0.32534483075141907, 0:00:13.09\n",
      "1/1 [==============================] - 0s 12ms/step\n",
      "Epoch 98, gen loss=5.356881618499756,disc loss=0.3558036684989929, 0:00:13.05\n",
      "1/1 [==============================] - 0s 12ms/step\n",
      "Epoch 99, gen loss=5.360888957977295,disc loss=0.3713394105434418, 0:00:13.06\n",
      "1/1 [==============================] - 0s 12ms/step\n",
      "Epoch 100, gen loss=5.281268119812012,disc loss=0.38318079710006714, 0:00:13.07\n",
      "1/1 [==============================] - 0s 12ms/step\n",
      "Epoch 101, gen loss=5.294440746307373,disc loss=0.3225921392440796, 0:00:13.04\n",
      "1/1 [==============================] - 0s 11ms/step\n",
      "Epoch 102, gen loss=5.332932949066162,disc loss=0.3432247042655945, 0:00:13.07\n",
      "1/1 [==============================] - 0s 12ms/step\n",
      "Epoch 103, gen loss=5.396425247192383,disc loss=0.3497360646724701, 0:00:13.09\n",
      "1/1 [==============================] - 0s 11ms/step\n",
      "Epoch 104, gen loss=5.459076404571533,disc loss=0.3076539635658264, 0:00:13.10\n",
      "1/1 [==============================] - 0s 12ms/step\n",
      "Epoch 105, gen loss=5.489857196807861,disc loss=0.3665089011192322, 0:00:13.10\n",
      "1/1 [==============================] - 0s 13ms/step\n",
      "Epoch 106, gen loss=5.647456169128418,disc loss=0.349258154630661, 0:00:13.10\n",
      "1/1 [==============================] - 0s 13ms/step\n",
      "Epoch 107, gen loss=5.501702308654785,disc loss=0.3160019814968109, 0:00:13.07\n",
      "1/1 [==============================] - 0s 12ms/step\n",
      "Epoch 108, gen loss=5.413604736328125,disc loss=0.31792721152305603, 0:00:13.04\n",
      "1/1 [==============================] - 0s 12ms/step\n",
      "Epoch 109, gen loss=5.406100749969482,disc loss=0.32898256182670593, 0:00:13.08\n",
      "1/1 [==============================] - 0s 12ms/step\n",
      "Epoch 110, gen loss=5.5544114112854,disc loss=0.3059172034263611, 0:00:13.09\n",
      "1/1 [==============================] - 0s 12ms/step\n",
      "Epoch 111, gen loss=5.655422210693359,disc loss=0.4276728928089142, 0:00:13.04\n",
      "1/1 [==============================] - 0s 11ms/step\n",
      "Epoch 112, gen loss=5.58679723739624,disc loss=0.2839972972869873, 0:00:13.06\n",
      "1/1 [==============================] - 0s 12ms/step\n",
      "Epoch 113, gen loss=5.737505912780762,disc loss=0.3438692092895508, 0:00:13.04\n",
      "1/1 [==============================] - 0s 12ms/step\n",
      "Epoch 114, gen loss=5.8708696365356445,disc loss=0.33256709575653076, 0:00:13.10\n",
      "1/1 [==============================] - 0s 12ms/step\n",
      "Epoch 115, gen loss=5.781619071960449,disc loss=0.26692068576812744, 0:00:13.06\n",
      "1/1 [==============================] - 0s 12ms/step\n",
      "Epoch 116, gen loss=5.938828945159912,disc loss=0.30717772245407104, 0:00:13.10\n",
      "1/1 [==============================] - 0s 12ms/step\n",
      "Epoch 117, gen loss=6.117490291595459,disc loss=0.3523850440979004, 0:00:13.07\n",
      "1/1 [==============================] - 0s 12ms/step\n",
      "Epoch 118, gen loss=5.891939163208008,disc loss=0.2955990731716156, 0:00:13.04\n",
      "1/1 [==============================] - 0s 11ms/step\n",
      "Epoch 119, gen loss=5.75514554977417,disc loss=0.29408448934555054, 0:00:13.04\n",
      "1/1 [==============================] - 0s 11ms/step\n",
      "Epoch 120, gen loss=5.900735855102539,disc loss=0.3066253066062927, 0:00:13.09\n",
      "1/1 [==============================] - 0s 12ms/step\n",
      "Epoch 121, gen loss=6.0100998878479,disc loss=0.31195133924484253, 0:00:13.04\n",
      "1/1 [==============================] - 0s 12ms/step\n",
      "Epoch 122, gen loss=6.146938323974609,disc loss=0.30412566661834717, 0:00:13.07\n",
      "1/1 [==============================] - 0s 12ms/step\n",
      "Epoch 123, gen loss=6.180113792419434,disc loss=0.2865186929702759, 0:00:13.05\n",
      "1/1 [==============================] - 0s 12ms/step\n",
      "Epoch 124, gen loss=5.9070868492126465,disc loss=0.2690683901309967, 0:00:13.10\n",
      "1/1 [==============================] - 0s 12ms/step\n",
      "Epoch 125, gen loss=6.099062442779541,disc loss=0.2882190942764282, 0:00:13.05\n",
      "1/1 [==============================] - 0s 12ms/step\n",
      "Epoch 126, gen loss=6.197558879852295,disc loss=0.29822224378585815, 0:00:13.10\n",
      "1/1 [==============================] - 0s 11ms/step\n",
      "Epoch 127, gen loss=6.144775867462158,disc loss=0.2834579646587372, 0:00:13.07\n",
      "1/1 [==============================] - 0s 11ms/step\n",
      "Epoch 128, gen loss=6.495957851409912,disc loss=0.25938040018081665, 0:00:13.06\n",
      "1/1 [==============================] - 0s 12ms/step\n",
      "Epoch 129, gen loss=6.467565059661865,disc loss=0.24554617702960968, 0:00:13.07\n",
      "1/1 [==============================] - 0s 12ms/step\n",
      "Epoch 130, gen loss=6.391080379486084,disc loss=0.23547860980033875, 0:00:13.07\n",
      "1/1 [==============================] - 0s 12ms/step\n",
      "Epoch 131, gen loss=6.359523773193359,disc loss=0.24871468544006348, 0:00:13.10\n",
      "1/1 [==============================] - 0s 12ms/step\n",
      "Epoch 132, gen loss=6.897474765777588,disc loss=0.27440521121025085, 0:00:13.07\n",
      "1/1 [==============================] - 0s 12ms/step\n",
      "Epoch 133, gen loss=6.600121021270752,disc loss=0.20167018473148346, 0:00:13.07\n",
      "1/1 [==============================] - 0s 11ms/step\n",
      "Epoch 134, gen loss=6.649635314941406,disc loss=0.293494313955307, 0:00:13.05\n",
      "1/1 [==============================] - 0s 11ms/step\n",
      "Epoch 135, gen loss=6.827519416809082,disc loss=0.3478234112262726, 0:00:13.10\n",
      "1/1 [==============================] - 0s 11ms/step\n",
      "Epoch 136, gen loss=6.4161458015441895,disc loss=0.21983368694782257, 0:00:13.05\n",
      "1/1 [==============================] - 0s 12ms/step\n",
      "Epoch 137, gen loss=6.546666622161865,disc loss=0.28468695282936096, 0:00:13.10\n",
      "1/1 [==============================] - 0s 13ms/step\n",
      "Epoch 138, gen loss=6.464390277862549,disc loss=0.2579289376735687, 0:00:13.07\n",
      "1/1 [==============================] - 0s 12ms/step\n",
      "Epoch 139, gen loss=6.574089527130127,disc loss=0.27313241362571716, 0:00:13.05\n",
      "1/1 [==============================] - 0s 12ms/step\n",
      "Epoch 140, gen loss=6.6436944007873535,disc loss=0.2567475438117981, 0:00:13.10\n",
      "1/1 [==============================] - 0s 12ms/step\n",
      "Epoch 141, gen loss=6.754757881164551,disc loss=0.2950306832790375, 0:00:13.05\n",
      "1/1 [==============================] - 0s 12ms/step\n",
      "Epoch 142, gen loss=6.817434787750244,disc loss=0.22453032433986664, 0:00:13.05\n",
      "1/1 [==============================] - 0s 11ms/step\n",
      "Epoch 143, gen loss=6.8246169090271,disc loss=0.23154480755329132, 0:00:13.07\n",
      "1/1 [==============================] - 0s 11ms/step\n",
      "Epoch 144, gen loss=6.964367389678955,disc loss=0.28433337807655334, 0:00:13.07\n",
      "1/1 [==============================] - 0s 12ms/step\n",
      "Epoch 145, gen loss=6.680044174194336,disc loss=0.21009580790996552, 0:00:13.10\n",
      "1/1 [==============================] - 0s 12ms/step\n",
      "Epoch 146, gen loss=7.073094367980957,disc loss=0.28501221537590027, 0:00:13.05\n",
      "1/1 [==============================] - 0s 12ms/step\n",
      "Epoch 147, gen loss=7.073101043701172,disc loss=0.2728891670703888, 0:00:13.04\n",
      "1/1 [==============================] - 0s 12ms/step\n",
      "Epoch 148, gen loss=7.201391696929932,disc loss=0.21146336197853088, 0:00:13.10\n",
      "1/1 [==============================] - 0s 12ms/step\n",
      "Epoch 149, gen loss=7.053856372833252,disc loss=0.24721959233283997, 0:00:13.07\n",
      "1/1 [==============================] - 0s 12ms/step\n",
      "Epoch 150, gen loss=7.2006096839904785,disc loss=0.2102208435535431, 0:00:13.09\n",
      "1/1 [==============================] - 0s 11ms/step\n",
      "Epoch 151, gen loss=7.248575210571289,disc loss=0.22076429426670074, 0:00:13.10\n",
      "1/1 [==============================] - 0s 11ms/step\n",
      "Epoch 152, gen loss=7.209935665130615,disc loss=0.2300027310848236, 0:00:13.09\n",
      "1/1 [==============================] - 0s 12ms/step\n",
      "Epoch 153, gen loss=7.396041393280029,disc loss=0.2051633596420288, 0:00:13.07\n",
      "1/1 [==============================] - 0s 12ms/step\n",
      "Epoch 154, gen loss=7.35405969619751,disc loss=0.20538583397865295, 0:00:13.05\n",
      "1/1 [==============================] - 0s 12ms/step\n",
      "Epoch 155, gen loss=7.90587043762207,disc loss=0.24671991169452667, 0:00:13.05\n",
      "1/1 [==============================] - 0s 12ms/step\n",
      "Epoch 156, gen loss=7.556415557861328,disc loss=0.19977258145809174, 0:00:13.05\n",
      "1/1 [==============================] - 0s 12ms/step\n",
      "Epoch 157, gen loss=7.98700475692749,disc loss=0.20676447451114655, 0:00:13.07\n",
      "1/1 [==============================] - 0s 12ms/step\n",
      "Epoch 158, gen loss=8.070150375366211,disc loss=0.190114825963974, 0:00:13.07\n",
      "1/1 [==============================] - 0s 11ms/step\n",
      "Epoch 159, gen loss=7.909961223602295,disc loss=0.1619085818529129, 0:00:13.10\n",
      "1/1 [==============================] - 0s 11ms/step\n",
      "Epoch 160, gen loss=8.246203422546387,disc loss=0.22822318971157074, 0:00:13.05\n",
      "1/1 [==============================] - 0s 12ms/step\n",
      "Epoch 161, gen loss=8.361926078796387,disc loss=0.21527457237243652, 0:00:13.07\n",
      "1/1 [==============================] - 0s 12ms/step\n",
      "Epoch 162, gen loss=8.011969566345215,disc loss=0.1610238403081894, 0:00:13.07\n",
      "1/1 [==============================] - 0s 12ms/step\n",
      "Epoch 163, gen loss=8.319070816040039,disc loss=0.18057462573051453, 0:00:13.10\n",
      "1/1 [==============================] - 0s 12ms/step\n",
      "Epoch 164, gen loss=8.387450218200684,disc loss=0.18363285064697266, 0:00:13.07\n",
      "1/1 [==============================] - 0s 12ms/step\n",
      "Epoch 165, gen loss=8.4523344039917,disc loss=0.2684612572193146, 0:00:13.04\n",
      "1/1 [==============================] - 0s 12ms/step\n",
      "Epoch 166, gen loss=8.287012100219727,disc loss=0.16263455152511597, 0:00:13.05\n",
      "1/1 [==============================] - 0s 11ms/step\n",
      "Epoch 167, gen loss=8.644012451171875,disc loss=0.20640139281749725, 0:00:13.05\n",
      "1/1 [==============================] - 0s 11ms/step\n",
      "Epoch 168, gen loss=8.757597923278809,disc loss=0.19626283645629883, 0:00:13.10\n",
      "1/1 [==============================] - 0s 12ms/step\n",
      "Epoch 169, gen loss=8.146312713623047,disc loss=0.19039465487003326, 0:00:13.07\n",
      "1/1 [==============================] - 0s 12ms/step\n",
      "Epoch 170, gen loss=8.279051780700684,disc loss=0.17150281369686127, 0:00:13.07\n",
      "1/1 [==============================] - 0s 12ms/step\n",
      "Epoch 171, gen loss=8.32300090789795,disc loss=0.19105128943920135, 0:00:13.08\n",
      "1/1 [==============================] - 0s 12ms/step\n",
      "Epoch 172, gen loss=8.460840225219727,disc loss=0.1523052155971527, 0:00:13.04\n",
      "1/1 [==============================] - 0s 12ms/step\n",
      "Epoch 173, gen loss=8.635170936584473,disc loss=0.183590829372406, 0:00:13.09\n",
      "1/1 [==============================] - 0s 12ms/step\n",
      "Epoch 174, gen loss=9.334542274475098,disc loss=0.19961999356746674, 0:00:13.06\n",
      "1/1 [==============================] - 0s 11ms/step\n",
      "Epoch 175, gen loss=9.303057670593262,disc loss=0.2092607617378235, 0:00:13.06\n",
      "1/1 [==============================] - 0s 11ms/step\n",
      "Epoch 176, gen loss=8.930315971374512,disc loss=0.09703044593334198, 0:00:13.05\n",
      "1/1 [==============================] - 0s 12ms/step\n",
      "Epoch 177, gen loss=9.786030769348145,disc loss=0.13372203707695007, 0:00:13.10\n",
      "1/1 [==============================] - 0s 12ms/step\n",
      "Epoch 178, gen loss=9.658792495727539,disc loss=0.12807872891426086, 0:00:13.06\n",
      "1/1 [==============================] - 0s 12ms/step\n",
      "Epoch 179, gen loss=9.919232368469238,disc loss=0.14895373582839966, 0:00:13.06\n",
      "1/1 [==============================] - 0s 12ms/step\n",
      "Epoch 180, gen loss=10.05653190612793,disc loss=0.1579250693321228, 0:00:13.05\n",
      "1/1 [==============================] - 0s 12ms/step\n",
      "Epoch 181, gen loss=9.756455421447754,disc loss=0.10867103189229965, 0:00:13.05\n",
      "1/1 [==============================] - 0s 11ms/step\n",
      "Epoch 182, gen loss=9.548855781555176,disc loss=0.15098349750041962, 0:00:13.04\n",
      "1/1 [==============================] - 0s 11ms/step\n",
      "Epoch 183, gen loss=10.261649131774902,disc loss=0.1378965526819229, 0:00:13.04\n",
      "1/1 [==============================] - 0s 11ms/step\n",
      "Epoch 184, gen loss=11.062216758728027,disc loss=0.26492536067962646, 0:00:13.09\n",
      "1/1 [==============================] - 0s 12ms/step\n",
      "Epoch 185, gen loss=10.115214347839355,disc loss=0.18499231338500977, 0:00:13.09\n",
      "1/1 [==============================] - 0s 12ms/step\n",
      "Epoch 186, gen loss=10.315157890319824,disc loss=0.08850201964378357, 0:00:13.09\n",
      "1/1 [==============================] - 0s 12ms/step\n",
      "Epoch 187, gen loss=10.47024917602539,disc loss=0.06302452832460403, 0:00:13.05\n",
      "1/1 [==============================] - 0s 12ms/step\n",
      "Epoch 188, gen loss=11.798501968383789,disc loss=0.16049008071422577, 0:00:13.05\n",
      "1/1 [==============================] - 0s 12ms/step\n",
      "Epoch 189, gen loss=10.87582778930664,disc loss=0.0800788626074791, 0:00:13.05\n",
      "1/1 [==============================] - 0s 12ms/step\n",
      "Epoch 190, gen loss=10.398995399475098,disc loss=0.15391843020915985, 0:00:13.10\n",
      "1/1 [==============================] - 0s 11ms/step\n",
      "Epoch 191, gen loss=9.71471881866455,disc loss=0.08585906773805618, 0:00:13.06\n",
      "1/1 [==============================] - 0s 11ms/step\n",
      "Epoch 192, gen loss=11.643085479736328,disc loss=0.20418837666511536, 0:00:13.06\n",
      "1/1 [==============================] - 0s 12ms/step\n",
      "Epoch 193, gen loss=10.299781799316406,disc loss=0.11195922642946243, 0:00:13.09\n",
      "1/1 [==============================] - 0s 13ms/step\n",
      "Epoch 194, gen loss=10.889641761779785,disc loss=0.16054557263851166, 0:00:13.06\n",
      "1/1 [==============================] - 0s 13ms/step\n",
      "Epoch 195, gen loss=10.009346008300781,disc loss=0.13822704553604126, 0:00:13.04\n",
      "1/1 [==============================] - 0s 12ms/step\n",
      "Epoch 196, gen loss=10.392008781433105,disc loss=0.19932113587856293, 0:00:13.09\n",
      "1/1 [==============================] - 0s 12ms/step\n",
      "Epoch 197, gen loss=10.332008361816406,disc loss=0.06678543984889984, 0:00:13.04\n",
      "1/1 [==============================] - 0s 11ms/step\n",
      "Epoch 198, gen loss=10.631023406982422,disc loss=0.15190336108207703, 0:00:13.06\n",
      "1/1 [==============================] - 0s 11ms/step\n",
      "Epoch 199, gen loss=11.153443336486816,disc loss=0.1526126265525818, 0:00:13.06\n",
      "1/1 [==============================] - 0s 11ms/step\n",
      "Epoch 200, gen loss=10.813183784484863,disc loss=0.12005171179771423, 0:00:13.09\n",
      "1/1 [==============================] - 0s 12ms/step\n",
      "Epoch 201, gen loss=10.425432205200195,disc loss=0.1083008348941803, 0:00:13.05\n",
      "1/1 [==============================] - 0s 12ms/step\n",
      "Epoch 202, gen loss=12.297829627990723,disc loss=0.19895672798156738, 0:00:13.04\n",
      "1/1 [==============================] - 0s 12ms/step\n",
      "Epoch 203, gen loss=10.611693382263184,disc loss=0.09773368388414383, 0:00:13.09\n",
      "1/1 [==============================] - 0s 12ms/step\n",
      "Epoch 204, gen loss=11.087854385375977,disc loss=0.15558497607707977, 0:00:13.09\n",
      "1/1 [==============================] - 0s 12ms/step\n",
      "Epoch 205, gen loss=11.01950454711914,disc loss=0.16991761326789856, 0:00:13.04\n",
      "1/1 [==============================] - 0s 11ms/step\n",
      "Epoch 206, gen loss=12.24497127532959,disc loss=0.13153176009655, 0:00:13.04\n",
      "1/1 [==============================] - 0s 11ms/step\n",
      "Epoch 207, gen loss=12.219018936157227,disc loss=0.13001354038715363, 0:00:13.10\n",
      "1/1 [==============================] - 0s 11ms/step\n",
      "Epoch 208, gen loss=10.110811233520508,disc loss=0.054737526923418045, 0:00:13.04\n",
      "1/1 [==============================] - 0s 12ms/step\n",
      "Epoch 209, gen loss=13.694755554199219,disc loss=0.18962059915065765, 0:00:13.04\n",
      "1/1 [==============================] - 0s 12ms/step\n",
      "Epoch 210, gen loss=11.369172096252441,disc loss=0.04979566112160683, 0:00:13.04\n",
      "1/1 [==============================] - 0s 12ms/step\n",
      "Epoch 211, gen loss=11.289764404296875,disc loss=0.0728837177157402, 0:00:13.10\n",
      "1/1 [==============================] - 0s 13ms/step\n",
      "Epoch 212, gen loss=12.805547714233398,disc loss=0.10362879186868668, 0:00:13.04\n",
      "1/1 [==============================] - 0s 12ms/step\n",
      "Epoch 213, gen loss=13.288949966430664,disc loss=0.046150606125593185, 0:00:13.06\n",
      "1/1 [==============================] - 0s 11ms/step\n",
      "Epoch 214, gen loss=13.724432945251465,disc loss=0.04977536201477051, 0:00:13.09\n",
      "1/1 [==============================] - 0s 11ms/step\n",
      "Epoch 215, gen loss=13.40893268585205,disc loss=0.1657034307718277, 0:00:13.06\n",
      "1/1 [==============================] - 0s 11ms/step\n",
      "Epoch 216, gen loss=12.975564002990723,disc loss=0.12562359869480133, 0:00:13.09\n",
      "1/1 [==============================] - 0s 12ms/step\n",
      "Epoch 217, gen loss=13.50551986694336,disc loss=0.12127692252397537, 0:00:13.10\n",
      "1/1 [==============================] - 0s 13ms/step\n",
      "Epoch 218, gen loss=12.275259971618652,disc loss=0.21295695006847382, 0:00:13.05\n",
      "1/1 [==============================] - 0s 12ms/step\n",
      "Epoch 219, gen loss=11.535125732421875,disc loss=0.05564393103122711, 0:00:13.09\n",
      "1/1 [==============================] - 0s 12ms/step\n",
      "Epoch 220, gen loss=11.752510070800781,disc loss=0.10180330276489258, 0:00:13.04\n",
      "1/1 [==============================] - 0s 12ms/step\n",
      "Epoch 221, gen loss=13.138235092163086,disc loss=0.1339891105890274, 0:00:13.04\n",
      "1/1 [==============================] - 0s 11ms/step\n",
      "Epoch 222, gen loss=12.055444717407227,disc loss=0.10461217164993286, 0:00:13.07\n",
      "1/1 [==============================] - 0s 12ms/step\n",
      "Epoch 223, gen loss=13.004044532775879,disc loss=0.10267715156078339, 0:00:13.04\n",
      "1/1 [==============================] - 0s 11ms/step\n",
      "Epoch 224, gen loss=11.591479301452637,disc loss=0.08312194049358368, 0:00:13.04\n",
      "1/1 [==============================] - 0s 12ms/step\n",
      "Epoch 225, gen loss=11.27458381652832,disc loss=0.07760775089263916, 0:00:13.04\n",
      "1/1 [==============================] - 0s 12ms/step\n",
      "Epoch 226, gen loss=13.877432823181152,disc loss=0.18786457180976868, 0:00:13.04\n",
      "1/1 [==============================] - 0s 12ms/step\n",
      "Epoch 227, gen loss=10.439151763916016,disc loss=0.04818025231361389, 0:00:13.04\n",
      "1/1 [==============================] - 0s 12ms/step\n",
      "Epoch 228, gen loss=12.85930347442627,disc loss=0.12271859496831894, 0:00:13.09\n",
      "1/1 [==============================] - 0s 12ms/step\n",
      "Epoch 229, gen loss=12.713537216186523,disc loss=0.20876385271549225, 0:00:13.09\n",
      "1/1 [==============================] - 0s 12ms/step\n",
      "Epoch 230, gen loss=13.854089736938477,disc loss=0.184296652674675, 0:00:13.08\n",
      "1/1 [==============================] - 0s 12ms/step\n",
      "Epoch 231, gen loss=11.228525161743164,disc loss=0.0786156877875328, 0:00:13.05\n",
      "1/1 [==============================] - 0s 11ms/step\n",
      "Epoch 232, gen loss=10.796724319458008,disc loss=0.0509507916867733, 0:00:13.09\n",
      "1/1 [==============================] - 0s 12ms/step\n",
      "Epoch 233, gen loss=12.060990333557129,disc loss=0.11539725959300995, 0:00:13.07\n",
      "1/1 [==============================] - 0s 12ms/step\n",
      "Epoch 234, gen loss=12.007630348205566,disc loss=0.20195697247982025, 0:00:13.05\n",
      "1/1 [==============================] - 0s 12ms/step\n",
      "Epoch 235, gen loss=11.165645599365234,disc loss=0.06739465147256851, 0:00:13.05\n",
      "1/1 [==============================] - 0s 12ms/step\n",
      "Epoch 236, gen loss=12.301563262939453,disc loss=0.10771625488996506, 0:00:13.04\n",
      "1/1 [==============================] - 0s 12ms/step\n",
      "Epoch 237, gen loss=13.163165092468262,disc loss=0.145554780960083, 0:00:13.04\n",
      "1/1 [==============================] - 0s 12ms/step\n",
      "Epoch 238, gen loss=13.227603912353516,disc loss=0.18126443028450012, 0:00:13.08\n",
      "1/1 [==============================] - 0s 11ms/step\n",
      "Epoch 239, gen loss=12.06162166595459,disc loss=0.11445102095603943, 0:00:13.04\n",
      "1/1 [==============================] - 0s 11ms/step\n",
      "Epoch 240, gen loss=11.976621627807617,disc loss=0.057261042296886444, 0:00:13.04\n",
      "1/1 [==============================] - 0s 13ms/step\n",
      "Epoch 241, gen loss=11.77076244354248,disc loss=0.05287491902709007, 0:00:13.04\n",
      "1/1 [==============================] - 0s 12ms/step\n",
      "Epoch 242, gen loss=13.011338233947754,disc loss=0.17129306495189667, 0:00:13.06\n",
      "1/1 [==============================] - 0s 12ms/step\n",
      "Epoch 243, gen loss=12.680538177490234,disc loss=0.13375388085842133, 0:00:13.09\n",
      "1/1 [==============================] - 0s 12ms/step\n",
      "Epoch 244, gen loss=12.840066909790039,disc loss=0.1689213067293167, 0:00:13.06\n",
      "1/1 [==============================] - 0s 12ms/step\n",
      "Epoch 245, gen loss=11.325237274169922,disc loss=0.0883912742137909, 0:00:13.06\n",
      "1/1 [==============================] - 0s 12ms/step\n",
      "Epoch 246, gen loss=11.574296951293945,disc loss=0.1385016292333603, 0:00:13.09\n",
      "1/1 [==============================] - 0s 11ms/step\n",
      "Epoch 247, gen loss=11.593811988830566,disc loss=0.0827760323882103, 0:00:13.06\n",
      "1/1 [==============================] - 0s 12ms/step\n",
      "Epoch 248, gen loss=11.752638816833496,disc loss=0.08299309760332108, 0:00:13.09\n",
      "1/1 [==============================] - 0s 12ms/step\n",
      "Epoch 249, gen loss=11.788187026977539,disc loss=0.09250130504369736, 0:00:13.06\n",
      "1/1 [==============================] - 0s 12ms/step\n",
      "Epoch 250, gen loss=11.548964500427246,disc loss=0.12786567211151123, 0:00:13.09\n",
      "1/1 [==============================] - 0s 12ms/step\n",
      "Epoch 251, gen loss=10.735076904296875,disc loss=0.09349136054515839, 0:00:13.07\n",
      "1/1 [==============================] - 0s 12ms/step\n",
      "Epoch 252, gen loss=13.294402122497559,disc loss=0.1883074790239334, 0:00:13.09\n",
      "1/1 [==============================] - 0s 12ms/step\n",
      "Epoch 253, gen loss=13.652606964111328,disc loss=0.19875451922416687, 0:00:13.09\n",
      "1/1 [==============================] - 0s 12ms/step\n",
      "Epoch 254, gen loss=12.846389770507812,disc loss=0.14619934558868408, 0:00:13.06\n",
      "1/1 [==============================] - 0s 11ms/step\n",
      "Epoch 255, gen loss=10.90468692779541,disc loss=0.08785518258810043, 0:00:13.06\n",
      "1/1 [==============================] - 0s 11ms/step\n",
      "Epoch 256, gen loss=12.372794151306152,disc loss=0.09880844503641129, 0:00:13.09\n",
      "1/1 [==============================] - 0s 12ms/step\n",
      "Epoch 257, gen loss=11.978325843811035,disc loss=0.0722581148147583, 0:00:13.09\n",
      "1/1 [==============================] - 0s 12ms/step\n",
      "Epoch 258, gen loss=10.800753593444824,disc loss=0.04756570979952812, 0:00:13.06\n",
      "1/1 [==============================] - 0s 12ms/step\n",
      "Epoch 259, gen loss=11.711329460144043,disc loss=0.06540392339229584, 0:00:13.06\n",
      "1/1 [==============================] - 0s 12ms/step\n",
      "Epoch 260, gen loss=11.657468795776367,disc loss=0.049598999321460724, 0:00:13.04\n",
      "1/1 [==============================] - 0s 12ms/step\n",
      "Epoch 261, gen loss=14.831183433532715,disc loss=0.40067172050476074, 0:00:13.04\n",
      "1/1 [==============================] - 0s 12ms/step\n",
      "Epoch 262, gen loss=13.92469596862793,disc loss=0.10280707478523254, 0:00:13.06\n",
      "1/1 [==============================] - 0s 11ms/step\n",
      "Epoch 263, gen loss=12.704415321350098,disc loss=0.033903732895851135, 0:00:13.09\n",
      "1/1 [==============================] - 0s 11ms/step\n",
      "Epoch 264, gen loss=13.264204025268555,disc loss=0.13645786046981812, 0:00:13.09\n",
      "1/1 [==============================] - 0s 12ms/step\n",
      "Epoch 265, gen loss=11.690683364868164,disc loss=0.06305843591690063, 0:00:13.07\n",
      "1/1 [==============================] - 0s 12ms/step\n",
      "Epoch 266, gen loss=12.508599281311035,disc loss=0.07974589616060257, 0:00:13.07\n",
      "1/1 [==============================] - 0s 12ms/step\n",
      "Epoch 267, gen loss=11.011908531188965,disc loss=0.050327710807323456, 0:00:13.04\n",
      "1/1 [==============================] - 0s 12ms/step\n",
      "Epoch 268, gen loss=14.26305866241455,disc loss=0.19544853270053864, 0:00:13.06\n",
      "1/1 [==============================] - 0s 12ms/step\n",
      "Epoch 269, gen loss=11.440905570983887,disc loss=0.08802909404039383, 0:00:13.04\n",
      "1/1 [==============================] - 0s 12ms/step\n",
      "Epoch 270, gen loss=11.895003318786621,disc loss=0.09415767341852188, 0:00:13.08\n",
      "1/1 [==============================] - 0s 12ms/step\n",
      "Epoch 271, gen loss=12.12955093383789,disc loss=0.1177707239985466, 0:00:13.08\n",
      "1/1 [==============================] - 0s 11ms/step\n",
      "Epoch 272, gen loss=12.382835388183594,disc loss=0.08741038292646408, 0:00:13.06\n",
      "1/1 [==============================] - 0s 12ms/step\n",
      "Epoch 273, gen loss=13.580196380615234,disc loss=0.050246868282556534, 0:00:13.09\n",
      "1/1 [==============================] - 0s 12ms/step\n",
      "Epoch 274, gen loss=13.387803077697754,disc loss=0.14864525198936462, 0:00:13.07\n",
      "1/1 [==============================] - 0s 12ms/step\n",
      "Epoch 275, gen loss=11.158487319946289,disc loss=0.04961426556110382, 0:00:13.06\n",
      "1/1 [==============================] - 0s 12ms/step\n",
      "Epoch 276, gen loss=14.179845809936523,disc loss=0.16795699298381805, 0:00:13.03\n",
      "1/1 [==============================] - 0s 12ms/step\n",
      "Epoch 277, gen loss=12.619019508361816,disc loss=0.07593895494937897, 0:00:13.04\n",
      "1/1 [==============================] - 0s 12ms/step\n",
      "Epoch 278, gen loss=11.899187088012695,disc loss=0.08758113533258438, 0:00:13.07\n",
      "1/1 [==============================] - 0s 11ms/step\n",
      "Epoch 279, gen loss=13.148280143737793,disc loss=0.15213556587696075, 0:00:13.06\n",
      "1/1 [==============================] - 0s 11ms/step\n",
      "Epoch 280, gen loss=11.097077369689941,disc loss=0.07932432740926743, 0:00:13.04\n",
      "1/1 [==============================] - 0s 12ms/step\n",
      "Epoch 281, gen loss=11.410235404968262,disc loss=0.04265212640166283, 0:00:13.08\n",
      "1/1 [==============================] - 0s 13ms/step\n",
      "Epoch 282, gen loss=12.766059875488281,disc loss=0.0742509663105011, 0:00:13.06\n",
      "1/1 [==============================] - 0s 12ms/step\n",
      "Epoch 283, gen loss=13.80692195892334,disc loss=0.17408502101898193, 0:00:13.08\n",
      "1/1 [==============================] - 0s 12ms/step\n",
      "Epoch 284, gen loss=13.265399932861328,disc loss=0.0817677453160286, 0:00:13.04\n",
      "1/1 [==============================] - 0s 12ms/step\n",
      "Epoch 285, gen loss=12.521852493286133,disc loss=0.10144228488206863, 0:00:13.04\n",
      "1/1 [==============================] - 0s 12ms/step\n",
      "Epoch 286, gen loss=13.605116844177246,disc loss=0.08070788532495499, 0:00:13.09\n",
      "1/1 [==============================] - 0s 11ms/step\n",
      "Epoch 287, gen loss=12.314254760742188,disc loss=0.08615373820066452, 0:00:13.09\n",
      "1/1 [==============================] - 0s 11ms/step\n",
      "Epoch 288, gen loss=11.135748863220215,disc loss=0.037839554250240326, 0:00:13.05\n",
      "1/1 [==============================] - 0s 12ms/step\n",
      "Epoch 289, gen loss=13.880206108093262,disc loss=0.1552380621433258, 0:00:13.09\n",
      "1/1 [==============================] - 0s 12ms/step\n",
      "Epoch 290, gen loss=11.64188003540039,disc loss=0.06581895053386688, 0:00:13.04\n",
      "1/1 [==============================] - 0s 12ms/step\n",
      "Epoch 291, gen loss=11.974663734436035,disc loss=0.037524450570344925, 0:00:13.05\n",
      "1/1 [==============================] - 0s 12ms/step\n",
      "Epoch 292, gen loss=12.988489151000977,disc loss=0.04317554086446762, 0:00:13.06\n",
      "1/1 [==============================] - 0s 12ms/step\n",
      "Epoch 293, gen loss=14.050808906555176,disc loss=0.06868229061365128, 0:00:13.06\n",
      "1/1 [==============================] - 0s 12ms/step\n",
      "Epoch 294, gen loss=11.683494567871094,disc loss=0.04501345381140709, 0:00:13.05\n",
      "1/1 [==============================] - 0s 11ms/step\n",
      "Epoch 295, gen loss=12.104013442993164,disc loss=0.16836999356746674, 0:00:13.09\n",
      "1/1 [==============================] - 0s 11ms/step\n",
      "Epoch 296, gen loss=13.459460258483887,disc loss=0.23879070580005646, 0:00:13.09\n",
      "1/1 [==============================] - 0s 12ms/step\n",
      "Epoch 297, gen loss=11.94544506072998,disc loss=0.12965326011180878, 0:00:13.09\n",
      "1/1 [==============================] - 0s 13ms/step\n",
      "Epoch 298, gen loss=12.433107376098633,disc loss=0.11868292093276978, 0:00:13.07\n",
      "1/1 [==============================] - 0s 12ms/step\n",
      "Epoch 299, gen loss=14.151516914367676,disc loss=0.16975900530815125, 0:00:13.09\n",
      "1/1 [==============================] - 0s 12ms/step\n",
      "Epoch 300, gen loss=13.14588737487793,disc loss=0.06652931123971939, 0:00:13.09\n",
      "1/1 [==============================] - 0s 12ms/step\n",
      "Training time: 1:06:38.73\n"
     ]
    }
   ],
   "source": [
    "train(train_dataset, 300)"
   ],
   "metadata": {
    "collapsed": false,
    "pycharm": {
     "name": "#%%\n"
    }
   }
  },
  {
   "cell_type": "code",
   "execution_count": 17,
   "outputs": [
    {
     "name": "stdout",
     "output_type": "stream",
     "text": [
      "WARNING:tensorflow:Compiled the loaded model, but the compiled metrics have yet to be built. `model.compile_metrics` will be empty until you train or evaluate the model.\n"
     ]
    }
   ],
   "source": [
    "generator.save(os.path.join(DATA_PATH,\"face_generator_128.h5\"))"
   ],
   "metadata": {
    "collapsed": false,
    "pycharm": {
     "name": "#%%\n"
    }
   }
  },
  {
   "cell_type": "code",
   "execution_count": 91,
   "outputs": [
    {
     "data": {
      "text/plain": "[]"
     },
     "execution_count": 91,
     "metadata": {},
     "output_type": "execute_result"
    }
   ],
   "source": [
    "generator.metrics"
   ],
   "metadata": {
    "collapsed": false,
    "pycharm": {
     "name": "#%%\n"
    }
   }
  },
  {
   "cell_type": "code",
   "execution_count": 21,
   "outputs": [
    {
     "data": {
      "text/plain": "<matplotlib.image.AxesImage at 0x7fe7b277b760>"
     },
     "execution_count": 21,
     "metadata": {},
     "output_type": "execute_result"
    },
    {
     "data": {
      "text/plain": "<Figure size 432x288 with 1 Axes>",
      "image/png": "[encoded data removed]"
     },
     "metadata": {
      "needs_background": "light"
     },
     "output_type": "display_data"
    }
   ],
   "source": [
    "plt.imshow(generator(noise,training=False)[0, :, :, 0])\n"
   ],
   "metadata": {
    "collapsed": false,
    "pycharm": {
     "name": "#%%\n"
    }
   }
  },
  {
   "cell_type": "code",
   "execution_count": null,
   "outputs": [],
   "source": [
    "generator"
   ],
   "metadata": {
    "collapsed": false,
    "pycharm": {
     "name": "#%%\n",
     "is_executing": true
    }
   }
  },
  {
   "cell_type": "code",
   "execution_count": 21,
   "outputs": [],
   "source": [],
   "metadata": {
    "collapsed": false,
    "pycharm": {
     "name": "#%%\n"
    }
   }
  }
 ],
 "metadata": {
  "kernelspec": {
   "name": "conda-env-cudnn-2-py",
   "language": "python",
   "display_name": "Python [conda env:cudnn-2]"
  },
  "language_info": {
   "codemirror_mode": {
    "name": "ipython",
    "version": 2
   },
   "file_extension": ".py",
   "mimetype": "text/x-python",
   "name": "python",
   "nbconvert_exporter": "python",
   "pygments_lexer": "ipython2",
   "version": "2.7.6"
  }
 },
 "nbformat": 4,
 "nbformat_minor": 0
}