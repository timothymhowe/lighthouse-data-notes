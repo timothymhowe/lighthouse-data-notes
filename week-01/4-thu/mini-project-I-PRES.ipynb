{
 "cells": [
  {
   "cell_type": "markdown",
   "metadata": {
    "pycharm": {
     "name": "#%% md\n"
    },
    "slideshow": {
     "slide_type": "slide"
    }
   },
   "source": [
    "# Mini-Project I\n",
    "### Presentation"
   ]
  },
  {
   "cell_type": "code",
   "execution_count": 25,
   "metadata": {
    "pycharm": {
     "name": "#%%\n"
    },
    "slideshow": {
     "slide_type": "skip"
    }
   },
   "outputs": [],
   "source": [
    "import requests\n",
    "import os\n",
    "import json\n",
    "import html"
   ]
  },
  {
   "cell_type": "code",
   "execution_count": 26,
   "metadata": {
    "pycharm": {
     "name": "#%%\n"
    },
    "slideshow": {
     "slide_type": "skip"
    }
   },
   "outputs": [],
   "source": [
    "prim = \"\"\n",
    "sec = \"\"\n",
    "with open(\"/home/thowe/temp-keys/tfl-primary\") as f:\n",
    "    prim = f.read()\n",
    "    f.close()\n",
    "    \n",
    "    \n",
    "with open(\"/home/thowe/temp-keys/tfl-secondary\") as f:\n",
    "    sec = f.read()\n",
    "    f.close()\n",
    "    \n"
   ]
  },
  {
   "cell_type": "markdown",
   "metadata": {
    "pycharm": {
     "name": "#%% md\n"
    }
   },
   "source": [
    "## Demo"
   ]
  },
  {
   "cell_type": "code",
   "execution_count": 27,
   "metadata": {
    "pycharm": {
     "name": "#%%\n"
    },
    "slideshow": {
     "slide_type": "skip"
    }
   },
   "outputs": [],
   "source": [
    "# stripping trailing '\\n' from the key\n",
    "app_key = sec.rstrip()\n",
    "url_append = f'?app_key={app_key}' "
   ]
  },
  {
   "cell_type": "code",
   "execution_count": 28,
   "metadata": {
    "pycharm": {
     "name": "#%%\n"
    },
    "slideshow": {
     "slide_type": "skip"
    }
   },
   "outputs": [],
   "source": [
    "# URL\n",
    "url = \"https://api.tfl.gov.uk/AirQuality\""
   ]
  },
  {
   "cell_type": "code",
   "execution_count": 29,
   "metadata": {
    "slideshow": {
     "slide_type": "skip"
    }
   },
   "outputs": [],
   "source": [
    "# We can check if the request was successful\n",
    "res = requests.get(url+url_append)\n",
    "weather_dict = res.json()\n"
   ]
  },
  {
   "cell_type": "markdown",
   "metadata": {
    "pycharm": {
     "name": "#%% md\n"
    },
    "slideshow": {
     "slide_type": "slide"
    }
   },
   "source": [
    "## Task\n",
    "Parse the dictionary and print the AirQuality predictions for tomorrow"
   ]
  },
  {
   "cell_type": "code",
   "execution_count": 30,
   "metadata": {
    "pycharm": {
     "name": "#%%\n"
    },
    "slideshow": {
     "slide_type": "subslide"
    }
   },
   "outputs": [
    {
     "name": "stdout",
     "output_type": "stream",
     "text": [
      "Saturday is expected to be mostly dry and cloudy, although still a chance of rain. A steady feed of south westerly air arriving from the Atlantic should give good dispersion of local emissions while bearing little imported pollution.  Air pollution is expected to remain 'Low' for the following pollutants throughout the forecast period: Nitrogen Dioxide, PM10 Particulate, PM2.5 Particulate, Ozone, Sulphur Dioxide \n"
     ]
    }
   ],
   "source": [
    "print(html.unescape(weather_dict['currentForecast'][1]['forecastText']).replace(\"<br/><br/>\", \" \").replace(\"<br/>\",\", \")[:-2])"
   ]
  },
  {
   "cell_type": "markdown",
   "metadata": {
    "pycharm": {
     "name": "#%% md\n"
    }
   },
   "source": [
    "## Task\n",
    "What are the different modes of transport which are operated by Transfer for London? How many of modes do they have?\n",
    "\n",
    "Print the list with different modes of transport, plus their count. Example output:\n",
    "```\n",
    "[bus, cable-car,.....]\n",
    "Number of different modes of transport is: xyz\n",
    "```\n",
    "\n",
    "We need to search the documentation for correct request."
   ]
  },
  {
   "cell_type": "code",
   "execution_count": 31,
   "metadata": {
    "pycharm": {
     "name": "#%%\n"
    }
   },
   "outputs": [],
   "source": [
    "j_modes_url = 'https://api.tfl.gov.uk/Journey/Meta/Modes'\n",
    "l_modes_url = 'https://api.tfl.gov.uk/Line/Meta/Modes'\n",
    "\n",
    "res2 = requests.get(l_modes_url + url_append)"
   ]
  },
  {
   "cell_type": "code",
   "execution_count": 32,
   "metadata": {
    "pycharm": {
     "name": "#%%\n"
    },
    "slideshow": {
     "slide_type": "slide"
    }
   },
   "outputs": [
    {
     "name": "stdout",
     "output_type": "stream",
     "text": [
      "There are 18 available modes of public transport in London.  The full list is as follows:\n",
      "   • bus \n",
      "   • cable-car \n",
      "   • coach \n",
      "   • cycle \n",
      "   • cycle-hire \n",
      "   • dlr \n",
      "   • elizabeth-line \n",
      "   • interchange-keep-sitting \n",
      "   • interchange-secure \n",
      "   • national-rail \n",
      "   • overground \n",
      "   • replacement-bus \n",
      "   • river-bus \n",
      "   • river-tour \n",
      "   • taxi \n",
      "   • tram \n",
      "   • tube \n",
      "   • walking \n"
     ]
    }
   ],
   "source": [
    "modes_list = []\n",
    "for mode_dict in res2.json():\n",
    "    modes_list = modes_list + [mode_dict['modeName']]\n",
    "    \n",
    "    \n",
    "print(f\"There are {len(modes_list)} available modes of public transport in London.  The full list is as follows:\")\n",
    "for mode in modes_list:\n",
    "# uncomment for cleaned up output\n",
    "#     print(f\"     • {mode.replace('-',' ').title()}\")\n",
    "      print(f\"   • {mode} \")\n"
   ]
  },
  {
   "cell_type": "markdown",
   "metadata": {
    "pycharm": {
     "name": "#%% md\n"
    },
    "slideshow": {
     "slide_type": "slide"
    }
   },
   "source": [
    "## Task\n",
    "How many BikePoints in London are operated by Transfor for London? How many docks are in **all** BikePoints? There is the information for empty and full docks for each BikePoint."
   ]
  },
  {
   "cell_type": "code",
   "execution_count": 33,
   "metadata": {
    "pycharm": {
     "name": "#%%\n"
    }
   },
   "outputs": [],
   "source": [
    "bikepoints_query_url = \"https://api.tfl.gov.uk/BikePoint/\"\n",
    "res_bikepoints = requests.get(bikepoints_query_url + url_append)\n",
    "\n",
    "num_bikepoints = len(res_bikepoints.json())\n",
    "num_docks = 0\n",
    "\n",
    "# for each bikepoint in the list\n",
    "for bikepoint in res_bikepoints.json():\n",
    "    \n",
    "    # iterate through the list of dicts in the bikepoint['additionalProperties'] list until reaching the NbDocks property\n",
    "    num_docks += int(next(add_prop['value'] for add_prop in bikepoint[\"additionalProperties\"] if add_prop['key'] == 'NbDocks'))"
   ]
  },
  {
   "cell_type": "code",
   "execution_count": 34,
   "metadata": {
    "pycharm": {
     "name": "#%%\n"
    }
   },
   "outputs": [
    {
     "name": "stdout",
     "output_type": "stream",
     "text": [
      "There are 791 BikePoints currently operated by Transport for London\n",
      "In total, there are 20978 total docks in all the BikePoints in London\n"
     ]
    }
   ],
   "source": [
    "print(f\"There are {num_bikepoints} BikePoints currently operated by Transport for London\")\n",
    "print(f\"In total, there are {num_docks} total docks in all the BikePoints in London\")"
   ]
  },
  {
   "cell_type": "markdown",
   "metadata": {
    "pycharm": {
     "name": "#%% md\n"
    }
   },
   "source": [
    "## Task\n",
    "How many tube and bus lines are in London? Print names of all tube lines."
   ]
  },
  {
   "cell_type": "code",
   "execution_count": null,
   "metadata": {
    "pycharm": {
     "name": "#%%\n"
    }
   },
   "outputs": [],
   "source": [
    "tube_bus_query = \"https://api.digital.tfl.gov.uk/Line/Mode/\"\n",
    "\n",
    "bus_append = \"bus\"  \n",
    "tube_append = \"tube\"\n",
    "\n",
    "res_bus = requests.get(tube_bus_query + bus_append)\n",
    "res_tube = requests.get(tube_bus_query + tube_append)"
   ]
  },
  {
   "cell_type": "code",
   "execution_count": null,
   "metadata": {
    "pycharm": {
     "name": "#%%\n"
    }
   },
   "outputs": [],
   "source": [
    "res_bus.json()"
   ]
  },
  {
   "cell_type": "markdown",
   "metadata": {
    "pycharm": {
     "name": "#%% md\n"
    }
   },
   "source": [
    "## Task\n",
    "How many station has `victoria` line?"
   ]
  },
  {
   "cell_type": "code",
   "execution_count": null,
   "metadata": {
    "pycharm": {
     "name": "#%%\n"
    }
   },
   "outputs": [],
   "source": [
    "victoria_query = \"https://api.tfl.gov.uk/Line/victoria/StopPoints\"\n",
    "print(victoria_query + url_append)\n",
    "res_victoria = requests.get(victoria_query + url_append)"
   ]
  },
  {
   "cell_type": "code",
   "execution_count": null,
   "metadata": {
    "pycharm": {
     "name": "#%%\n"
    }
   },
   "outputs": [],
   "source": [
    "res_victoria.json()\n",
    "station_list = []\n",
    "for station_dict in res_victoria.json():\n",
    "    station_list = station_list + [station_dict[\"commonName\"]]\n",
    "    \n",
    "print(f\"There are {len(station_list)} stations in the Victoria line.  The list of stations is as follows:\")\n",
    "for station in station_list:\n",
    "      print(f\"   • {station} \")\n",
    "    "
   ]
  },
  {
   "cell_type": "markdown",
   "metadata": {
    "pycharm": {
     "name": "#%% md\n"
    }
   },
   "source": [
    "## Task\n",
    "Plan the journey from Heathrow Airport to Tower Bridge using Bus and Tube? Which way is faster? Example output:\n",
    "```\n",
    "Planned duration:\n",
    "Bus: x minutes\n",
    "Tube: y minutes\n",
    "```\n",
    "\n",
    "We need to search the documentation for correct requests and parameters we need."
   ]
  },
  {
   "cell_type": "code",
   "execution_count": null,
   "metadata": {
    "pycharm": {
     "name": "#%%\n"
    }
   },
   "outputs": [],
   "source": [
    "from_str = \"920GLHR5\"\n",
    "to_str = \"City%20of%20London,%20Tower%20Bridge\"\n",
    "\n",
    "journey_url = f\"https://api.tfl.gov.uk/Journey/JourneyResults/{from_str}/to/{to_str}\"\n",
    "journey_tube_append = url_append + \"&mode=tube\"\n",
    "journey_bus_append = url_append + \"&mode=bus\"\n",
    "\n",
    "extra_param_append = \"&journeyPreference=LeastTime&walkingSpeed=Average&walkingOptimization=True\"\n",
    "\n",
    "journey_tube_res = requests.get(journey_url + journey_tube_append + extra_param_append)\n",
    "journey_bus_res = requests.get(journey_url +journey_bus_append + extra_param_append)\n",
    "\n",
    "bus_duration = journey_bus_res.json()['journeys'][0]['duration']\n",
    "tube_duration = journey_tube_res.json()['journeys'][0]['duration']\n",
    "\n",
    "\n"
   ]
  },
  {
   "cell_type": "code",
   "execution_count": null,
   "metadata": {
    "pycharm": {
     "name": "#%%\n"
    }
   },
   "outputs": [],
   "source": [
    "print(f\"The bus trip will take {bus_duration // 60} hours and {bus_duration % 60 } minutes.\")\n",
    "print(f\"The tube trip will take {tube_duration // 60} hours and {tube_duration % 60 } minutes.\")"
   ]
  },
  {
   "cell_type": "code",
   "execution_count": null,
   "metadata": {
    "pycharm": {
     "name": "#%%\n"
    }
   },
   "outputs": [],
   "source": []
  },
  {
   "cell_type": "code",
   "execution_count": null,
   "metadata": {
    "pycharm": {
     "name": "#%%\n"
    }
   },
   "outputs": [],
   "source": []
  },
  {
   "cell_type": "code",
   "execution_count": null,
   "metadata": {
    "pycharm": {
     "name": "#%%\n"
    }
   },
   "outputs": [],
   "source": []
  }
 ],
 "metadata": {
  "kernelspec": {
   "display_name": "Python 3",
   "language": "python",
   "name": "python3"
  },
  "language_info": {
   "codemirror_mode": {
    "name": "ipython",
    "version": 3
   },
   "file_extension": ".py",
   "mimetype": "text/x-python",
   "name": "python",
   "nbconvert_exporter": "python",
   "pygments_lexer": "ipython3",
   "version": "3.8.5"
  }
 },
 "nbformat": 4,
 "nbformat_minor": 4
}
