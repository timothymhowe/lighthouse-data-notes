{
 "cells": [
  {
   "cell_type": "markdown",
   "metadata": {
    "pycharm": {
     "name": "#%% md\n"
    }
   },
   "source": [
    "# Mini-Project I\n",
    "During this project, we will practice handling of complex lists and dictionaries in Python. Plus, we will learn how to work with API documentation. Don't be afraid to search for the information in the [**documentation**](https://api.tfl.gov.uk/swagger/ui/index.html?url=/swagger/docs/v1#!/AccidentStats/AccidentStats_Get).\n",
    "\n",
    "Let's go to the tasks, we have some parsing to do :)!!"
   ]
  },
  {
   "cell_type": "code",
   "execution_count": null,
   "metadata": {
    "pycharm": {
     "name": "#%%\n"
    }
   },
   "outputs": [],
   "source": [
    "# import sys\n",
    "# !conda install --yes --prefix {sys.prefix} -c conda-forge/label/gcc7 prettytable"
   ]
  },
  {
   "cell_type": "code",
   "execution_count": null,
   "metadata": {
    "pycharm": {
     "name": "#%%\n"
    }
   },
   "outputs": [],
   "source": [
    "# import packages we need (remember what packages we used yesterday during the API session)\n",
    "# IMPORT HERE\n",
    "\n",
    "\n",
    "\n",
    "import requests\n",
    "import os\n",
    "import json\n",
    "import prettytable\n",
    "\n",
    "\n",
    "# os.getcwd()\n"
   ]
  },
  {
   "cell_type": "code",
   "execution_count": null,
   "metadata": {
    "pycharm": {
     "name": "#%%\n"
    }
   },
   "outputs": [],
   "source": []
  },
  {
   "cell_type": "code",
   "execution_count": null,
   "metadata": {
    "pycharm": {
     "name": "#%%\n"
    }
   },
   "outputs": [],
   "source": [
    "prim = \"\"\n",
    "sec = \"\"\n",
    "with open(\"/home/thowe/temp-keys/tfl-primary\") as f:\n",
    "    prim = f.read()\n",
    "    f.close()\n",
    "    \n",
    "    \n",
    "with open(\"/home/thowe/temp-keys/tfl-secondary\") as f:\n",
    "    sec = f.read()\n",
    "    f.close()\n",
    "    \n"
   ]
  },
  {
   "cell_type": "markdown",
   "metadata": {
    "pycharm": {
     "name": "#%% md\n"
    }
   },
   "source": [
    "## Demo"
   ]
  },
  {
   "cell_type": "code",
   "execution_count": null,
   "metadata": {
    "pycharm": {
     "name": "#%%\n"
    }
   },
   "outputs": [],
   "source": [
    "# don't forget package os\n",
    "\n",
    "\n",
    "# app_id = os.environ[\"<your app name>\"]\n",
    "# app_key = os.environ[\"<your app key name>\"]\n",
    "\n",
    "# app_id = \"bikes\"\n",
    "app_key = sec.rstrip()\n",
    "\n",
    "# url_append = f'?app_id={app_id}&app_key={app_key}' \n",
    "url_append = f'?app_key={app_key}' "
   ]
  },
  {
   "cell_type": "code",
   "execution_count": null,
   "metadata": {
    "pycharm": {
     "name": "#%%\n"
    }
   },
   "outputs": [],
   "source": [
    "print(url_append)"
   ]
  },
  {
   "cell_type": "code",
   "execution_count": null,
   "metadata": {
    "pycharm": {
     "name": "#%%\n"
    }
   },
   "outputs": [],
   "source": [
    "# URL\n",
    "url = \"https://api.tfl.gov.uk/AirQuality\"\n",
    "print(url+url_append)"
   ]
  },
  {
   "cell_type": "code",
   "execution_count": null,
   "metadata": {
    "pycharm": {
     "name": "#%%\n"
    }
   },
   "outputs": [],
   "source": [
    "# We send the request to the API\n",
    "# NOTE: if you don't have your APP_KEY, run this without the url_append\n",
    "res = requests.get(url+url_append)\n",
    "#  res = requests.get(url)"
   ]
  },
  {
   "cell_type": "code",
   "execution_count": null,
   "metadata": {
    "pycharm": {
     "name": "#%%\n"
    }
   },
   "outputs": [],
   "source": [
    "# We can check if the request was successful\n",
    "res.status_code"
   ]
  },
  {
   "cell_type": "code",
   "execution_count": null,
   "metadata": {
    "pycharm": {
     "name": "#%%\n"
    }
   },
   "outputs": [],
   "source": [
    "# We can export the information that was returned using method .json()\n",
    "res.json()"
   ]
  },
  {
   "cell_type": "code",
   "execution_count": null,
   "metadata": {
    "pycharm": {
     "name": "#%%\n"
    }
   },
   "outputs": [],
   "source": [
    "weather_dict = res.json()"
   ]
  },
  {
   "cell_type": "markdown",
   "metadata": {
    "pycharm": {
     "name": "#%% md\n"
    }
   },
   "source": [
    "## Task\n",
    "Parse the dictionary and print the AirQuality predictions for tomorrow"
   ]
  },
  {
   "cell_type": "code",
   "execution_count": null,
   "metadata": {
    "pycharm": {
     "name": "#%%\n"
    }
   },
   "outputs": [],
   "source": [
    "print(weather_dict['currentForecast'][1]['forecastText'])"
   ]
  },
  {
   "cell_type": "markdown",
   "metadata": {
    "pycharm": {
     "name": "#%% md\n"
    }
   },
   "source": [
    "## Task\n",
    "What are the different modes of transport which are operated by Transfer for London? How many of modes do they have?\n",
    "\n",
    "Print the list with different modes of transport, plus their count. Example output:\n",
    "```\n",
    "[bus, cable-car,.....]\n",
    "Number of different modes of transport is: xyz\n",
    "```\n",
    "\n",
    "We need to search the documentation for correct request."
   ]
  },
  {
   "cell_type": "code",
   "execution_count": null,
   "metadata": {
    "pycharm": {
     "name": "#%%\n"
    }
   },
   "outputs": [],
   "source": [
    "j_modes_url = 'https://api.tfl.gov.uk/Journey/Meta/Modes'\n",
    "l_modes_url = 'https://api.tfl.gov.uk/Line/Meta/Modes'\n",
    "\n",
    "res2 = requests.get(l_modes_url + url_append)"
   ]
  },
  {
   "cell_type": "code",
   "execution_count": null,
   "metadata": {
    "pycharm": {
     "name": "#%%\n"
    }
   },
   "outputs": [],
   "source": [
    "modes_list = []\n",
    "for mode_dict in res2.json():\n",
    "    modes_list = modes_list + [mode_dict['modeName']]\n",
    "    \n",
    "    \n",
    "print(f\"There are {len(modes_list)} available modes of public transport in London.  The full list is as follows:\")\n",
    "for mode in modes_list:\n",
    "#     print(f\"     • {mode.replace('-',' ').title()}\")\n",
    "      print(f\"   • {mode} \")\n"
   ]
  },
  {
   "cell_type": "markdown",
   "metadata": {
    "pycharm": {
     "name": "#%% md\n"
    }
   },
   "source": [
    "## Task\n",
    "How many BikePoints in London are operated by Transfor for London? How many docks are in **all** BikePoints? There is the information for empty and full docks for each BikePoint."
   ]
  },
  {
   "cell_type": "code",
   "execution_count": null,
   "metadata": {
    "pycharm": {
     "name": "#%%\n"
    }
   },
   "outputs": [],
   "source": [
    "bikepoints_query_url = \"https://api.tfl.gov.uk/BikePoint/\"\n",
    "res_bikepoints = requests.get(bikepoints_query_url + url_append)\n",
    "\n",
    "num_bikepoints = len(res_bikepoints.json())\n",
    "num_docks = 0\n",
    "\n",
    "for bikepoint in res_bikepoints.json():\n",
    "    num_docks += int(next(add_prop['value'] for add_prop in bikepoint[\"additionalProperties\"] if add_prop['key'] == 'NbDocks'))"
   ]
  },
  {
   "cell_type": "code",
   "execution_count": null,
   "metadata": {
    "pycharm": {
     "name": "#%%\n"
    }
   },
   "outputs": [],
   "source": [
    "print(f\"There are {num_bikepoints} BikePoints currently operated by Transport for London\")\n",
    "print(f\"In total, there are {num_docks} total docks in all the BikePoints in London\")"
   ]
  },
  {
   "cell_type": "markdown",
   "metadata": {
    "pycharm": {
     "name": "#%% md\n"
    }
   },
   "source": [
    "## Task\n",
    "How many tube and bus lines are in London? Print names of all tube lines."
   ]
  },
  {
   "cell_type": "code",
   "execution_count": null,
   "metadata": {
    "pycharm": {
     "name": "#%%\n"
    }
   },
   "outputs": [],
   "source": [
    "tube_bus_query = \"https://api.digital.tfl.gov.uk/Line/Mode/\"\n",
    "\n",
    "bus_append = \"bus\"  \n",
    "tube_append = \"tube\"\n",
    "\n",
    "res_bus = requests.get(tube_bus_query + bus_append)\n",
    "res_tube = requests.get(tube_bus_query + tube_append)"
   ]
  },
  {
   "cell_type": "code",
   "execution_count": null,
   "metadata": {
    "pycharm": {
     "name": "#%%\n"
    }
   },
   "outputs": [],
   "source": [
    "res_bus.json()"
   ]
  },
  {
   "cell_type": "markdown",
   "metadata": {
    "pycharm": {
     "name": "#%% md\n"
    }
   },
   "source": [
    "## Task\n",
    "How many station has `victoria` line?"
   ]
  },
  {
   "cell_type": "code",
   "execution_count": null,
   "metadata": {
    "pycharm": {
     "name": "#%%\n"
    }
   },
   "outputs": [],
   "source": [
    "victoria_query = \"https://api.tfl.gov.uk/Line/victoria/StopPoints\"\n",
    "print(victoria_query + url_append)\n",
    "res_victoria = requests.get(victoria_query + url_append)"
   ]
  },
  {
   "cell_type": "code",
   "execution_count": null,
   "metadata": {
    "pycharm": {
     "name": "#%%\n"
    }
   },
   "outputs": [],
   "source": [
    "res_victoria.json()\n",
    "station_list = []\n",
    "for station_dict in res_victoria.json():\n",
    "    station_list = station_list + [station_dict[\"commonName\"]]\n",
    "    \n",
    "print(f\"There are {len(station_list)} stations in the Victoria line.  The list of stations is as follows:\")\n",
    "for station in station_list:\n",
    "      print(f\"   • {station} \")\n",
    "    "
   ]
  },
  {
   "cell_type": "markdown",
   "metadata": {
    "pycharm": {
     "name": "#%% md\n"
    }
   },
   "source": [
    "## Task\n",
    "Plan the journey from Heathrow Airport to Tower Bridge using Bus and Tube? Which way is faster? Example output:\n",
    "```\n",
    "Planned duration:\n",
    "Bus: x minutes\n",
    "Tube: y minutes\n",
    "```\n",
    "\n",
    "We need to search the documentation for correct requests and parameters we need."
   ]
  },
  {
   "cell_type": "code",
   "execution_count": null,
   "metadata": {
    "pycharm": {
     "name": "#%%\n"
    }
   },
   "outputs": [],
   "source": [
    "from_str = \"920GLHR5\"\n",
    "to_str = \"City%20of%20London,%20Tower%20Bridge\"\n",
    "\n",
    "journey_url = f\"https://api.tfl.gov.uk/Journey/JourneyResults/{from_str}/to/{to_str}\"\n",
    "journey_tube_append = url_append + \"&mode=tube\"\n",
    "journey_bus_append = url_append + \"&mode=bus\"\n",
    "\n",
    "extra_param_append = \"&journeyPreference=LeastTime&walkingSpeed=Average&walkingOptimization=True\"\n",
    "\n",
    "journey_tube_res = requests.get(journey_url + journey_tube_append + extra_param_append)\n",
    "journey_bus_res = requests.get(journey_url +journey_bus_append + extra_param_append)\n",
    "\n",
    "bus_duration = journey_bus_res.json()['journeys'][0]['duration']\n",
    "tube_duration = journey_tube_res.json()['journeys'][0]['duration']\n",
    "\n",
    "\n"
   ]
  },
  {
   "cell_type": "code",
   "execution_count": null,
   "metadata": {
    "pycharm": {
     "name": "#%%\n"
    }
   },
   "outputs": [],
   "source": [
    "print(f\"The bus trip will take {bus_duration // 60} hours and {bus_duration % 60 } minutes.\")\n",
    "print(f\"The tube trip will take {tube_duration // 60} hours and {tube_duration % 60 } minutes.\")"
   ]
  },
  {
   "cell_type": "code",
   "execution_count": null,
   "metadata": {
    "pycharm": {
     "name": "#%%\n"
    }
   },
   "outputs": [],
   "source": []
  },
  {
   "cell_type": "code",
   "execution_count": null,
   "metadata": {
    "pycharm": {
     "name": "#%%\n"
    }
   },
   "outputs": [],
   "source": []
  },
  {
   "cell_type": "code",
   "execution_count": null,
   "metadata": {
    "pycharm": {
     "name": "#%%\n"
    }
   },
   "outputs": [],
   "source": []
  }
 ],
 "metadata": {
  "kernelspec": {
   "display_name": "Python 3",
   "language": "python",
   "name": "python3"
  },
  "language_info": {
   "codemirror_mode": {
    "name": "ipython",
    "version": 3
   },
   "file_extension": ".py",
   "mimetype": "text/x-python",
   "name": "python",
   "nbconvert_exporter": "python",
   "pygments_lexer": "ipython3",
   "version": "3.8.5"
  }
 },
 "nbformat": 4,
 "nbformat_minor": 4
}
