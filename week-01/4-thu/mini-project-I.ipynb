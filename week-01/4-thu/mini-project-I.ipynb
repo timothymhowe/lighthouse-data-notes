{
 "cells": [
  {
   "cell_type": "markdown",
   "metadata": {},
   "source": [
    "# Mini-Project I\n",
    "During this project, we will practice handling of complex lists and dictionaries in Python. Plus, we will learn how to work with API documentation. Don't be afraid to search for the information in the [**documentation**](https://api.tfl.gov.uk/swagger/ui/index.html?url=/swagger/docs/v1#!/AccidentStats/AccidentStats_Get).\n",
    "\n",
    "Let's go to the tasks, we have some parsing to do :)!!"
   ]
  },
  {
   "cell_type": "code",
   "execution_count": 81,
   "metadata": {},
   "outputs": [],
   "source": [
    "\n",
    "import requests\n",
    "import os\n",
    "import json\n",
    "import html"
   ]
  },
  {
   "cell_type": "code",
   "execution_count": 3,
   "metadata": {},
   "outputs": [],
   "source": [
    "# Had to do a workaround for my keys because env variables were being a pain while working on a remote server\n",
    "\n",
    "prim = \"\"\n",
    "sec = \"\"\n",
    "with open(\"/home/thowe/temp-keys/tfl-primary\") as f:\n",
    "    prim = f.read()\n",
    "    f.close()\n",
    "    \n",
    "    \n",
    "with open(\"/home/thowe/temp-keys/tfl-secondary\") as f:\n",
    "    sec = f.read()\n",
    "    f.close()"
   ]
  },
  {
   "cell_type": "markdown",
   "metadata": {},
   "source": [
    "## Demo"
   ]
  },
  {
   "cell_type": "code",
   "execution_count": 4,
   "metadata": {},
   "outputs": [],
   "source": [
    "# don't forget package os\n",
    "\n",
    "\n",
    "# app_id = os.environ[\"<your app name>\"]\n",
    "# app_key = os.environ[\"<your app key name>\"]\n",
    "\n",
    "# app_id = \"bikes\"\n",
    "app_key = sec.rstrip()\n",
    "\n",
    "# url_append = f'?app_id={app_id}&app_key={app_key}' \n",
    "url_append = f'?app_key={app_key}' "
   ]
  },
  {
   "cell_type": "code",
   "execution_count": 5,
   "metadata": {},
   "outputs": [
    {
     "name": "stdout",
     "output_type": "stream",
     "text": [
      "?app_key=b0d6743bffd54f2da4f32935c15fd6e9\n"
     ]
    }
   ],
   "source": [
    "print(url_append)"
   ]
  },
  {
   "cell_type": "code",
   "execution_count": 6,
   "metadata": {},
   "outputs": [
    {
     "name": "stdout",
     "output_type": "stream",
     "text": [
      "https://api.tfl.gov.uk/AirQuality?app_key=b0d6743bffd54f2da4f32935c15fd6e9\n"
     ]
    }
   ],
   "source": [
    "# URL\n",
    "url = \"https://api.tfl.gov.uk/AirQuality\"\n",
    "print(url+url_append)"
   ]
  },
  {
   "cell_type": "code",
   "execution_count": 7,
   "metadata": {},
   "outputs": [],
   "source": [
    "# We send the request to the API\n",
    "# NOTE: if you don't have your APP_KEY, run this without the url_append\n",
    "res = requests.get(url+url_append)\n",
    "#  res = requests.get(url)"
   ]
  },
  {
   "cell_type": "code",
   "execution_count": 8,
   "metadata": {},
   "outputs": [
    {
     "data": {
      "text/plain": [
       "200"
      ]
     },
     "execution_count": 8,
     "metadata": {},
     "output_type": "execute_result"
    }
   ],
   "source": [
    "# We can check if the request was successful\n",
    "res.status_code"
   ]
  },
  {
   "cell_type": "code",
   "execution_count": 9,
   "metadata": {},
   "outputs": [
    {
     "data": {
      "text/plain": [
       "{'$id': '1',\n",
       " '$type': 'Tfl.Api.Presentation.Entities.LondonAirForecast, Tfl.Api.Presentation.Entities',\n",
       " 'updatePeriod': 'hourly',\n",
       " 'updateFrequency': '1',\n",
       " 'forecastURL': 'http://londonair.org.uk/forecast',\n",
       " 'disclaimerText': 'This forecast is intended to provide information on expected pollution levels in areas of significant public exposure. It may not apply in very specific locations close to unusually strong or short-lived local sources of pollution.',\n",
       " 'currentForecast': [{'$id': '2',\n",
       "   '$type': 'Tfl.Api.Presentation.Entities.CurrentForecast, Tfl.Api.Presentation.Entities',\n",
       "   'forecastType': 'Current',\n",
       "   'forecastID': '36905',\n",
       "   'fromDate': '2022-01-07T00:00:00Z',\n",
       "   'toDate': '2022-01-07T23:59:00Z',\n",
       "   'forecastBand': 'Low',\n",
       "   'forecastSummary': 'Low air pollution forecast valid from Friday 1 July to end of Friday 1 July GMT',\n",
       "   'nO2Band': 'Low',\n",
       "   'o3Band': 'Low',\n",
       "   'pM10Band': 'Low',\n",
       "   'pM25Band': 'Low',\n",
       "   'sO2Band': 'Low',\n",
       "   'forecastText': 'Friday is forecast to be mostly dry and cloudy, although a chance of rain in the afternoon.&lt;br/&gt;&lt;br/&gt;A steady feed of south westerly air arriving from the Atlantic should give good dispersion of local emissions while bearing little imported pollution. &lt;br/&gt;&lt;br/&gt;Air pollution is expected to remain &#39;Low&#39; for the following pollutants throughout the forecast period:&lt;br/&gt;&lt;br/&gt;Nitrogen Dioxide&lt;br/&gt;PM10 Particulate&lt;br/&gt;PM2.5 Particulate&lt;br/&gt;Ozone&lt;br/&gt;Sulphur Dioxide&lt;br/&gt;&lt;br/&gt;&lt;br/&gt;'},\n",
       "  {'$id': '3',\n",
       "   '$type': 'Tfl.Api.Presentation.Entities.CurrentForecast, Tfl.Api.Presentation.Entities',\n",
       "   'forecastType': 'Future',\n",
       "   'forecastID': '36906',\n",
       "   'fromDate': '2022-02-07T00:00:00Z',\n",
       "   'toDate': '2022-02-07T23:59:00Z',\n",
       "   'forecastBand': 'Low',\n",
       "   'forecastSummary': 'Low air pollution forecast valid from Saturday 2 July to end of Saturday 2 July GMT',\n",
       "   'nO2Band': 'Low',\n",
       "   'o3Band': 'Low',\n",
       "   'pM10Band': 'Low',\n",
       "   'pM25Band': 'Low',\n",
       "   'sO2Band': 'Low',\n",
       "   'forecastText': 'Saturday is expected to be mostly dry and cloudy, although still a chance of rain.&lt;br/&gt;&lt;br/&gt;A steady feed of south westerly air arriving from the Atlantic should give good dispersion of local emissions while bearing little imported pollution. &lt;br/&gt;&lt;br/&gt;Air pollution is expected to remain &#39;Low&#39; for the following pollutants throughout the forecast period:&lt;br/&gt;&lt;br/&gt;Nitrogen Dioxide&lt;br/&gt;PM10 Particulate&lt;br/&gt;PM2.5 Particulate&lt;br/&gt;Ozone&lt;br/&gt;Sulphur Dioxide&lt;br/&gt;&lt;br/&gt;&lt;br/&gt;'}]}"
      ]
     },
     "execution_count": 9,
     "metadata": {},
     "output_type": "execute_result"
    }
   ],
   "source": [
    "# We can export the information that was returned using method .json()\n",
    "res.json()"
   ]
  },
  {
   "cell_type": "code",
   "execution_count": 10,
   "metadata": {},
   "outputs": [],
   "source": [
    "weather_dict = res.json()"
   ]
  },
  {
   "cell_type": "markdown",
   "metadata": {},
   "source": [
    "## Task\n",
    "Parse the dictionary and print the AirQuality predictions for tomorrow"
   ]
  },
  {
   "cell_type": "code",
   "execution_count": 82,
   "metadata": {},
   "outputs": [
    {
     "name": "stdout",
     "output_type": "stream",
     "text": [
      "Saturday is expected to be mostly dry and cloudy, although still a chance of rain. A steady feed of south westerly air arriving from the Atlantic should give good dispersion of local emissions while bearing little imported pollution.  Air pollution is expected to remain 'Low' for the following pollutants throughout the forecast period: Nitrogen Dioxide, PM10 Particulate, PM2.5 Particulate, Ozone, Sulphur Dioxide \n"
     ]
    }
   ],
   "source": [
    "print(html.unescape(weather_dict['currentForecast'][1]['forecastText']).replace(\"<br/><br/>\", \" \").replace(\"<br/>\",\", \")[:-2])"
   ]
  },
  {
   "cell_type": "markdown",
   "metadata": {},
   "source": [
    "## Task\n",
    "What are the different modes of transport which are operated by Transfer for London? How many of modes do they have?\n",
    "\n",
    "Print the list with different modes of transport, plus their count. Example output:\n",
    "```\n",
    "[bus, cable-car,.....]\n",
    "Number of different modes of transport is: xyz\n",
    "```\n",
    "\n",
    "We need to search the documentation for correct request."
   ]
  },
  {
   "cell_type": "code",
   "execution_count": 12,
   "metadata": {},
   "outputs": [],
   "source": [
    "j_modes_url = 'https://api.tfl.gov.uk/Journey/Meta/Modes'\n",
    "l_modes_url = 'https://api.tfl.gov.uk/Line/Meta/Modes'\n",
    "\n",
    "res2 = requests.get(l_modes_url + url_append)"
   ]
  },
  {
   "cell_type": "code",
   "execution_count": 83,
   "metadata": {},
   "outputs": [
    {
     "name": "stdout",
     "output_type": "stream",
     "text": [
      "There are 18 available modes of public transport in London.  The full list is as follows:\n",
      "     • Bus\n",
      "     • Cable Car\n",
      "     • Coach\n",
      "     • Cycle\n",
      "     • Cycle Hire\n",
      "     • Dlr\n",
      "     • Elizabeth Line\n",
      "     • Interchange Keep Sitting\n",
      "     • Interchange Secure\n",
      "     • National Rail\n",
      "     • Overground\n",
      "     • Replacement Bus\n",
      "     • River Bus\n",
      "     • River Tour\n",
      "     • Taxi\n",
      "     • Tram\n",
      "     • Tube\n",
      "     • Walking\n"
     ]
    }
   ],
   "source": [
    "modes_list = []\n",
    "for mode_dict in res2.json():\n",
    "    modes_list = modes_list + [mode_dict['modeName']]\n",
    "    \n",
    "    \n",
    "print(f\"There are {len(modes_list)} available modes of public transport in London.  The full list is as follows:\")\n",
    "for mode in modes_list:\n",
    "     print(f\"     • {mode.replace('-',' ').title()}\")\n",
    "#      print(f\"   • {mode} \")\n"
   ]
  },
  {
   "cell_type": "markdown",
   "metadata": {},
   "source": [
    "## Task\n",
    "How many BikePoints in London are operated by Transfor for London? How many docks are in **all** BikePoints? There is the information for empty and full docks for each BikePoint."
   ]
  },
  {
   "cell_type": "code",
   "execution_count": 84,
   "metadata": {},
   "outputs": [
    {
     "ename": "KeyError",
     "evalue": "'AdditionalProperties'",
     "output_type": "error",
     "traceback": [
      "\u001b[0;31m---------------------------------------------------------------------------\u001b[0m",
      "\u001b[0;31mKeyError\u001b[0m                                  Traceback (most recent call last)",
      "\u001b[0;32m<ipython-input-84-8671aba22b01>\u001b[0m in \u001b[0;36m<module>\u001b[0;34m\u001b[0m\n\u001b[1;32m      6\u001b[0m \u001b[0;34m\u001b[0m\u001b[0m\n\u001b[1;32m      7\u001b[0m \u001b[0;32mfor\u001b[0m \u001b[0mbikepoint\u001b[0m \u001b[0;32min\u001b[0m \u001b[0mres_bikepoints\u001b[0m\u001b[0;34m.\u001b[0m\u001b[0mjson\u001b[0m\u001b[0;34m(\u001b[0m\u001b[0;34m)\u001b[0m\u001b[0;34m:\u001b[0m\u001b[0;34m\u001b[0m\u001b[0;34m\u001b[0m\u001b[0m\n\u001b[0;32m----> 8\u001b[0;31m     \u001b[0mbikepoint\u001b[0m\u001b[0;34m[\u001b[0m\u001b[0;34m\"AdditionalProperties\"\u001b[0m\u001b[0;34m]\u001b[0m\u001b[0;34m\u001b[0m\u001b[0;34m\u001b[0m\u001b[0m\n\u001b[0m\u001b[1;32m      9\u001b[0m \u001b[0;34m\u001b[0m\u001b[0m\n\u001b[1;32m     10\u001b[0m \u001b[0mnum_docks\u001b[0m \u001b[0;34m+=\u001b[0m \u001b[0mnext\u001b[0m\u001b[0;34m(\u001b[0m\u001b[0mbikepoint\u001b[0m \u001b[0;32mfor\u001b[0m \u001b[0mbikepoint\u001b[0m \u001b[0;32min\u001b[0m \u001b[0mres_bikepoints\u001b[0m\u001b[0;34m.\u001b[0m\u001b[0mjson\u001b[0m\u001b[0;34m(\u001b[0m\u001b[0;34m)\u001b[0m\u001b[0;34m)\u001b[0m\u001b[0;34m\u001b[0m\u001b[0;34m\u001b[0m\u001b[0m\n",
      "\u001b[0;31mKeyError\u001b[0m: 'AdditionalProperties'"
     ]
    }
   ],
   "source": [
    "bikepoints_query_url = \"https://api.tfl.gov.uk/BikePoint/\"\n",
    "res_bikepoints = requests.get(bikepoints_query_url + url_append)\n",
    "\n",
    "num_bikepoints = len(res_bikepoints.json())\n",
    "num_docks = 0\n",
    "\n",
    "for bikepoint in res_bikepoints.json():\n",
    "    bikepoint[\"AdditionalProperties\"]\n",
    "    \n",
    "num_docks += next(bikepoint for bikepoint in res_bikepoints.json())"
   ]
  },
  {
   "cell_type": "code",
   "execution_count": 42,
   "metadata": {},
   "outputs": [
    {
     "name": "stdout",
     "output_type": "stream",
     "text": [
      "There are 791 Bikepoints currently operated by Transport for London\n"
     ]
    }
   ],
   "source": [
    "\n",
    "print(f\"There are {num_bikepoints} BikePoints currently operated by Transport for London\")\n",
    "print(f\"In total, there are {} total docks in all the BikePoints in London\")"
   ]
  },
  {
   "cell_type": "markdown",
   "metadata": {},
   "source": [
    "## Task\n",
    "How many tube and bus lines are in London? Print names of all tube lines."
   ]
  },
  {
   "cell_type": "code",
   "execution_count": 74,
   "metadata": {},
   "outputs": [
    {
     "name": "stdout",
     "output_type": "stream",
     "text": [
      "https://api.tfl.gov.uk/Line/Mode/tube?app_key=b0d6743bffd54f2da4f32935c15fd6e9\n"
     ]
    }
   ],
   "source": [
    "tube_bus_query = \"https://api.tfl.gov.uk/Line/Mode/\"\n",
    "\n",
    "bus_append = \"bus\"  + url_append\n",
    "tube_append = \"tube\" + url_append\n",
    "\n",
    "print(tube_bus_query + tube_append)\n",
    "\n",
    "res_bus = requests.get(tube_bus_query + bus_append)\n",
    "res_tube = requests.get(tube_bus_query + tube_append)\n"
   ]
  },
  {
   "cell_type": "code",
   "execution_count": 77,
   "metadata": {},
   "outputs": [
    {
     "name": "stdout",
     "output_type": "stream",
     "text": [
      "There are 677 bus lines in london.\n",
      "There are 11 tube lines in london.\n",
      "The names of the tube lines are as follows:\n",
      "   • Bakerloo\n",
      "   • Central\n",
      "   • Circle\n",
      "   • District\n",
      "   • Hammersmith & City\n",
      "   • Jubilee\n",
      "   • Metropolitan\n",
      "   • Northern\n",
      "   • Piccadilly\n",
      "   • Victoria\n",
      "   • Waterloo & City\n"
     ]
    }
   ],
   "source": [
    "print(f\"There are {len(res_bus.json())} bus lines in london.\")\n",
    "print(f\"There are {len(res_tube.json())} tube lines in london.\")\n",
    "print(\"The names of the tube lines are as follows:\")\n",
    "for line in res_tube.json():\n",
    "    print (f\"   • {line['name']}\") "
   ]
  },
  {
   "cell_type": "markdown",
   "metadata": {},
   "source": [
    "## Task\n",
    "How many station has `victoria` line?"
   ]
  },
  {
   "cell_type": "code",
   "execution_count": 79,
   "metadata": {},
   "outputs": [],
   "source": [
    "victoria_query = \"https://api.tfl.gov.uk/Line/victoria/StopPoints\"\n",
    "res_victoria = requests.get(victoria_query + url_append);"
   ]
  },
  {
   "cell_type": "code",
   "execution_count": 26,
   "metadata": {},
   "outputs": [
    {
     "name": "stdout",
     "output_type": "stream",
     "text": [
      "There are 16 stations in the Victoria line.  The list of stations is as follows:\n",
      "   • Blackhorse Road Underground Station \n",
      "   • Brixton Underground Station \n",
      "   • Euston Underground Station \n",
      "   • Finsbury Park Underground Station \n",
      "   • Green Park Underground Station \n",
      "   • Highbury & Islington Underground Station \n",
      "   • King's Cross St. Pancras Underground Station \n",
      "   • Oxford Circus Underground Station \n",
      "   • Pimlico Underground Station \n",
      "   • Stockwell Underground Station \n",
      "   • Seven Sisters Underground Station \n",
      "   • Tottenham Hale Underground Station \n",
      "   • Victoria Underground Station \n",
      "   • Vauxhall Underground Station \n",
      "   • Warren Street Underground Station \n",
      "   • Walthamstow Central Underground Station \n"
     ]
    }
   ],
   "source": [
    "res_victoria.json()\n",
    "station_list = []\n",
    "for station_dict in res_victoria.json():\n",
    "    station_list = station_list + [station_dict[\"commonName\"]]\n",
    "    \n",
    "print(f\"There are {len(station_list)} stations in the Victoria line.  The list of stations is as follows:\")\n",
    "for station in station_list:\n",
    "      print(f\"   • {station} \")\n",
    "    "
   ]
  },
  {
   "cell_type": "markdown",
   "metadata": {},
   "source": [
    "## Task\n",
    "Plan the journey from Heathrow Airport to Tower Bridge using Bus and Tube? Which way is faster? Example output:\n",
    "```\n",
    "Planned duration:\n",
    "Bus: x minutes\n",
    "Tube: y minutes\n",
    "```\n",
    "\n",
    "We need to search the documentation for correct requests and parameters we need."
   ]
  },
  {
   "cell_type": "code",
   "execution_count": 37,
   "metadata": {},
   "outputs": [],
   "source": [
    "from_str = \"920GLHR5\"\n",
    "to_str = \"City%20of%20London,%20Tower%20Bridge\"\n",
    "\n",
    "journey_url = f\"https://api.tfl.gov.uk/Journey/JourneyResults/{from_str}/to/{to_str}\"\n",
    "journey_tube_append = url_append + \"&mode=tube\"\n",
    "journey_bus_append = url_append + \"&mode=bus\"\n",
    "\n",
    "extra_param_append = \"&journeyPreference=LeastTime&walkingSpeed=Average&walkingOptimization=True\"\n",
    "\n",
    "journey_tube_res = requests.get(journey_url + journey_tube_append + extra_param_append)\n",
    "journey_bus_res = requests.get(journey_url +journey_bus_append + extra_param_append)\n",
    "\n",
    "bus_duration = journey_bus_res.json()['journeys'][0]['duration']\n",
    "tube_duration = journey_tube_res.json()['journeys'][0]['duration']\n",
    "\n",
    "\n"
   ]
  },
  {
   "cell_type": "code",
   "execution_count": 38,
   "metadata": {},
   "outputs": [
    {
     "name": "stdout",
     "output_type": "stream",
     "text": [
      "The bus trip will take 2 hours and 50 minutes.\n",
      "The tube trip will take 1 hours and 21 minutes.\n"
     ]
    }
   ],
   "source": [
    "print(f\"The bus trip will take {bus_duration // 60} hours and {bus_duration % 60 } minutes.\")\n",
    "print(f\"The tube trip will take {tube_duration // 60} hours and {tube_duration % 60 } minutes.\")"
   ]
  },
  {
   "cell_type": "code",
   "execution_count": null,
   "metadata": {},
   "outputs": [],
   "source": []
  },
  {
   "cell_type": "code",
   "execution_count": null,
   "metadata": {},
   "outputs": [],
   "source": []
  },
  {
   "cell_type": "code",
   "execution_count": null,
   "metadata": {},
   "outputs": [],
   "source": []
  }
 ],
 "metadata": {
  "kernelspec": {
   "display_name": "Python 3",
   "language": "python",
   "name": "python3"
  },
  "language_info": {
   "codemirror_mode": {
    "name": "ipython",
    "version": 3
   },
   "file_extension": ".py",
   "mimetype": "text/x-python",
   "name": "python",
   "nbconvert_exporter": "python",
   "pygments_lexer": "ipython3",
   "version": "3.8.5"
  }
 },
 "nbformat": 4,
 "nbformat_minor": 4
}
