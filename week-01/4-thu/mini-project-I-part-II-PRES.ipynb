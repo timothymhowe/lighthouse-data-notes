{
 "cells": [
  {
   "cell_type": "markdown",
   "metadata": {},
   "source": [
    "## Movies\n",
    "In this part of mini-project, we need to have our API-KEY ready because this API won't work without it.\n",
    "\n",
    "We encourage you to look for correct endpoints in [the documentation](https://developers.themoviedb.org/3/account). We can also play around with requests there before copying them to Python."
   ]
  },
  {
   "cell_type": "code",
   "execution_count": 54,
   "metadata": {},
   "outputs": [],
   "source": [
    "import requests as re\n",
    "import os\n",
    "import json\n",
    "\n",
    "\n",
    "\n",
    "k_v3 = \"\"\n",
    "k_v4 = \"\"\n",
    "with open(\"/home/thowe/temp-keys/tmdb-v3\") as f:\n",
    "    k_v3 = f.read().strip()\n",
    "    f.close()\n",
    "    \n",
    "    \n",
    "with open(\"/home/thowe/temp-keys/tmdb-v4\") as f:\n",
    "    k_v4 = f.read().strip()\n",
    "    f.close()\n",
    "    \n"
   ]
  },
  {
   "cell_type": "markdown",
   "metadata": {},
   "source": [
    "## Demo"
   ]
  },
  {
   "cell_type": "code",
   "execution_count": 40,
   "metadata": {},
   "outputs": [],
   "source": [
    "base = \"https://api.themoviedb.org/3\"\n",
    "url = \"/search/movie\"\n",
    "\n",
    "query = 'titanic'\n",
    "# api_key = os.environ[\"<your api key name>\"]\n",
    "api_key = k_v3\n",
    "\n",
    "params = f'?query={query}&api_key={api_key}' "
   ]
  },
  {
   "cell_type": "code",
   "execution_count": 41,
   "metadata": {},
   "outputs": [],
   "source": [
    "res = re.get(base+url+params)"
   ]
  },
  {
   "cell_type": "code",
   "execution_count": 42,
   "metadata": {},
   "outputs": [
    {
     "data": {
      "text/plain": [
       "200"
      ]
     },
     "execution_count": 42,
     "metadata": {},
     "output_type": "execute_result"
    }
   ],
   "source": [
    "res.status_code"
   ]
  },
  {
   "cell_type": "code",
   "execution_count": 43,
   "metadata": {},
   "outputs": [],
   "source": [
    "res.json();"
   ]
  },
  {
   "cell_type": "code",
   "execution_count": null,
   "metadata": {},
   "outputs": [],
   "source": []
  },
  {
   "cell_type": "code",
   "execution_count": null,
   "metadata": {},
   "outputs": [],
   "source": []
  },
  {
   "cell_type": "markdown",
   "metadata": {},
   "source": [
    "## Task\n",
    "Search for you favorite movie and return the information about the movie:\n",
    "- name\n",
    "- release date\n",
    "- runtime\n",
    "- revenue\n",
    "- length of the overview\n",
    "- number of votes\n",
    "- voting average"
   ]
  },
  {
   "cell_type": "code",
   "execution_count": 61,
   "metadata": {},
   "outputs": [],
   "source": [
    "query = \"Michael Clayton\"\n",
    "params = f'?query={query}&api_key={api_key}' \n",
    "\n",
    "res_favorite_name = re.get(base+url+params)"
   ]
  },
  {
   "cell_type": "raw",
   "metadata": {},
   "source": []
  },
  {
   "cell_type": "code",
   "execution_count": 70,
   "metadata": {},
   "outputs": [
    {
     "name": "stdout",
     "output_type": "stream",
     "text": [
      "{'adult': False, 'backdrop_path': '/qyFg7CkPSsCrYhn1Wy2w3BRpUTy.jpg', 'belongs_to_collection': None, 'budget': 25000000, 'genres': [{'id': 18, 'name': 'Drama'}, {'id': 53, 'name': 'Thriller'}], 'homepage': 'http://michaelclayton.warnerbros.com/', 'id': 4566, 'imdb_id': 'tt0465538', 'original_language': 'en', 'original_title': 'Michael Clayton', 'overview': \"A law firm brings in its 'fixer' to remedy the situation after a lawyer has a breakdown while representing a chemical company that he knows is guilty in a multi-billion dollar class action suit.\", 'popularity': 15.048, 'poster_path': '/pteOsXsjy4JpPY5jXMYDIo1yZlk.jpg', 'production_companies': [{'id': 97, 'logo_path': '/7znWcbDd4PcJzJUlJxYqAlPPykp.png', 'name': 'Castle Rock Entertainment', 'origin_country': 'US'}, {'id': 129, 'logo_path': None, 'name': 'Section Eight', 'origin_country': 'US'}, {'id': 932, 'logo_path': None, 'name': 'Mirage Enterprises', 'origin_country': 'US'}], 'production_countries': [{'iso_3166_1': 'US', 'name': 'United States of America'}], 'release_date': '2007-07-12', 'revenue': 92991835, 'runtime': 120, 'spoken_languages': [{'english_name': 'English', 'iso_639_1': 'en', 'name': 'English'}], 'status': 'Released', 'tagline': 'The truth can be adjusted.', 'title': 'Michael Clayton', 'video': False, 'vote_average': 6.7, 'vote_count': 1333}\n"
     ]
    }
   ],
   "source": [
    "favorite_id = res_favorite.json()['results'][0]['id']\n",
    "\n",
    "query = favorite_id\n",
    "url = f\"/movie/{favorite_id}\"\n",
    "\n",
    "res_favorite_id = re.get(base+url+f\"?api_key={k_v3}\")\n",
    "film_info = res_favorite_id.json()\n",
    "\n",
    "print(film_info)"
   ]
  },
  {
   "cell_type": "code",
   "execution_count": 76,
   "metadata": {},
   "outputs": [
    {
     "name": "stdout",
     "output_type": "stream",
     "text": [
      "Name            |  Michael Clayton\n",
      "Release Date    |  2007-07-12\n",
      "Revenue         |  92991835 dollars\n",
      "Runtime         |  120 minutes\n",
      "Overview Length |  194 characters\n",
      "# of Votes      |  1333 votes\n",
      "Average Score   |  6.7/10\n"
     ]
    }
   ],
   "source": [
    "print(f\"Name            |  {film_info['original_title']}\")\n",
    "print(f\"Release Date    |  {film_info['release_date']}\")\n",
    "print(f\"Revenue         |  {film_info['revenue']} dollars\")\n",
    "print(f\"Runtime         |  {film_info['runtime']} minutes\")\n",
    "print(f\"Overview Length |  {len(film_info['overview'])} characters\")\n",
    "print(f\"# of Votes      |  {film_info['vote_count']} votes\")\n",
    "print(f\"Average Score   |  {film_info['vote_average']}/10\")"
   ]
  },
  {
   "cell_type": "markdown",
   "metadata": {},
   "source": [
    "## Task\n",
    "Search for you favorite actor/actress and return the information about him/her:\n",
    "- name\n",
    "- date of birth\n",
    "- place of birth\n",
    "- length of the biography"
   ]
  },
  {
   "cell_type": "code",
   "execution_count": 85,
   "metadata": {},
   "outputs": [],
   "source": [
    "url = \"/search/tv\"\n",
    "query = \"The Wire\"\n",
    "params = f'?query={query}&api_key={api_key}' \n",
    "\n",
    "res_fav_tv_id = re.get(base+url+params)\n",
    "fav_tv_id = res_fav_tv_id.json()['results'][0]['id']"
   ]
  },
  {
   "cell_type": "code",
   "execution_count": null,
   "metadata": {},
   "outputs": [],
   "source": [
    "url=f\"tv/{fav_tv_id}\"\n",
    "params = f\"?api_key={api_key}\"\n",
    "res_fav_tv_info = re.get(base+url+params)"
   ]
  },
  {
   "cell_type": "code",
   "execution_count": null,
   "metadata": {},
   "outputs": [],
   "source": []
  },
  {
   "cell_type": "markdown",
   "metadata": {},
   "source": [
    "## Task\n",
    "Search for you favorite tv-show and return the information about it:\n",
    "- name\n",
    "- first air date\n",
    "- number of seasons\n",
    "- number of episodes\n",
    "- genres"
   ]
  },
  {
   "cell_type": "code",
   "execution_count": null,
   "metadata": {},
   "outputs": [],
   "source": []
  },
  {
   "cell_type": "code",
   "execution_count": null,
   "metadata": {},
   "outputs": [],
   "source": []
  },
  {
   "cell_type": "code",
   "execution_count": null,
   "metadata": {},
   "outputs": [],
   "source": []
  },
  {
   "cell_type": "markdown",
   "metadata": {},
   "source": [
    "## Task \n",
    "Find top 5 trending:\n",
    "- movies\n",
    "- tv-shows\n",
    "- people"
   ]
  },
  {
   "cell_type": "code",
   "execution_count": null,
   "metadata": {},
   "outputs": [],
   "source": []
  },
  {
   "cell_type": "code",
   "execution_count": null,
   "metadata": {},
   "outputs": [],
   "source": []
  }
 ],
 "metadata": {
  "kernelspec": {
   "display_name": "Python 3",
   "language": "python",
   "name": "python3"
  },
  "language_info": {
   "codemirror_mode": {
    "name": "ipython",
    "version": 3
   },
   "file_extension": ".py",
   "mimetype": "text/x-python",
   "name": "python",
   "nbconvert_exporter": "python",
   "pygments_lexer": "ipython3",
   "version": "3.8.5"
  }
 },
 "nbformat": 4,
 "nbformat_minor": 4
}
