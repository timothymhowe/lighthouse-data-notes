{
 "cells": [
  {
   "cell_type": "markdown",
   "id": "4398ac12",
   "metadata": {
    "pycharm": {
     "name": "#%% md\n"
    }
   },
   "source": [
    "# Lexical Structure\n",
    "## Line Continuation\n",
    "#### Explicit Continuation"
   ]
  },
  {
   "cell_type": "code",
   "execution_count": 27,
   "id": "b663bfc8",
   "metadata": {
    "pycharm": {
     "name": "#%%\n"
    }
   },
   "outputs": [
    {
     "name": "stdout",
     "output_type": "stream",
     "text": [
      "True\n"
     ]
    }
   ],
   "source": [
    "person1_age = 12\n",
    "person2_age = 56\n",
    "person3_age = 71\n",
    "\n",
    "someone_is_of_working_age = (person1_age >= 18 and person1_age <= 65)\\\n",
    "or (person2_age >= 18 and person2_age <= 65)\\\n",
    "or (person3_age >= 18 and person3_age <= 65)\n",
    "\n",
    "print(someone_is_of_working_age)"
   ]
  },
  {
   "cell_type": "markdown",
   "id": "1ba2f783",
   "metadata": {
    "pycharm": {
     "name": "#%% md\n"
    }
   },
   "source": [
    "#### Implicit Continuation\n",
    "\n",
    "Works with brackets, parentheses, curly braces.  Can be used in many cases to improve readability, but shouldn't always be."
   ]
  },
  {
   "cell_type": "code",
   "execution_count": 28,
   "id": "554c7cd2",
   "metadata": {
    "pycharm": {
     "name": "#%%\n"
    }
   },
   "outputs": [
    {
     "name": "stdout",
     "output_type": "stream",
     "text": [
      "[1, 3, 5, 6, 12]\n"
     ]
    }
   ],
   "source": [
    "the_list = [\n",
    "    1,\n",
    "    3,\n",
    "    5,\n",
    "    6,\n",
    "    12\n",
    "]\n",
    "print(the_list)"
   ]
  },
  {
   "cell_type": "markdown",
   "id": "bdce7964",
   "metadata": {
    "pycharm": {
     "name": "#%% md\n"
    }
   },
   "source": [
    "## Multiple Statements per Line\n",
    "\n",
    "The following code executes just fine, but it's ugly as sin, not pythonic, just don't do it!"
   ]
  },
  {
   "cell_type": "code",
   "execution_count": 29,
   "id": "2bfb7b8a",
   "metadata": {
    "pycharm": {
     "name": "#%%\n"
    }
   },
   "outputs": [
    {
     "name": "stdout",
     "output_type": "stream",
     "text": [
      "12\n",
      "56\n",
      "71\n"
     ]
    }
   ],
   "source": [
    "print(person1_age);print(person2_age);print(person3_age)"
   ]
  },
  {
   "cell_type": "markdown",
   "id": "1453cb0c",
   "metadata": {
    "pycharm": {
     "name": "#%% md\n"
    }
   },
   "source": [
    "...Instead, consider:"
   ]
  },
  {
   "cell_type": "code",
   "execution_count": 30,
   "id": "89dc901c",
   "metadata": {
    "pycharm": {
     "name": "#%%\n"
    }
   },
   "outputs": [
    {
     "name": "stdout",
     "output_type": "stream",
     "text": [
      "12\n",
      "56\n",
      "71\n"
     ]
    }
   ],
   "source": [
    "print(person1_age,person2_age,person3_age,sep='\\n')"
   ]
  },
  {
   "cell_type": "markdown",
   "id": "fd02e16d",
   "metadata": {
    "collapsed": false,
    "pycharm": {
     "name": "#%% md\n"
    }
   },
   "source": []
  },
  {
   "cell_type": "markdown",
   "id": "6ceed4a5",
   "metadata": {
    "pycharm": {
     "name": "#%% md\n"
    }
   },
   "source": [
    "This is much better! Such pythonic!"
   ]
  },
  {
   "cell_type": "markdown",
   "id": "38b0fa90",
   "metadata": {
    "collapsed": false,
    "pycharm": {
     "name": "#%% md\n"
    }
   },
   "source": [
    "## Comments:\n",
    "\n",
    "The '#' character signifies comments.  The interpreter ignores everything after the comment until the end of the line."
   ]
  },
  {
   "cell_type": "code",
   "execution_count": 31,
   "id": "072e9872",
   "metadata": {
    "collapsed": false,
    "pycharm": {
     "name": "#%%\n"
    }
   },
   "outputs": [
    {
     "name": "stdout",
     "output_type": "stream",
     "text": [
      "foo\n"
     ]
    }
   ],
   "source": [
    "a = 'foo' # bar\n",
    "print (a)"
   ]
  },
  {
   "cell_type": "code",
   "execution_count": 32,
   "id": "bcfc0a75",
   "metadata": {
    "collapsed": false,
    "pycharm": {
     "name": "#%%\n"
    }
   },
   "outputs": [
    {
     "name": "stdout",
     "output_type": "stream",
     "text": [
      "foo # bar\n"
     ]
    }
   ],
   "source": [
    "a = 'foo # bar'\n",
    "print(a)"
   ]
  },
  {
   "cell_type": "markdown",
   "id": "d78d68a1",
   "metadata": {
    "collapsed": false,
    "pycharm": {
     "name": "#%% md\n"
    }
   },
   "source": [
    "Comments can be included in *implicit* line continuation, but not *explicit*."
   ]
  },
  {
   "cell_type": "code",
   "execution_count": 2,
   "id": "afe0cbe8",
   "metadata": {
    "collapsed": false,
    "pycharm": {
     "name": "#%%\n"
    }
   },
   "outputs": [],
   "source": [
    "the_list = [\n",
    "    1,  # this is a comment\n",
    "    2,\n",
    "    3,  # this is also a comment\n",
    "    4,\n",
    "    5\n",
    "]\n",
    "\n",
    "explicit_continuation_comment_string = \"\"\"someone_is_of_working_age = (person1_age >= 18 and person1_age <= 65)\\ #hello\n",
    "                                or (person2_age >= 18 and person2_age <= 65)\\\n",
    "                                or (person3_age >= 18 and person3_age <= 65)\"\"\""
   ]
  },
  {
   "cell_type": "markdown",
   "id": "e68ccf7a",
   "metadata": {
    "collapsed": false,
    "pycharm": {
     "name": "#%% md\n"
    }
   },
   "source": [
    "The built in python function `eval()`sees if the compiler will successfully parse the python code contained in a string passed as a parameter, and throws an error if not.\n"
   ]
  },
  {
   "cell_type": "code",
   "execution_count": 4,
   "id": "9e149470",
   "metadata": {
    "collapsed": false,
    "pycharm": {
     "name": "#%%\n"
    }
   },
   "outputs": [
    {
     "name": "stdout",
     "output_type": "stream",
     "text": [
      "Those comments broke the code!\n",
      "Reason: Syntax Error, invalid syntax\n",
      "Line Number: 27\n",
      "Error Message: \"someone_is_of_working_age = (person1_age >= 18 and person1_age <= 65)\\ #hello\"\n"
     ]
    }
   ],
   "source": [
    "try:\n",
    "    eval(explicit_continuation_comment_string)\n",
    "except SyntaxError as err:\n",
    "    print(\"Those comments broke the code!\", f\"Reason: Syntax Error, {err.msg}\",f'Error Message: \"{err.text.rstrip()}\"',sep=\"\\n\")"
   ]
  },
  {
   "cell_type": "code",
   "execution_count": 34,
   "id": "a094d6ba",
   "metadata": {
    "collapsed": false,
    "pycharm": {
     "name": "#%%\n"
    }
   },
   "outputs": [],
   "source": []
  },
  {
   "cell_type": "markdown",
   "id": "b567edcd",
   "metadata": {
    "collapsed": false,
    "pycharm": {
     "name": "#%% md\n"
    }
   },
   "source": []
  }
 ],
 "metadata": {
  "kernelspec": {
   "display_name": "LighthouseEnv",
   "language": "python",
   "name": "lighthouseenv"
  },
  "language_info": {
   "codemirror_mode": {
    "name": "ipython",
    "version": 3
   },
   "file_extension": ".py",
   "mimetype": "text/x-python",
   "name": "python",
   "nbconvert_exporter": "python",
   "pygments_lexer": "ipython3",
   "version": "3.10.4"
  }
 },
 "nbformat": 4,
 "nbformat_minor": 5
}
