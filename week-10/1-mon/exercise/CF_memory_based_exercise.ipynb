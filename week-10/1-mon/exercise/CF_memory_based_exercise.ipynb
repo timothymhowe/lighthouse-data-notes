{
 "cells": [
  {
   "cell_type": "markdown",
   "metadata": {
    "pycharm": {
     "name": "#%% md\n"
    }
   },
   "source": [
    "## Collaborative Filtering"
   ]
  },
  {
   "cell_type": "code",
   "execution_count": 1,
   "metadata": {
    "ExecuteTime": {
     "end_time": "2020-04-30T11:55:52.017300Z",
     "start_time": "2020-04-30T11:55:50.841050Z"
    },
    "pycharm": {
     "name": "#%%\n"
    }
   },
   "outputs": [],
   "source": [
    "# import pandas\n",
    "import pandas as pd\n",
    "from sklearn.neighbors import NearestNeighbors"
   ]
  },
  {
   "cell_type": "markdown",
   "metadata": {
    "pycharm": {
     "name": "#%% md\n"
    }
   },
   "source": [
    "We will create an recommender engine based on Item Based Collaborative Filtering (IBCF) which searches for the most similar books based on the user ratings. We can download the data from [here](https://drive.google.com/file/d/1WvTmAfO09TCX7xp7uu06__ziic7JnrL5/view?usp=sharing)."
   ]
  },
  {
   "cell_type": "code",
   "execution_count": 15,
   "metadata": {
    "pycharm": {
     "name": "#%%\n"
    }
   },
   "outputs": [
    {
     "name": "stderr",
     "output_type": "stream",
     "text": [
      "C:\\Users\\thowe\\AppData\\Local\\Temp\\ipykernel_45864\\202726426.py:2: FutureWarning: The error_bad_lines argument has been deprecated and will be removed in a future version. Use on_bad_lines in the future.\n",
      "\n",
      "\n",
      "  books = pd.read_csv('data/BX-Books.csv',sep=\";\", encoding=\"latin\", error_bad_lines=False)\n",
      "b'Skipping line 6452: expected 8 fields, saw 9\\nSkipping line 43667: expected 8 fields, saw 10\\nSkipping line 51751: expected 8 fields, saw 9\\n'\n",
      "b'Skipping line 92038: expected 8 fields, saw 9\\nSkipping line 104319: expected 8 fields, saw 9\\nSkipping line 121768: expected 8 fields, saw 9\\n'\n",
      "b'Skipping line 144058: expected 8 fields, saw 9\\nSkipping line 150789: expected 8 fields, saw 9\\nSkipping line 157128: expected 8 fields, saw 9\\nSkipping line 180189: expected 8 fields, saw 9\\nSkipping line 185738: expected 8 fields, saw 9\\n'\n",
      "b'Skipping line 209388: expected 8 fields, saw 9\\nSkipping line 220626: expected 8 fields, saw 9\\nSkipping line 227933: expected 8 fields, saw 11\\nSkipping line 228957: expected 8 fields, saw 10\\nSkipping line 245933: expected 8 fields, saw 9\\nSkipping line 251296: expected 8 fields, saw 9\\nSkipping line 259941: expected 8 fields, saw 9\\nSkipping line 261529: expected 8 fields, saw 9\\n'\n",
      "C:\\Users\\thowe\\AppData\\Local\\Temp\\ipykernel_45864\\202726426.py:2: DtypeWarning: Columns (3) have mixed types. Specify dtype option on import or set low_memory=False.\n",
      "  books = pd.read_csv('data/BX-Books.csv',sep=\";\", encoding=\"latin\", error_bad_lines=False)\n"
     ]
    }
   ],
   "source": [
    "book_ratings = pd.read_csv('data/BX-Book-Ratings.csv',sep=\";\", encoding=\"latin\")\n",
    "books = pd.read_csv('data/BX-Books.csv',sep=\";\", encoding=\"latin\", error_bad_lines=False)"
   ]
  },
  {
   "cell_type": "markdown",
   "metadata": {
    "pycharm": {
     "name": "#%% md\n"
    }
   },
   "source": [
    "* Explore both datasets"
   ]
  },
  {
   "cell_type": "code",
   "execution_count": 3,
   "metadata": {
    "pycharm": {
     "name": "#%%\n"
    }
   },
   "outputs": [
    {
     "name": "stdout",
     "output_type": "stream",
     "text": [
      "(1149780, 3)\n"
     ]
    },
    {
     "data": {
      "text/plain": "1149780"
     },
     "execution_count": 3,
     "metadata": {},
     "output_type": "execute_result"
    }
   ],
   "source": [
    "print(book_ratings.shape)\n",
    "book_ratings['Book-Rating'].count()\n"
   ]
  },
  {
   "cell_type": "code",
   "execution_count": 4,
   "outputs": [
    {
     "name": "stdout",
     "output_type": "stream",
     "text": [
      "0    276725\n",
      "1    276726\n",
      "2    276727\n",
      "3    276729\n",
      "4    276729\n",
      "Name: User-ID, dtype: int64\n"
     ]
    }
   ],
   "source": [
    "print(book_ratings['User-ID'].head())"
   ],
   "metadata": {
    "collapsed": false,
    "pycharm": {
     "name": "#%%\n"
    }
   }
  },
  {
   "cell_type": "code",
   "execution_count": 5,
   "outputs": [
    {
     "name": "stdout",
     "output_type": "stream",
     "text": [
      "(271360, 8)\n"
     ]
    },
    {
     "data": {
      "text/plain": "         ISBN                                         Book-Title  \\\n0  0195153448                                Classical Mythology   \n1  0002005018                                       Clara Callan   \n2  0060973129                               Decision in Normandy   \n3  0374157065  Flu: The Story of the Great Influenza Pandemic...   \n4  0393045218                             The Mummies of Urumchi   \n\n            Book-Author Year-Of-Publication                   Publisher  \\\n0    Mark P. O. Morford                2002     Oxford University Press   \n1  Richard Bruce Wright                2001       HarperFlamingo Canada   \n2          Carlo D'Este                1991             HarperPerennial   \n3      Gina Bari Kolata                1999        Farrar Straus Giroux   \n4       E. J. W. Barber                1999  W. W. Norton &amp; Company   \n\n                                         Image-URL-S  \\\n0  http://images.amazon.com/images/P/0195153448.0...   \n1  http://images.amazon.com/images/P/0002005018.0...   \n2  http://images.amazon.com/images/P/0060973129.0...   \n3  http://images.amazon.com/images/P/0374157065.0...   \n4  http://images.amazon.com/images/P/0393045218.0...   \n\n                                         Image-URL-M  \\\n0  http://images.amazon.com/images/P/0195153448.0...   \n1  http://images.amazon.com/images/P/0002005018.0...   \n2  http://images.amazon.com/images/P/0060973129.0...   \n3  http://images.amazon.com/images/P/0374157065.0...   \n4  http://images.amazon.com/images/P/0393045218.0...   \n\n                                         Image-URL-L  \n0  http://images.amazon.com/images/P/0195153448.0...  \n1  http://images.amazon.com/images/P/0002005018.0...  \n2  http://images.amazon.com/images/P/0060973129.0...  \n3  http://images.amazon.com/images/P/0374157065.0...  \n4  http://images.amazon.com/images/P/0393045218.0...  ",
      "text/html": "<div>\n<style scoped>\n    .dataframe tbody tr th:only-of-type {\n        vertical-align: middle;\n    }\n\n    .dataframe tbody tr th {\n        vertical-align: top;\n    }\n\n    .dataframe thead th {\n        text-align: right;\n    }\n</style>\n<table border=\"1\" class=\"dataframe\">\n  <thead>\n    <tr style=\"text-align: right;\">\n      <th></th>\n      <th>ISBN</th>\n      <th>Book-Title</th>\n      <th>Book-Author</th>\n      <th>Year-Of-Publication</th>\n      <th>Publisher</th>\n      <th>Image-URL-S</th>\n      <th>Image-URL-M</th>\n      <th>Image-URL-L</th>\n    </tr>\n  </thead>\n  <tbody>\n    <tr>\n      <th>0</th>\n      <td>0195153448</td>\n      <td>Classical Mythology</td>\n      <td>Mark P. O. Morford</td>\n      <td>2002</td>\n      <td>Oxford University Press</td>\n      <td>http://images.amazon.com/images/P/0195153448.0...</td>\n      <td>http://images.amazon.com/images/P/0195153448.0...</td>\n      <td>http://images.amazon.com/images/P/0195153448.0...</td>\n    </tr>\n    <tr>\n      <th>1</th>\n      <td>0002005018</td>\n      <td>Clara Callan</td>\n      <td>Richard Bruce Wright</td>\n      <td>2001</td>\n      <td>HarperFlamingo Canada</td>\n      <td>http://images.amazon.com/images/P/0002005018.0...</td>\n      <td>http://images.amazon.com/images/P/0002005018.0...</td>\n      <td>http://images.amazon.com/images/P/0002005018.0...</td>\n    </tr>\n    <tr>\n      <th>2</th>\n      <td>0060973129</td>\n      <td>Decision in Normandy</td>\n      <td>Carlo D'Este</td>\n      <td>1991</td>\n      <td>HarperPerennial</td>\n      <td>http://images.amazon.com/images/P/0060973129.0...</td>\n      <td>http://images.amazon.com/images/P/0060973129.0...</td>\n      <td>http://images.amazon.com/images/P/0060973129.0...</td>\n    </tr>\n    <tr>\n      <th>3</th>\n      <td>0374157065</td>\n      <td>Flu: The Story of the Great Influenza Pandemic...</td>\n      <td>Gina Bari Kolata</td>\n      <td>1999</td>\n      <td>Farrar Straus Giroux</td>\n      <td>http://images.amazon.com/images/P/0374157065.0...</td>\n      <td>http://images.amazon.com/images/P/0374157065.0...</td>\n      <td>http://images.amazon.com/images/P/0374157065.0...</td>\n    </tr>\n    <tr>\n      <th>4</th>\n      <td>0393045218</td>\n      <td>The Mummies of Urumchi</td>\n      <td>E. J. W. Barber</td>\n      <td>1999</td>\n      <td>W. W. Norton &amp;amp; Company</td>\n      <td>http://images.amazon.com/images/P/0393045218.0...</td>\n      <td>http://images.amazon.com/images/P/0393045218.0...</td>\n      <td>http://images.amazon.com/images/P/0393045218.0...</td>\n    </tr>\n  </tbody>\n</table>\n</div>"
     },
     "execution_count": 5,
     "metadata": {},
     "output_type": "execute_result"
    }
   ],
   "source": [
    "print(books.shape)\n",
    "books.head()"
   ],
   "metadata": {
    "collapsed": false,
    "pycharm": {
     "name": "#%%\n"
    }
   }
  },
  {
   "cell_type": "code",
   "execution_count": 6,
   "outputs": [],
   "source": [
    "books = books.set_index(\"ISBN\")\n"
   ],
   "metadata": {
    "collapsed": false,
    "pycharm": {
     "name": "#%%\n"
    }
   }
  },
  {
   "cell_type": "code",
   "execution_count": 7,
   "metadata": {
    "pycharm": {
     "name": "#%%\n"
    }
   },
   "outputs": [
    {
     "data": {
      "text/plain": "             User-ID  Book-Rating  \\\nISBN                                \n034545104X    276725            0   \n0155061224    276726            5   \n0446520802    276727            0   \n052165615X    276729            3   \n0521795028    276729            6   \n...              ...          ...   \n1563526298    276704            9   \n0679447156    276706            0   \n0515107662    276709           10   \n0590442449    276721           10   \n05162443314   276723            8   \n\n                                                    Book-Title  \\\nISBN                                                             \n034545104X                                Flesh Tones: A Novel   \n0155061224                                    Rites of Passage   \n0446520802                                        The Notebook   \n052165615X                                      Help!: Level 1   \n0521795028   The Amsterdam Connection : Level 4 (Cambridge ...   \n...                                                        ...   \n1563526298   Get Clark Smart : The Ultimate Guide for the S...   \n0679447156   Eight Weeks to Optimum Health: A Proven Progra...   \n0515107662    The Sherbrooke Bride (Bride Trilogy (Paperback))   \n0590442449                                   Fourth Grade Rats   \n05162443314                                                NaN   \n\n                   Book-Author Year-Of-Publication  \\\nISBN                                                 \n034545104X          M. J. Rose                2002   \n0155061224          Judith Rae                2001   \n0446520802     Nicholas Sparks                1996   \n052165615X       Philip Prowse                1999   \n0521795028         Sue Leather                2001   \n...                        ...                 ...   \n1563526298        Clark Howard                2000   \n0679447156         Andrew Weil                1997   \n0515107662   Catherine Coulter                1996   \n0590442449      Jerry Spinelli                1996   \n05162443314                NaN                 NaN   \n\n                              Publisher  \\\nISBN                                      \n034545104X             Ballantine Books   \n0155061224                       Heinle   \n0446520802                 Warner Books   \n052165615X   Cambridge University Press   \n0521795028   Cambridge University Press   \n...                                 ...   \n1563526298             Longstreet Press   \n0679447156              Alfred A. Knopf   \n0515107662                   Jove Books   \n0590442449                   Scholastic   \n05162443314                         NaN   \n\n                                                   Image-URL-S  \\\nISBN                                                             \n034545104X   http://images.amazon.com/images/P/034545104X.0...   \n0155061224   http://images.amazon.com/images/P/0155061224.0...   \n0446520802   http://images.amazon.com/images/P/0446520802.0...   \n052165615X   http://images.amazon.com/images/P/052165615X.0...   \n0521795028   http://images.amazon.com/images/P/0521795028.0...   \n...                                                        ...   \n1563526298   http://images.amazon.com/images/P/1563526298.0...   \n0679447156   http://images.amazon.com/images/P/0679447156.0...   \n0515107662   http://images.amazon.com/images/P/0515107662.0...   \n0590442449   http://images.amazon.com/images/P/0590442449.0...   \n05162443314                                                NaN   \n\n                                                   Image-URL-M  \\\nISBN                                                             \n034545104X   http://images.amazon.com/images/P/034545104X.0...   \n0155061224   http://images.amazon.com/images/P/0155061224.0...   \n0446520802   http://images.amazon.com/images/P/0446520802.0...   \n052165615X   http://images.amazon.com/images/P/052165615X.0...   \n0521795028   http://images.amazon.com/images/P/0521795028.0...   \n...                                                        ...   \n1563526298   http://images.amazon.com/images/P/1563526298.0...   \n0679447156   http://images.amazon.com/images/P/0679447156.0...   \n0515107662   http://images.amazon.com/images/P/0515107662.0...   \n0590442449   http://images.amazon.com/images/P/0590442449.0...   \n05162443314                                                NaN   \n\n                                                   Image-URL-L  \nISBN                                                            \n034545104X   http://images.amazon.com/images/P/034545104X.0...  \n0155061224   http://images.amazon.com/images/P/0155061224.0...  \n0446520802   http://images.amazon.com/images/P/0446520802.0...  \n052165615X   http://images.amazon.com/images/P/052165615X.0...  \n0521795028   http://images.amazon.com/images/P/0521795028.0...  \n...                                                        ...  \n1563526298   http://images.amazon.com/images/P/1563526298.0...  \n0679447156   http://images.amazon.com/images/P/0679447156.0...  \n0515107662   http://images.amazon.com/images/P/0515107662.0...  \n0590442449   http://images.amazon.com/images/P/0590442449.0...  \n05162443314                                                NaN  \n\n[1149780 rows x 9 columns]",
      "text/html": "<div>\n<style scoped>\n    .dataframe tbody tr th:only-of-type {\n        vertical-align: middle;\n    }\n\n    .dataframe tbody tr th {\n        vertical-align: top;\n    }\n\n    .dataframe thead th {\n        text-align: right;\n    }\n</style>\n<table border=\"1\" class=\"dataframe\">\n  <thead>\n    <tr style=\"text-align: right;\">\n      <th></th>\n      <th>User-ID</th>\n      <th>Book-Rating</th>\n      <th>Book-Title</th>\n      <th>Book-Author</th>\n      <th>Year-Of-Publication</th>\n      <th>Publisher</th>\n      <th>Image-URL-S</th>\n      <th>Image-URL-M</th>\n      <th>Image-URL-L</th>\n    </tr>\n    <tr>\n      <th>ISBN</th>\n      <th></th>\n      <th></th>\n      <th></th>\n      <th></th>\n      <th></th>\n      <th></th>\n      <th></th>\n      <th></th>\n      <th></th>\n    </tr>\n  </thead>\n  <tbody>\n    <tr>\n      <th>034545104X</th>\n      <td>276725</td>\n      <td>0</td>\n      <td>Flesh Tones: A Novel</td>\n      <td>M. J. Rose</td>\n      <td>2002</td>\n      <td>Ballantine Books</td>\n      <td>http://images.amazon.com/images/P/034545104X.0...</td>\n      <td>http://images.amazon.com/images/P/034545104X.0...</td>\n      <td>http://images.amazon.com/images/P/034545104X.0...</td>\n    </tr>\n    <tr>\n      <th>0155061224</th>\n      <td>276726</td>\n      <td>5</td>\n      <td>Rites of Passage</td>\n      <td>Judith Rae</td>\n      <td>2001</td>\n      <td>Heinle</td>\n      <td>http://images.amazon.com/images/P/0155061224.0...</td>\n      <td>http://images.amazon.com/images/P/0155061224.0...</td>\n      <td>http://images.amazon.com/images/P/0155061224.0...</td>\n    </tr>\n    <tr>\n      <th>0446520802</th>\n      <td>276727</td>\n      <td>0</td>\n      <td>The Notebook</td>\n      <td>Nicholas Sparks</td>\n      <td>1996</td>\n      <td>Warner Books</td>\n      <td>http://images.amazon.com/images/P/0446520802.0...</td>\n      <td>http://images.amazon.com/images/P/0446520802.0...</td>\n      <td>http://images.amazon.com/images/P/0446520802.0...</td>\n    </tr>\n    <tr>\n      <th>052165615X</th>\n      <td>276729</td>\n      <td>3</td>\n      <td>Help!: Level 1</td>\n      <td>Philip Prowse</td>\n      <td>1999</td>\n      <td>Cambridge University Press</td>\n      <td>http://images.amazon.com/images/P/052165615X.0...</td>\n      <td>http://images.amazon.com/images/P/052165615X.0...</td>\n      <td>http://images.amazon.com/images/P/052165615X.0...</td>\n    </tr>\n    <tr>\n      <th>0521795028</th>\n      <td>276729</td>\n      <td>6</td>\n      <td>The Amsterdam Connection : Level 4 (Cambridge ...</td>\n      <td>Sue Leather</td>\n      <td>2001</td>\n      <td>Cambridge University Press</td>\n      <td>http://images.amazon.com/images/P/0521795028.0...</td>\n      <td>http://images.amazon.com/images/P/0521795028.0...</td>\n      <td>http://images.amazon.com/images/P/0521795028.0...</td>\n    </tr>\n    <tr>\n      <th>...</th>\n      <td>...</td>\n      <td>...</td>\n      <td>...</td>\n      <td>...</td>\n      <td>...</td>\n      <td>...</td>\n      <td>...</td>\n      <td>...</td>\n      <td>...</td>\n    </tr>\n    <tr>\n      <th>1563526298</th>\n      <td>276704</td>\n      <td>9</td>\n      <td>Get Clark Smart : The Ultimate Guide for the S...</td>\n      <td>Clark Howard</td>\n      <td>2000</td>\n      <td>Longstreet Press</td>\n      <td>http://images.amazon.com/images/P/1563526298.0...</td>\n      <td>http://images.amazon.com/images/P/1563526298.0...</td>\n      <td>http://images.amazon.com/images/P/1563526298.0...</td>\n    </tr>\n    <tr>\n      <th>0679447156</th>\n      <td>276706</td>\n      <td>0</td>\n      <td>Eight Weeks to Optimum Health: A Proven Progra...</td>\n      <td>Andrew Weil</td>\n      <td>1997</td>\n      <td>Alfred A. Knopf</td>\n      <td>http://images.amazon.com/images/P/0679447156.0...</td>\n      <td>http://images.amazon.com/images/P/0679447156.0...</td>\n      <td>http://images.amazon.com/images/P/0679447156.0...</td>\n    </tr>\n    <tr>\n      <th>0515107662</th>\n      <td>276709</td>\n      <td>10</td>\n      <td>The Sherbrooke Bride (Bride Trilogy (Paperback))</td>\n      <td>Catherine Coulter</td>\n      <td>1996</td>\n      <td>Jove Books</td>\n      <td>http://images.amazon.com/images/P/0515107662.0...</td>\n      <td>http://images.amazon.com/images/P/0515107662.0...</td>\n      <td>http://images.amazon.com/images/P/0515107662.0...</td>\n    </tr>\n    <tr>\n      <th>0590442449</th>\n      <td>276721</td>\n      <td>10</td>\n      <td>Fourth Grade Rats</td>\n      <td>Jerry Spinelli</td>\n      <td>1996</td>\n      <td>Scholastic</td>\n      <td>http://images.amazon.com/images/P/0590442449.0...</td>\n      <td>http://images.amazon.com/images/P/0590442449.0...</td>\n      <td>http://images.amazon.com/images/P/0590442449.0...</td>\n    </tr>\n    <tr>\n      <th>05162443314</th>\n      <td>276723</td>\n      <td>8</td>\n      <td>NaN</td>\n      <td>NaN</td>\n      <td>NaN</td>\n      <td>NaN</td>\n      <td>NaN</td>\n      <td>NaN</td>\n      <td>NaN</td>\n    </tr>\n  </tbody>\n</table>\n<p>1149780 rows × 9 columns</p>\n</div>"
     },
     "execution_count": 7,
     "metadata": {},
     "output_type": "execute_result"
    }
   ],
   "source": [
    "book_df = book_ratings.join(books,how=\"left\",on=\"ISBN\")\n",
    "book_df.set_index('ISBN')"
   ]
  },
  {
   "cell_type": "markdown",
   "metadata": {
    "pycharm": {
     "name": "#%% md\n"
    }
   },
   "source": [
    "* create dataframe with name 'df_book_features' from book_ratings that have `ISBN` as index, `User-ID` as columns and values are `Book-Rating`.\n",
    "    - The data are quite big so it's OK to use a sample only in case your PC has limited RAM.\n"
   ]
  },
  {
   "cell_type": "code",
   "execution_count": 8,
   "outputs": [],
   "source": [
    "del books\n",
    "del book_ratings"
   ],
   "metadata": {
    "collapsed": false,
    "pycharm": {
     "name": "#%%\n"
    }
   }
  },
  {
   "cell_type": "code",
   "execution_count": 89,
   "metadata": {
    "pycharm": {
     "name": "#%%\n"
    }
   },
   "outputs": [],
   "source": [
    "import numpy as np\n",
    "df_book_features = book_df.sample(frac=0.025,random_state=1738).pivot(index=['ISBN'],columns=['User-ID'],values=['Book-Rating'])\n",
    "\n",
    "from sklearn.impute import  SimpleImputer\n",
    "imputer = SimpleImputer(missing_values=np.nan,strategy=\"mean\")\n",
    "\n",
    "df_book_features2 = pd.DataFrame(imputer.fit_transform(X=df_book_features.T).T)\n",
    "# df_book_features = df_book_features.fillna(-100)"
   ]
  },
  {
   "cell_type": "code",
   "execution_count": 83,
   "outputs": [],
   "source": [],
   "metadata": {
    "collapsed": false,
    "pycharm": {
     "name": "#%%\n"
    }
   }
  },
  {
   "cell_type": "code",
   "execution_count": 90,
   "metadata": {
    "ExecuteTime": {
     "end_time": "2020-04-30T11:55:52.823663Z",
     "start_time": "2020-04-30T11:55:52.625380Z"
    },
    "pycharm": {
     "name": "#%%\n"
    }
   },
   "outputs": [],
   "source": [
    "df_book_features2.columns = df_book_features.columns\n",
    "df_book_features2 = df_book_features2.set_index(df_book_features.index)\n"
   ]
  },
  {
   "cell_type": "code",
   "execution_count": 97,
   "outputs": [
    {
     "data": {
      "text/plain": "               Book-Rating                                                   \\\nUser-ID             38     99     182    183    243    244    254    272      \nISBN                                                                          \n0.473.087979           8.0    8.0    8.0    8.0    8.0    8.0    8.0    8.0   \n000000000              0.0    0.0    0.0    0.0    0.0    0.0    0.0    0.0   \n0000000000            10.0   10.0   10.0   10.0   10.0   10.0   10.0   10.0   \n000001246971           8.0    8.0    8.0    8.0    8.0    8.0    8.0    8.0   \n0001046624             0.0    0.0    0.0    0.0    0.0    0.0    0.0    0.0   \n...                    ...    ...    ...    ...    ...    ...    ...    ...   \nQ912838027             0.0    0.0    0.0    0.0    0.0    0.0    0.0    0.0   \nSBN425037452           0.0    0.0    0.0    0.0    0.0    0.0    0.0    0.0   \nX000000000            10.0   10.0   10.0   10.0   10.0   10.0   10.0   10.0   \n\\8887517452\\\"\"        10.0   10.0   10.0   10.0   10.0   10.0   10.0   10.0   \ncn108465               0.0    0.0    0.0    0.0    0.0    0.0    0.0    0.0   \n\n                              ...                                            \\\nUser-ID        392    440     ... 278563 278582 278637 278644 278659 278691   \nISBN                          ...                                             \n0.473.087979      8.0    8.0  ...    8.0    8.0    8.0    8.0    8.0    8.0   \n000000000         0.0    0.0  ...    0.0    0.0    0.0    0.0    0.0    0.0   \n0000000000       10.0   10.0  ...   10.0   10.0   10.0   10.0   10.0   10.0   \n000001246971      8.0    8.0  ...    8.0    8.0    8.0    8.0    8.0    8.0   \n0001046624        0.0    0.0  ...    0.0    0.0    0.0    0.0    0.0    0.0   \n...               ...    ...  ...    ...    ...    ...    ...    ...    ...   \nQ912838027        0.0    0.0  ...    0.0    0.0    0.0    0.0    0.0    0.0   \nSBN425037452      0.0    0.0  ...    0.0    0.0    0.0    0.0    0.0    0.0   \nX000000000       10.0   10.0  ...   10.0   10.0   10.0   10.0   10.0   10.0   \n\\8887517452\\\"\"   10.0   10.0  ...   10.0   10.0   10.0   10.0   10.0   10.0   \ncn108465          0.0    0.0  ...    0.0    0.0    0.0    0.0    0.0    0.0   \n\n                                            \nUser-ID        278771 278789 278843 278851  \nISBN                                        \n0.473.087979      8.0    8.0    8.0    8.0  \n000000000         0.0    0.0    0.0    0.0  \n0000000000       10.0   10.0   10.0   10.0  \n000001246971      8.0    8.0    8.0    8.0  \n0001046624        0.0    0.0    0.0    0.0  \n...               ...    ...    ...    ...  \nQ912838027        0.0    0.0    0.0    0.0  \nSBN425037452      0.0    0.0    0.0    0.0  \nX000000000       10.0   10.0   10.0   10.0  \n\\8887517452\\\"\"   10.0   10.0   10.0   10.0  \ncn108465          0.0    0.0    0.0    0.0  \n\n[22579 rows x 11365 columns]",
      "text/html": "<div>\n<style scoped>\n    .dataframe tbody tr th:only-of-type {\n        vertical-align: middle;\n    }\n\n    .dataframe tbody tr th {\n        vertical-align: top;\n    }\n\n    .dataframe thead tr th {\n        text-align: left;\n    }\n\n    .dataframe thead tr:last-of-type th {\n        text-align: right;\n    }\n</style>\n<table border=\"1\" class=\"dataframe\">\n  <thead>\n    <tr>\n      <th></th>\n      <th colspan=\"21\" halign=\"left\">Book-Rating</th>\n    </tr>\n    <tr>\n      <th>User-ID</th>\n      <th>38</th>\n      <th>99</th>\n      <th>182</th>\n      <th>183</th>\n      <th>243</th>\n      <th>244</th>\n      <th>254</th>\n      <th>272</th>\n      <th>392</th>\n      <th>440</th>\n      <th>...</th>\n      <th>278563</th>\n      <th>278582</th>\n      <th>278637</th>\n      <th>278644</th>\n      <th>278659</th>\n      <th>278691</th>\n      <th>278771</th>\n      <th>278789</th>\n      <th>278843</th>\n      <th>278851</th>\n    </tr>\n    <tr>\n      <th>ISBN</th>\n      <th></th>\n      <th></th>\n      <th></th>\n      <th></th>\n      <th></th>\n      <th></th>\n      <th></th>\n      <th></th>\n      <th></th>\n      <th></th>\n      <th></th>\n      <th></th>\n      <th></th>\n      <th></th>\n      <th></th>\n      <th></th>\n      <th></th>\n      <th></th>\n      <th></th>\n      <th></th>\n      <th></th>\n    </tr>\n  </thead>\n  <tbody>\n    <tr>\n      <th>0.473.087979</th>\n      <td>8.0</td>\n      <td>8.0</td>\n      <td>8.0</td>\n      <td>8.0</td>\n      <td>8.0</td>\n      <td>8.0</td>\n      <td>8.0</td>\n      <td>8.0</td>\n      <td>8.0</td>\n      <td>8.0</td>\n      <td>...</td>\n      <td>8.0</td>\n      <td>8.0</td>\n      <td>8.0</td>\n      <td>8.0</td>\n      <td>8.0</td>\n      <td>8.0</td>\n      <td>8.0</td>\n      <td>8.0</td>\n      <td>8.0</td>\n      <td>8.0</td>\n    </tr>\n    <tr>\n      <th>000000000</th>\n      <td>0.0</td>\n      <td>0.0</td>\n      <td>0.0</td>\n      <td>0.0</td>\n      <td>0.0</td>\n      <td>0.0</td>\n      <td>0.0</td>\n      <td>0.0</td>\n      <td>0.0</td>\n      <td>0.0</td>\n      <td>...</td>\n      <td>0.0</td>\n      <td>0.0</td>\n      <td>0.0</td>\n      <td>0.0</td>\n      <td>0.0</td>\n      <td>0.0</td>\n      <td>0.0</td>\n      <td>0.0</td>\n      <td>0.0</td>\n      <td>0.0</td>\n    </tr>\n    <tr>\n      <th>0000000000</th>\n      <td>10.0</td>\n      <td>10.0</td>\n      <td>10.0</td>\n      <td>10.0</td>\n      <td>10.0</td>\n      <td>10.0</td>\n      <td>10.0</td>\n      <td>10.0</td>\n      <td>10.0</td>\n      <td>10.0</td>\n      <td>...</td>\n      <td>10.0</td>\n      <td>10.0</td>\n      <td>10.0</td>\n      <td>10.0</td>\n      <td>10.0</td>\n      <td>10.0</td>\n      <td>10.0</td>\n      <td>10.0</td>\n      <td>10.0</td>\n      <td>10.0</td>\n    </tr>\n    <tr>\n      <th>000001246971</th>\n      <td>8.0</td>\n      <td>8.0</td>\n      <td>8.0</td>\n      <td>8.0</td>\n      <td>8.0</td>\n      <td>8.0</td>\n      <td>8.0</td>\n      <td>8.0</td>\n      <td>8.0</td>\n      <td>8.0</td>\n      <td>...</td>\n      <td>8.0</td>\n      <td>8.0</td>\n      <td>8.0</td>\n      <td>8.0</td>\n      <td>8.0</td>\n      <td>8.0</td>\n      <td>8.0</td>\n      <td>8.0</td>\n      <td>8.0</td>\n      <td>8.0</td>\n    </tr>\n    <tr>\n      <th>0001046624</th>\n      <td>0.0</td>\n      <td>0.0</td>\n      <td>0.0</td>\n      <td>0.0</td>\n      <td>0.0</td>\n      <td>0.0</td>\n      <td>0.0</td>\n      <td>0.0</td>\n      <td>0.0</td>\n      <td>0.0</td>\n      <td>...</td>\n      <td>0.0</td>\n      <td>0.0</td>\n      <td>0.0</td>\n      <td>0.0</td>\n      <td>0.0</td>\n      <td>0.0</td>\n      <td>0.0</td>\n      <td>0.0</td>\n      <td>0.0</td>\n      <td>0.0</td>\n    </tr>\n    <tr>\n      <th>...</th>\n      <td>...</td>\n      <td>...</td>\n      <td>...</td>\n      <td>...</td>\n      <td>...</td>\n      <td>...</td>\n      <td>...</td>\n      <td>...</td>\n      <td>...</td>\n      <td>...</td>\n      <td>...</td>\n      <td>...</td>\n      <td>...</td>\n      <td>...</td>\n      <td>...</td>\n      <td>...</td>\n      <td>...</td>\n      <td>...</td>\n      <td>...</td>\n      <td>...</td>\n      <td>...</td>\n    </tr>\n    <tr>\n      <th>Q912838027</th>\n      <td>0.0</td>\n      <td>0.0</td>\n      <td>0.0</td>\n      <td>0.0</td>\n      <td>0.0</td>\n      <td>0.0</td>\n      <td>0.0</td>\n      <td>0.0</td>\n      <td>0.0</td>\n      <td>0.0</td>\n      <td>...</td>\n      <td>0.0</td>\n      <td>0.0</td>\n      <td>0.0</td>\n      <td>0.0</td>\n      <td>0.0</td>\n      <td>0.0</td>\n      <td>0.0</td>\n      <td>0.0</td>\n      <td>0.0</td>\n      <td>0.0</td>\n    </tr>\n    <tr>\n      <th>SBN425037452</th>\n      <td>0.0</td>\n      <td>0.0</td>\n      <td>0.0</td>\n      <td>0.0</td>\n      <td>0.0</td>\n      <td>0.0</td>\n      <td>0.0</td>\n      <td>0.0</td>\n      <td>0.0</td>\n      <td>0.0</td>\n      <td>...</td>\n      <td>0.0</td>\n      <td>0.0</td>\n      <td>0.0</td>\n      <td>0.0</td>\n      <td>0.0</td>\n      <td>0.0</td>\n      <td>0.0</td>\n      <td>0.0</td>\n      <td>0.0</td>\n      <td>0.0</td>\n    </tr>\n    <tr>\n      <th>X000000000</th>\n      <td>10.0</td>\n      <td>10.0</td>\n      <td>10.0</td>\n      <td>10.0</td>\n      <td>10.0</td>\n      <td>10.0</td>\n      <td>10.0</td>\n      <td>10.0</td>\n      <td>10.0</td>\n      <td>10.0</td>\n      <td>...</td>\n      <td>10.0</td>\n      <td>10.0</td>\n      <td>10.0</td>\n      <td>10.0</td>\n      <td>10.0</td>\n      <td>10.0</td>\n      <td>10.0</td>\n      <td>10.0</td>\n      <td>10.0</td>\n      <td>10.0</td>\n    </tr>\n    <tr>\n      <th>\\8887517452\\\"\"</th>\n      <td>10.0</td>\n      <td>10.0</td>\n      <td>10.0</td>\n      <td>10.0</td>\n      <td>10.0</td>\n      <td>10.0</td>\n      <td>10.0</td>\n      <td>10.0</td>\n      <td>10.0</td>\n      <td>10.0</td>\n      <td>...</td>\n      <td>10.0</td>\n      <td>10.0</td>\n      <td>10.0</td>\n      <td>10.0</td>\n      <td>10.0</td>\n      <td>10.0</td>\n      <td>10.0</td>\n      <td>10.0</td>\n      <td>10.0</td>\n      <td>10.0</td>\n    </tr>\n    <tr>\n      <th>cn108465</th>\n      <td>0.0</td>\n      <td>0.0</td>\n      <td>0.0</td>\n      <td>0.0</td>\n      <td>0.0</td>\n      <td>0.0</td>\n      <td>0.0</td>\n      <td>0.0</td>\n      <td>0.0</td>\n      <td>0.0</td>\n      <td>...</td>\n      <td>0.0</td>\n      <td>0.0</td>\n      <td>0.0</td>\n      <td>0.0</td>\n      <td>0.0</td>\n      <td>0.0</td>\n      <td>0.0</td>\n      <td>0.0</td>\n      <td>0.0</td>\n      <td>0.0</td>\n    </tr>\n  </tbody>\n</table>\n<p>22579 rows × 11365 columns</p>\n</div>"
     },
     "execution_count": 97,
     "metadata": {},
     "output_type": "execute_result"
    }
   ],
   "source": [
    "df_book_features = df_book_features2\n",
    "df_book_features"
   ],
   "metadata": {
    "collapsed": false,
    "pycharm": {
     "name": "#%%\n"
    }
   }
  },
  {
   "cell_type": "markdown",
   "metadata": {
    "pycharm": {
     "name": "#%% md\n"
    }
   },
   "source": [
    "* create the instance of the NearestNeighbors class"
   ]
  },
  {
   "cell_type": "code",
   "execution_count": 98,
   "metadata": {
    "pycharm": {
     "name": "#%%\n"
    }
   },
   "outputs": [],
   "source": [
    "from sklearn.neighbors import NearestNeighbors\n",
    "\n",
    "nn = NearestNeighbors(n_jobs=-1,n_neighbors=5)"
   ]
  },
  {
   "cell_type": "code",
   "execution_count": 99,
   "metadata": {
    "ExecuteTime": {
     "end_time": "2020-04-30T11:55:53.145459Z",
     "start_time": "2020-04-30T11:55:53.141860Z"
    },
    "pycharm": {
     "name": "#%%\n"
    }
   },
   "outputs": [],
   "source": [
    "# df_book_features.head()"
   ]
  },
  {
   "cell_type": "markdown",
   "metadata": {
    "pycharm": {
     "name": "#%% md\n"
    }
   },
   "source": [
    "* fit the NearestNeighbors using'df_book_features'"
   ]
  },
  {
   "cell_type": "code",
   "execution_count": 100,
   "metadata": {
    "pycharm": {
     "name": "#%%\n"
    }
   },
   "outputs": [],
   "source": [
    "model = nn.fit(df_book_features)"
   ]
  },
  {
   "cell_type": "code",
   "execution_count": 100,
   "metadata": {
    "ExecuteTime": {
     "end_time": "2020-04-30T11:55:53.493631Z",
     "start_time": "2020-04-30T11:55:53.474582Z"
    },
    "pycharm": {
     "name": "#%%\n"
    }
   },
   "outputs": [],
   "source": []
  },
  {
   "cell_type": "markdown",
   "metadata": {
    "pycharm": {
     "name": "#%% md\n"
    }
   },
   "source": [
    "* create function that returns top 5 most similar movies (according to KNN model) for selected ISBN\n",
    "    * the input will be Book-Title from the DataFrame books \n",
    "    * the output will be the Book-Titles of the top 5 most similar books.\n",
    "    * for every book in the top 5 most similar books, print also the distance from the selected book (ISBN we chose as input to the function)"
   ]
  },
  {
   "cell_type": "code",
   "execution_count": 110,
   "metadata": {
    "ExecuteTime": {
     "end_time": "2020-04-30T11:55:53.927703Z",
     "start_time": "2020-04-30T11:55:53.912627Z"
    },
    "pycharm": {
     "name": "#%%\n"
    }
   },
   "outputs": [],
   "source": [
    "import numpy as np\n",
    "def get_similar(book_title:str) -> pd.DataFrame:\n",
    "\n",
    "    the_book = books.loc[books['Book-Title'] == book_title]\n",
    "    the_isbn = str(the_book.iloc[0,:]['ISBN'])\n",
    "\n",
    "    print(the_isbn)\n",
    "    the_row = np.array(df_book_features.loc[str(the_isbn),:])\n",
    "    the_row = the_row.reshape(1,-1)\n",
    "\n",
    "    rez = model.kneighbors(the_row,5)\n",
    "    print(rez)\n",
    "    ilist = list(df_book_features.index)\n",
    "    out_df = pd.DataFrame(columns=['Book-Title','Distance'])\n",
    "    out_df['Distance'] = rez[0][0]\n",
    "    title_list = []\n",
    "    for i in rez[1][0]:\n",
    "        isbn = ilist[i]\n",
    "        title_list = title_list + (books.loc[books['ISBN'] == isbn])['Book-Title']\n",
    "\n",
    "    out_df['Book-Title'] = title_list\n",
    "    return out_df\n"
   ]
  },
  {
   "cell_type": "markdown",
   "metadata": {
    "pycharm": {
     "name": "#%% md\n"
    }
   },
   "source": [
    "* Apply the function to book of your choice"
   ]
  },
  {
   "cell_type": "code",
   "execution_count": 111,
   "outputs": [
    {
     "name": "stdout",
     "output_type": "stream",
     "text": [
      "0446605239\n",
      "(array([[ 0.       , 15.3622915, 15.3622915, 15.3622915, 15.3622915]]), array([[8857,  925,  792, 3038,  104]], dtype=int64))\n"
     ]
    },
    {
     "ename": "ValueError",
     "evalue": "Length of values (0) does not match length of index (1)",
     "output_type": "error",
     "traceback": [
      "\u001B[1;31m---------------------------------------------------------------------------\u001B[0m",
      "\u001B[1;31mValueError\u001B[0m                                Traceback (most recent call last)",
      "Input \u001B[1;32mIn [111]\u001B[0m, in \u001B[0;36m<cell line: 1>\u001B[1;34m()\u001B[0m\n\u001B[1;32m----> 1\u001B[0m \u001B[43mget_similar\u001B[49m\u001B[43m(\u001B[49m\u001B[38;5;124;43m\"\u001B[39;49m\u001B[38;5;124;43mThe Notebook\u001B[39;49m\u001B[38;5;124;43m\"\u001B[39;49m\u001B[43m)\u001B[49m\n",
      "Input \u001B[1;32mIn [110]\u001B[0m, in \u001B[0;36mget_similar\u001B[1;34m(book_title)\u001B[0m\n\u001B[0;32m     17\u001B[0m \u001B[38;5;28;01mfor\u001B[39;00m i \u001B[38;5;129;01min\u001B[39;00m rez[\u001B[38;5;241m1\u001B[39m][\u001B[38;5;241m0\u001B[39m]:\n\u001B[0;32m     18\u001B[0m     isbn \u001B[38;5;241m=\u001B[39m ilist[i]\n\u001B[1;32m---> 19\u001B[0m     title_list \u001B[38;5;241m=\u001B[39m \u001B[43mtitle_list\u001B[49m\u001B[43m \u001B[49m\u001B[38;5;241;43m+\u001B[39;49m\u001B[43m \u001B[49m\u001B[43m(\u001B[49m\u001B[43mbooks\u001B[49m\u001B[38;5;241;43m.\u001B[39;49m\u001B[43mloc\u001B[49m\u001B[43m[\u001B[49m\u001B[43mbooks\u001B[49m\u001B[43m[\u001B[49m\u001B[38;5;124;43m'\u001B[39;49m\u001B[38;5;124;43mISBN\u001B[39;49m\u001B[38;5;124;43m'\u001B[39;49m\u001B[43m]\u001B[49m\u001B[43m \u001B[49m\u001B[38;5;241;43m==\u001B[39;49m\u001B[43m \u001B[49m\u001B[43misbn\u001B[49m\u001B[43m]\u001B[49m\u001B[43m)\u001B[49m\u001B[43m[\u001B[49m\u001B[38;5;124;43m'\u001B[39;49m\u001B[38;5;124;43mBook-Title\u001B[39;49m\u001B[38;5;124;43m'\u001B[39;49m\u001B[43m]\u001B[49m\n\u001B[0;32m     21\u001B[0m out_df[\u001B[38;5;124m'\u001B[39m\u001B[38;5;124mBook-Title\u001B[39m\u001B[38;5;124m'\u001B[39m] \u001B[38;5;241m=\u001B[39m title_list\n\u001B[0;32m     22\u001B[0m \u001B[38;5;28;01mreturn\u001B[39;00m out_df\n",
      "File \u001B[1;32m~\\miniconda3\\envs\\pyspark-1\\lib\\site-packages\\pandas\\core\\ops\\common.py:70\u001B[0m, in \u001B[0;36m_unpack_zerodim_and_defer.<locals>.new_method\u001B[1;34m(self, other)\u001B[0m\n\u001B[0;32m     66\u001B[0m             \u001B[38;5;28;01mreturn\u001B[39;00m \u001B[38;5;28mNotImplemented\u001B[39m\n\u001B[0;32m     68\u001B[0m other \u001B[38;5;241m=\u001B[39m item_from_zerodim(other)\n\u001B[1;32m---> 70\u001B[0m \u001B[38;5;28;01mreturn\u001B[39;00m \u001B[43mmethod\u001B[49m\u001B[43m(\u001B[49m\u001B[38;5;28;43mself\u001B[39;49m\u001B[43m,\u001B[49m\u001B[43m \u001B[49m\u001B[43mother\u001B[49m\u001B[43m)\u001B[49m\n",
      "File \u001B[1;32m~\\miniconda3\\envs\\pyspark-1\\lib\\site-packages\\pandas\\core\\arraylike.py:104\u001B[0m, in \u001B[0;36mOpsMixin.__radd__\u001B[1;34m(self, other)\u001B[0m\n\u001B[0;32m    102\u001B[0m \u001B[38;5;129m@unpack_zerodim_and_defer\u001B[39m(\u001B[38;5;124m\"\u001B[39m\u001B[38;5;124m__radd__\u001B[39m\u001B[38;5;124m\"\u001B[39m)\n\u001B[0;32m    103\u001B[0m \u001B[38;5;28;01mdef\u001B[39;00m \u001B[38;5;21m__radd__\u001B[39m(\u001B[38;5;28mself\u001B[39m, other):\n\u001B[1;32m--> 104\u001B[0m     \u001B[38;5;28;01mreturn\u001B[39;00m \u001B[38;5;28;43mself\u001B[39;49m\u001B[38;5;241;43m.\u001B[39;49m\u001B[43m_arith_method\u001B[49m\u001B[43m(\u001B[49m\u001B[43mother\u001B[49m\u001B[43m,\u001B[49m\u001B[43m \u001B[49m\u001B[43mroperator\u001B[49m\u001B[38;5;241;43m.\u001B[39;49m\u001B[43mradd\u001B[49m\u001B[43m)\u001B[49m\n",
      "File \u001B[1;32m~\\miniconda3\\envs\\pyspark-1\\lib\\site-packages\\pandas\\core\\series.py:5639\u001B[0m, in \u001B[0;36mSeries._arith_method\u001B[1;34m(self, other, op)\u001B[0m\n\u001B[0;32m   5637\u001B[0m \u001B[38;5;28;01mdef\u001B[39;00m \u001B[38;5;21m_arith_method\u001B[39m(\u001B[38;5;28mself\u001B[39m, other, op):\n\u001B[0;32m   5638\u001B[0m     \u001B[38;5;28mself\u001B[39m, other \u001B[38;5;241m=\u001B[39m ops\u001B[38;5;241m.\u001B[39malign_method_SERIES(\u001B[38;5;28mself\u001B[39m, other)\n\u001B[1;32m-> 5639\u001B[0m     \u001B[38;5;28;01mreturn\u001B[39;00m \u001B[43mbase\u001B[49m\u001B[38;5;241;43m.\u001B[39;49m\u001B[43mIndexOpsMixin\u001B[49m\u001B[38;5;241;43m.\u001B[39;49m\u001B[43m_arith_method\u001B[49m\u001B[43m(\u001B[49m\u001B[38;5;28;43mself\u001B[39;49m\u001B[43m,\u001B[49m\u001B[43m \u001B[49m\u001B[43mother\u001B[49m\u001B[43m,\u001B[49m\u001B[43m \u001B[49m\u001B[43mop\u001B[49m\u001B[43m)\u001B[49m\n",
      "File \u001B[1;32m~\\miniconda3\\envs\\pyspark-1\\lib\\site-packages\\pandas\\core\\base.py:1297\u001B[0m, in \u001B[0;36mIndexOpsMixin._arith_method\u001B[1;34m(self, other, op)\u001B[0m\n\u001B[0;32m   1294\u001B[0m \u001B[38;5;28;01mwith\u001B[39;00m np\u001B[38;5;241m.\u001B[39merrstate(\u001B[38;5;28mall\u001B[39m\u001B[38;5;241m=\u001B[39m\u001B[38;5;124m\"\u001B[39m\u001B[38;5;124mignore\u001B[39m\u001B[38;5;124m\"\u001B[39m):\n\u001B[0;32m   1295\u001B[0m     result \u001B[38;5;241m=\u001B[39m ops\u001B[38;5;241m.\u001B[39marithmetic_op(lvalues, rvalues, op)\n\u001B[1;32m-> 1297\u001B[0m \u001B[38;5;28;01mreturn\u001B[39;00m \u001B[38;5;28;43mself\u001B[39;49m\u001B[38;5;241;43m.\u001B[39;49m\u001B[43m_construct_result\u001B[49m\u001B[43m(\u001B[49m\u001B[43mresult\u001B[49m\u001B[43m,\u001B[49m\u001B[43m \u001B[49m\u001B[43mname\u001B[49m\u001B[38;5;241;43m=\u001B[39;49m\u001B[43mres_name\u001B[49m\u001B[43m)\u001B[49m\n",
      "File \u001B[1;32m~\\miniconda3\\envs\\pyspark-1\\lib\\site-packages\\pandas\\core\\series.py:3017\u001B[0m, in \u001B[0;36mSeries._construct_result\u001B[1;34m(self, result, name)\u001B[0m\n\u001B[0;32m   3013\u001B[0m     \u001B[38;5;28;01mreturn\u001B[39;00m (res1, res2)\n\u001B[0;32m   3015\u001B[0m \u001B[38;5;66;03m# We do not pass dtype to ensure that the Series constructor\u001B[39;00m\n\u001B[0;32m   3016\u001B[0m \u001B[38;5;66;03m#  does inference in the case where `result` has object-dtype.\u001B[39;00m\n\u001B[1;32m-> 3017\u001B[0m out \u001B[38;5;241m=\u001B[39m \u001B[38;5;28;43mself\u001B[39;49m\u001B[38;5;241;43m.\u001B[39;49m\u001B[43m_constructor\u001B[49m\u001B[43m(\u001B[49m\u001B[43mresult\u001B[49m\u001B[43m,\u001B[49m\u001B[43m \u001B[49m\u001B[43mindex\u001B[49m\u001B[38;5;241;43m=\u001B[39;49m\u001B[38;5;28;43mself\u001B[39;49m\u001B[38;5;241;43m.\u001B[39;49m\u001B[43mindex\u001B[49m\u001B[43m)\u001B[49m\n\u001B[0;32m   3018\u001B[0m out \u001B[38;5;241m=\u001B[39m out\u001B[38;5;241m.\u001B[39m__finalize__(\u001B[38;5;28mself\u001B[39m)\n\u001B[0;32m   3020\u001B[0m \u001B[38;5;66;03m# Set the result's name after __finalize__ is called because __finalize__\u001B[39;00m\n\u001B[0;32m   3021\u001B[0m \u001B[38;5;66;03m#  would set it back to self.name\u001B[39;00m\n",
      "File \u001B[1;32m~\\miniconda3\\envs\\pyspark-1\\lib\\site-packages\\pandas\\core\\series.py:442\u001B[0m, in \u001B[0;36mSeries.__init__\u001B[1;34m(self, data, index, dtype, name, copy, fastpath)\u001B[0m\n\u001B[0;32m    440\u001B[0m     index \u001B[38;5;241m=\u001B[39m default_index(\u001B[38;5;28mlen\u001B[39m(data))\n\u001B[0;32m    441\u001B[0m \u001B[38;5;28;01melif\u001B[39;00m is_list_like(data):\n\u001B[1;32m--> 442\u001B[0m     \u001B[43mcom\u001B[49m\u001B[38;5;241;43m.\u001B[39;49m\u001B[43mrequire_length_match\u001B[49m\u001B[43m(\u001B[49m\u001B[43mdata\u001B[49m\u001B[43m,\u001B[49m\u001B[43m \u001B[49m\u001B[43mindex\u001B[49m\u001B[43m)\u001B[49m\n\u001B[0;32m    444\u001B[0m \u001B[38;5;66;03m# create/copy the manager\u001B[39;00m\n\u001B[0;32m    445\u001B[0m \u001B[38;5;28;01mif\u001B[39;00m \u001B[38;5;28misinstance\u001B[39m(data, (SingleBlockManager, SingleArrayManager)):\n",
      "File \u001B[1;32m~\\miniconda3\\envs\\pyspark-1\\lib\\site-packages\\pandas\\core\\common.py:557\u001B[0m, in \u001B[0;36mrequire_length_match\u001B[1;34m(data, index)\u001B[0m\n\u001B[0;32m    553\u001B[0m \u001B[38;5;124;03m\"\"\"\u001B[39;00m\n\u001B[0;32m    554\u001B[0m \u001B[38;5;124;03mCheck the length of data matches the length of the index.\u001B[39;00m\n\u001B[0;32m    555\u001B[0m \u001B[38;5;124;03m\"\"\"\u001B[39;00m\n\u001B[0;32m    556\u001B[0m \u001B[38;5;28;01mif\u001B[39;00m \u001B[38;5;28mlen\u001B[39m(data) \u001B[38;5;241m!=\u001B[39m \u001B[38;5;28mlen\u001B[39m(index):\n\u001B[1;32m--> 557\u001B[0m     \u001B[38;5;28;01mraise\u001B[39;00m \u001B[38;5;167;01mValueError\u001B[39;00m(\n\u001B[0;32m    558\u001B[0m         \u001B[38;5;124m\"\u001B[39m\u001B[38;5;124mLength of values \u001B[39m\u001B[38;5;124m\"\u001B[39m\n\u001B[0;32m    559\u001B[0m         \u001B[38;5;124mf\u001B[39m\u001B[38;5;124m\"\u001B[39m\u001B[38;5;124m(\u001B[39m\u001B[38;5;132;01m{\u001B[39;00m\u001B[38;5;28mlen\u001B[39m(data)\u001B[38;5;132;01m}\u001B[39;00m\u001B[38;5;124m) \u001B[39m\u001B[38;5;124m\"\u001B[39m\n\u001B[0;32m    560\u001B[0m         \u001B[38;5;124m\"\u001B[39m\u001B[38;5;124mdoes not match length of index \u001B[39m\u001B[38;5;124m\"\u001B[39m\n\u001B[0;32m    561\u001B[0m         \u001B[38;5;124mf\u001B[39m\u001B[38;5;124m\"\u001B[39m\u001B[38;5;124m(\u001B[39m\u001B[38;5;132;01m{\u001B[39;00m\u001B[38;5;28mlen\u001B[39m(index)\u001B[38;5;132;01m}\u001B[39;00m\u001B[38;5;124m)\u001B[39m\u001B[38;5;124m\"\u001B[39m\n\u001B[0;32m    562\u001B[0m     )\n",
      "\u001B[1;31mValueError\u001B[0m: Length of values (0) does not match length of index (1)"
     ]
    }
   ],
   "source": [
    "get_similar(\"The Notebook\")"
   ],
   "metadata": {
    "collapsed": false,
    "pycharm": {
     "name": "#%%\n"
    }
   }
  },
  {
   "cell_type": "code",
   "execution_count": 53,
   "outputs": [
    {
     "data": {
      "text/plain": "             User-ID\nBook-Rating  38        -100.0\n             99        -100.0\n             182       -100.0\n             183       -100.0\n             243       -100.0\n                        ...  \n             278691    -100.0\n             278771    -100.0\n             278789    -100.0\n             278843    -100.0\n             278851    -100.0\nName: 0446605239, Length: 11365, dtype: float64"
     },
     "execution_count": 53,
     "metadata": {},
     "output_type": "execute_result"
    }
   ],
   "source": [
    "df_book_features.loc['0446605239',:]"
   ],
   "metadata": {
    "collapsed": false,
    "pycharm": {
     "name": "#%%\n"
    }
   }
  },
  {
   "cell_type": "code",
   "execution_count": null,
   "outputs": [],
   "source": [],
   "metadata": {
    "collapsed": false,
    "pycharm": {
     "name": "#%%\n"
    }
   }
  }
 ],
 "metadata": {
  "kernelspec": {
   "display_name": "Python 3",
   "language": "python",
   "name": "python3"
  },
  "language_info": {
   "codemirror_mode": {
    "name": "ipython",
    "version": 3
   },
   "file_extension": ".py",
   "mimetype": "text/x-python",
   "name": "python",
   "nbconvert_exporter": "python",
   "pygments_lexer": "ipython3",
   "version": "3.7.6"
  },
  "toc": {
   "base_numbering": 1,
   "nav_menu": {},
   "number_sections": true,
   "sideBar": true,
   "skip_h1_title": false,
   "title_cell": "Table of Contents",
   "title_sidebar": "Contents",
   "toc_cell": false,
   "toc_position": {},
   "toc_section_display": true,
   "toc_window_display": false
  },
  "varInspector": {
   "cols": {
    "lenName": 16,
    "lenType": 16,
    "lenVar": 40
   },
   "kernels_config": {
    "python": {
     "delete_cmd_postfix": "",
     "delete_cmd_prefix": "del ",
     "library": "var_list.py",
     "varRefreshCmd": "print(var_dic_list())"
    },
    "r": {
     "delete_cmd_postfix": ") ",
     "delete_cmd_prefix": "rm(",
     "library": "var_list.r",
     "varRefreshCmd": "cat(var_dic_list()) "
    }
   },
   "types_to_exclude": [
    "module",
    "function",
    "builtin_function_or_method",
    "instance",
    "_Feature"
   ],
   "window_display": false
  }
 },
 "nbformat": 4,
 "nbformat_minor": 4
}