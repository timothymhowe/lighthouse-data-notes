{
 "cells": [
  {
   "cell_type": "code",
   "execution_count": 2,
   "id": "0805fba1",
   "metadata": {},
   "outputs": [],
   "source": [
    "\n",
    "class Employee:\n",
    "    \n",
    "    # class variable (must be called with self.raise_amt or Employee.raise_amt)\n",
    "    raise_amt = 1.04\n",
    "    number_of_emps = 0\n",
    "    \n",
    "    # constructor method\n",
    "    def __init__(self,first,last,pay):\n",
    "        # attribute variables\n",
    "        self.first = first\n",
    "        self.last = last\n",
    "        self.pay = pay\n",
    "        \n",
    "        self.email = f\"{first}.{last}@company.com\"\n",
    "        \n",
    "        Employee.number_of_emps += 1\n",
    "        \n",
    "        # regular methods take in their own instance `self` as their first arguments.\n",
    "    def fullname(self):\n",
    "        return f\"{self.first} {self.last}\"\n",
    "    \n",
    "    def apply_raise(self):\n",
    "        self.pay = int(self.pay * self.raise_amt)\n",
    "        \n",
    "    # class methods require the following decorator to call the class as the first variable\n",
    "    @classmethod    \n",
    "    def set_raise_amt(cls, amount):\n",
    "        cls.raise_amt = amount\n",
    "        \n",
    "    @classmethod\n",
    "    def from_string(cls, emp_str):\n",
    "        first, last, pay = emp_str.split(\"-\")\n",
    "        return cls(first, last, pay)\n",
    "    \n",
    "    # static methods take neither class nor instance as the first parameter \n",
    "    @staticmethod\n",
    "    def is_workday(day):\n",
    "        if day.weekday() == 5 or day.weekday() == 6:\n",
    "            return False\n",
    "        return True"
   ]
  },
  {
   "cell_type": "code",
   "execution_count": 3,
   "id": "87bba2dd",
   "metadata": {},
   "outputs": [
    {
     "name": "stdout",
     "output_type": "stream",
     "text": [
      "50000\n",
      "100000\n",
      "1.04\n",
      "1.04\n",
      "1.1\n",
      "1.1\n",
      "50000\n",
      "100000\n",
      "{'first': 'Corey', 'last': 'Schafer', 'pay': 50000, 'email': 'Corey.Schafer@company.com', 'raise_amt': 1.12}\n",
      "{'first': 'Numero', 'last': 'Uno', 'pay': 100000, 'email': 'Numero.Uno@company.com'}\n"
     ]
    }
   ],
   "source": [
    "emp_1 = Employee('Corey', 'Schafer', 50000)\n",
    "emp_2 = Employee('Numero', 'Uno', 100000)\n",
    "\n",
    "\n",
    "print (emp_1.pay)\n",
    "print(emp_2.pay)\n",
    "\n",
    "\n",
    "print (emp_1.raise_amt)\n",
    "print(emp_2.raise_amt)\n",
    "\n",
    "Employee.raise_amt = 1.10\n",
    "\n",
    "\n",
    "print (emp_1.raise_amt)\n",
    "print(emp_2.raise_amt)\n",
    "\n",
    "print (emp_1.pay)\n",
    "print(emp_2.pay)\n",
    "\n",
    "\n",
    "emp_1.raise_amt = 1.12\n",
    "print (emp_1.__dict__)\n",
    "print (emp_2.__dict__)\n",
    "\n"
   ]
  },
  {
   "cell_type": "code",
   "execution_count": 4,
   "id": "e77e1a41",
   "metadata": {},
   "outputs": [
    {
     "name": "stdout",
     "output_type": "stream",
     "text": [
      "1.09\n",
      "1.12\n",
      "1.09\n"
     ]
    }
   ],
   "source": [
    "Employee.set_raise_amt(1.09)\n",
    "\n",
    "print(Employee.raise_amt)\n",
    "print(emp_1.raise_amt)\n",
    "print(emp_2.raise_amt)"
   ]
  },
  {
   "cell_type": "markdown",
   "id": "71c44f7d",
   "metadata": {},
   "source": [
    "### Class methods can also be used as alternative class constructors"
   ]
  },
  {
   "cell_type": "code",
   "execution_count": 5,
   "id": "d31fd1d2",
   "metadata": {},
   "outputs": [
    {
     "name": "stdout",
     "output_type": "stream",
     "text": [
      "{'first': 'Raymond', 'last': 'Tusk', 'pay': '200000', 'email': 'Raymond.Tusk@company.com'}\n"
     ]
    }
   ],
   "source": [
    "employee_3_string = \"Raymond-Tusk-200000\"\n",
    "emp_3 = Employee.from_string(employee_3_string)\n",
    "\n",
    "print(emp_3.__dict__)"
   ]
  },
  {
   "cell_type": "markdown",
   "id": "66f5f441",
   "metadata": {},
   "source": [
    "### Static Methods are great when you don't refer to the instance in the function"
   ]
  },
  {
   "cell_type": "code",
   "execution_count": 6,
   "id": "40b36484",
   "metadata": {},
   "outputs": [
    {
     "name": "stdout",
     "output_type": "stream",
     "text": [
      "True\n"
     ]
    }
   ],
   "source": [
    "import datetime\n",
    "my_date = datetime.date(2016,7,1)\n",
    "print(Employee.is_workday(my_date))"
   ]
  },
  {
   "cell_type": "markdown",
   "id": "a4386e9b",
   "metadata": {},
   "source": [
    "### Subclasses mean we don't have to copy code, because of...\n",
    "\n",
    "## INHERITANCE!"
   ]
  },
  {
   "cell_type": "code",
   "execution_count": 22,
   "id": "58391c76",
   "metadata": {},
   "outputs": [
    {
     "name": "stdout",
     "output_type": "stream",
     "text": [
      " --->  Schafer, Corey\n",
      " --->  Uno, Numero\n",
      " --->  Schafer, Corey\n",
      " --->  Uno, Numero\n",
      " --->  howe, tim\n",
      "3\n"
     ]
    }
   ],
   "source": [
    "class Developer(Employee):\n",
    "    \n",
    "    def __init__(self,first,last,pay,language, manager=None):\n",
    "        # attribute variables\n",
    "        self.first = first\n",
    "        self.last = last\n",
    "        self.pay = pay\n",
    "        self.manager = manager\n",
    "        \n",
    "        self.email = f\"{first}.{last}@company.com\"\n",
    "        Employee.number_of_emps += 1    \n",
    "        \n",
    "        self.language = language\n",
    "        \n",
    "        \n",
    "    @property\n",
    "    def manager(self):\n",
    "        if self.manager is None:\n",
    "            self.manager = self\n",
    "        return self.manager\n",
    "\n",
    "    \n",
    "    @manager.setter\n",
    "    def manager(self, manager):\n",
    "        self._manager = manager\n",
    "\n",
    "class Manager(Employee):\n",
    "    def __init__(self,first,last,pay,employees=None):\n",
    "        # attribute variables\n",
    "        self.first = first\n",
    "        self.last = last\n",
    "        self.pay = pay\n",
    "        \n",
    "        \n",
    "        self.email = f\"{first}.{last}@company.com\"\n",
    "        Employee.number_of_emps += 1    \n",
    "        self.employees = employees\n",
    "    \n",
    "    \n",
    "    def add_employee(self, employee):\n",
    "        if employee not in self.employees:\n",
    "            self.employees.append(employee)\n",
    "            \n",
    "    def remove_employee(self,employee):\n",
    "        if employee in employees:\n",
    "            self.employees.remove(employee)\n",
    "            \n",
    "    def print_employees(self):\n",
    "        for employee in self.employees:\n",
    "            print(f\" --->  {employee.last}, {employee.first}\")\n",
    "            \n",
    "    def __len__(self):\n",
    "        return len(self.employees)\n",
    "        \n",
    "\n",
    "me = Developer('tim','howe','5','Java')\n",
    "mgr_1 = Manager(\"Ryan\",\"Dunn\", 200000, [emp_1,emp_2])\n",
    "mgr_1.print_employees()\n",
    "mgr_1.add_employee(me)\n",
    "mgr_1.print_employees()\n",
    "print(len(mgr_1))"
   ]
  },
  {
   "cell_type": "markdown",
   "id": "34f35681",
   "metadata": {},
   "source": [
    "## Special (Magic and Dunder) Methods!!"
   ]
  },
  {
   "cell_type": "code",
   "execution_count": 18,
   "id": "14ee57c7",
   "metadata": {},
   "outputs": [],
   "source": [
    "class Janitor(Employee):\n",
    "    \n",
    "    def __init__(self,first,last,wage,manager=None):\n",
    "        self.first = first\n",
    "        self.last = last\n",
    "        \n",
    "        self.wage = wage\n",
    "        self.manager = manager\n",
    "        \n",
    "        self.email = f\"{self.first}.{self.last}@company.com\"\n",
    "        \n",
    "    def __repr__(self):\n",
    "        return str(self.__dict__)\n",
    "        \n",
    "    def __str__(self):\n",
    "        return f\"{self.last}, {self.first} ---> {self.email}\"\n",
    "            \n",
    "    @property\n",
    "    def manager(self):\n",
    "        if self.manager is None:\n",
    "            self.manager = self\n",
    "        return self.manager\n",
    "\n",
    "    \n",
    "    @manager.setter\n",
    "    def manager(self, manager):\n",
    "        self._manager = manager\n",
    "        \n",
    "    def __add__():\n",
    "        return NotImplemented\n"
   ]
  },
  {
   "cell_type": "code",
   "execution_count": 19,
   "id": "8afe3976",
   "metadata": {},
   "outputs": [
    {
     "name": "stdout",
     "output_type": "stream",
     "text": [
      "{'first': 'Bob', 'last': 'Cousy', 'wage': 15, '_manager': None, 'email': 'Bob.Cousy@company.com'}\n"
     ]
    }
   ],
   "source": [
    "jan_1 = Janitor('Bob','Cousy', 15)\n",
    "print(repr(jan_1))"
   ]
  },
  {
   "cell_type": "markdown",
   "id": "0ac443da",
   "metadata": {},
   "source": [
    "#### `return NotImplemented` is good if youre unsure if the parent class adquately handles the dunder method."
   ]
  },
  {
   "cell_type": "markdown",
   "id": "3b67055c",
   "metadata": {},
   "source": [
    "## @property decoratives -- getters, setters, deleters"
   ]
  },
  {
   "cell_type": "code",
   "execution_count": 25,
   "id": "c3e946e5",
   "metadata": {},
   "outputs": [],
   "source": [
    "def Executive(Employee):\n",
    "    def __init__(self,first,last,pay):\n",
    "        self.first = first\n",
    "        self.last = last\n",
    "        \n",
    "        self.pay = pay\n",
    "        \n",
    "        self.email =  f'{self.first}.{self.last}@company.co.uk'\n",
    "    \n",
    "    @property\n",
    "    def email(self):\n",
    "        return self._email\n",
    "    \n",
    "    @email.setter\n",
    "    def email(self,domain):\n",
    "        self._email = f\"{first}.{last}@{domain}\"\n",
    "        \n",
    "        \n",
    "    "
   ]
  },
  {
   "cell_type": "code",
   "execution_count": null,
   "id": "6e6e3b04",
   "metadata": {},
   "outputs": [],
   "source": []
  }
 ],
 "metadata": {
  "kernelspec": {
   "display_name": "LighthouseEnv",
   "language": "python",
   "name": "lighthouseenv"
  },
  "language_info": {
   "codemirror_mode": {
    "name": "ipython",
    "version": 3
   },
   "file_extension": ".py",
   "mimetype": "text/x-python",
   "name": "python",
   "nbconvert_exporter": "python",
   "pygments_lexer": "ipython3",
   "version": "3.10.4"
  }
 },
 "nbformat": 4,
 "nbformat_minor": 5
}
