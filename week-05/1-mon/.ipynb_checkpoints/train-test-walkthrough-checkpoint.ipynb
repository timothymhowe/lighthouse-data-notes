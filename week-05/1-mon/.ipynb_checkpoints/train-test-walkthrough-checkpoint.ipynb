{
 "cells": [
  {
   "cell_type": "markdown",
   "id": "ba580152",
   "metadata": {},
   "source": [
    "# Cross Validation\n",
    "\n",
    "### Best Practices\n",
    "There are a couple of best practices that we can follow to make sure we choose the best approach:\n",
    "\n",
    " - Use the KFold cross-validation in case we deal with a small amount of data. In this case, it is very costly to leave some observations as a hold-out set.\n",
    " - In case we have enough data, the best practice is to use the combination of a hold-out set and cross-validation:\n",
    "    1. Split the data into a train and a test (hold-out) sets.\n",
    "    2. Apply cross-validation on the training set to find the optimal model.\n",
    "    3. Test the model on the test set to see if the performance is good with a \"new\"(unseen) data.\n"
   ]
  },
  {
   "cell_type": "code",
   "execution_count": null,
   "id": "9447bfc3",
   "metadata": {},
   "outputs": [],
   "source": []
  },
  {
   "cell_type": "markdown",
   "id": "88198a12",
   "metadata": {},
   "source": [
    "### Data splitting in scikit-learn"
   ]
  },
  {
   "cell_type": "code",
   "execution_count": 1,
   "id": "6c52776a",
   "metadata": {},
   "outputs": [
    {
     "name": "stdout",
     "output_type": "stream",
     "text": [
      "[0, 1, 2, 3, 4, 5, 6, 7, 8, 9]\n",
      "[0, 1, 4, 9, 16, 25, 36, 49, 64, 81]\n"
     ]
    }
   ],
   "source": [
    "X = list(range(10))\n",
    "y = [x**2 for x in X]\n",
    "print(X)\n",
    "print(y)"
   ]
  },
  {
   "cell_type": "code",
   "execution_count": 4,
   "id": "9e408765",
   "metadata": {},
   "outputs": [],
   "source": [
    "import sklearn.model_selection as model_selection\n",
    "\n",
    "X_train,X_test,y_train,y_test = model_selection.train_test_split(X, y, train_size=0.75,test_size=0.25, random_state=101)"
   ]
  },
  {
   "cell_type": "code",
   "execution_count": 5,
   "id": "bd1c2cae",
   "metadata": {},
   "outputs": [
    {
     "name": "stdout",
     "output_type": "stream",
     "text": [
      "X_train:  [4, 9, 3, 5, 7, 6, 1]\n",
      "y_train:  [16, 81, 9, 25, 49, 36, 1]\n",
      "X_test:  [8, 2, 0]\n",
      "y_test:  [64, 4, 0]\n"
     ]
    }
   ],
   "source": [
    "print(\"X_train: \", X_train)\n",
    "print(\"y_train: \", y_train)\n",
    "print(\"X_test: \", X_test)\n",
    "print(\"y_test: \", y_test)\n"
   ]
  },
  {
   "cell_type": "code",
   "execution_count": 6,
   "id": "d839f6f8",
   "metadata": {},
   "outputs": [],
   "source": [
    "from sklearn.model_selection import KFold\n",
    "import numpy as np"
   ]
  },
  {
   "cell_type": "code",
   "execution_count": null,
   "id": "f5ddd232",
   "metadata": {},
   "outputs": [],
   "source": [
    "kf = KFold(n_splits=5)\n",
    "X = np.array(X)\n",
    "y = np.array(y)\n",
    "for train_index, test_index in kf.split(X)"
   ]
  }
 ],
 "metadata": {
  "kernelspec": {
   "display_name": "LighthouseEnv",
   "language": "python",
   "name": "lighthouseenv"
  },
  "language_info": {
   "codemirror_mode": {
    "name": "ipython",
    "version": 3
   },
   "file_extension": ".py",
   "mimetype": "text/x-python",
   "name": "python",
   "nbconvert_exporter": "python",
   "pygments_lexer": "ipython3",
   "version": "3.10.4"
  }
 },
 "nbformat": 4,
 "nbformat_minor": 5
}
