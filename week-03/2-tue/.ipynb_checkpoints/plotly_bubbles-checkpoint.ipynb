{
 "cells": [
  {
   "cell_type": "code",
   "execution_count": null,
   "metadata": {
    "collapsed": false,
    "jupyter": {
     "outputs_hidden": false
    },
    "pycharm": {
     "name": "#%%\n"
    }
   },
   "outputs": [],
   "source": [
    "import plotly.express as px\n",
    "\n",
    "df = px.data.gapminder().query(\"year==2007\")\n",
    "fig = px.scatter_geo(df, locations=\"iso_alpha\", color=\"continent\", hover_name=\"country\", size=\"pop\",\n",
    "                     projection=\"natural earth\")\n",
    "\n",
    "fig.show()"
   ]
  },
  {
   "cell_type": "code",
   "execution_count": null,
   "metadata": {
    "collapsed": false,
    "jupyter": {
     "outputs_hidden": false
    },
    "pycharm": {
     "name": "#%%\n"
    }
   },
   "outputs": [],
   "source": [
    "df = px.data.gapminder()\n",
    "fig = px.scatter_geo(df, locations=\"iso_alpha\", color=\"continent\",\n",
    "                     hover_name=\"country\", size=\"pop\", animation_frame=\"year\",\n",
    "                     projection=\"natural earth\"\n",
    "                     )\n",
    "fig.show()"
   ]
  },
  {
   "cell_type": "code",
   "execution_count": null,
   "metadata": {
    "collapsed": false,
    "jupyter": {
     "outputs_hidden": false
    },
    "pycharm": {
     "name": "#%%\n"
    }
   },
   "outputs": [],
   "source": [
    "import plotly.graph_objects as go\n",
    "\n",
    "import pandas as pd\n",
    "\n",
    "df = pd.read_csv('https://raw.githubusercontent.com/plotly/datasets/master/2014_us_cities.csv')\n",
    "df.head()\n",
    "\n",
    "df['text'] = df['name'] + '<br>Population ' + (df['pop'] / 1e6).astype(str) + ' million'\n",
    "limits = [(0, 2), (3, 10), (11, 20), (21, 50), (50, 3000)]\n",
    "colors = [\"royalblue\", \"crimson\", \"lightseagreen\", \"orange\", \"lightgrey\"]\n",
    "cities = []\n",
    "scale = 5000\n",
    "\n",
    "fig = go.Figure()\n",
    "\n",
    "for i in range(len(limits)):\n",
    "    lim = limits[i]\n",
    "    df_sub = df[lim[0]:lim[1]]\n",
    "    fig.add_trace(go.Scattergeo(\n",
    "        locationmode='USA-states',\n",
    "        lon=df_sub['lon'],\n",
    "        lat=df_sub['lat'],\n",
    "        text=df_sub['text'],\n",
    "        marker=dict(\n",
    "            size=df_sub['pop'] / scale,\n",
    "            color=colors[i],\n",
    "            line_color='rgb(40,40,40)',\n",
    "            line_width=0.5,\n",
    "            sizemode='area'\n",
    "        ),\n",
    "        name='{0} - {1}'.format(lim[0], lim[1])))\n",
    "\n",
    "fig.update_layout(\n",
    "    title_text='2014 US city populations<br>(Click legend to toggle traces)',\n",
    "    showlegend=True,\n",
    "    geo=dict(\n",
    "        scope='usa',\n",
    "        landcolor='rgb(217, 217, 217)',\n",
    "    )\n",
    ")\n",
    "\n",
    "fig.show()"
   ]
  },
  {
   "cell_type": "code",
   "execution_count": null,
   "metadata": {
    "collapsed": false,
    "jupyter": {
     "outputs_hidden": false
    },
    "pycharm": {
     "is_executing": true,
     "name": "#%%\n"
    }
   },
   "outputs": [],
   "source": [
    "import plotly.graph_objects as go\n",
    "import plotly.express as px\n",
    "import dash\n",
    "from dash import dcc\n",
    "from dash import html\n",
    "import pandas as pd\n",
    "from jupyter_plotly_dash import JupyterDash\n",
    "\n",
    "df = pd.read_csv('https://raw.githubusercontent.com/plotly/datasets/master/2014_ebola.csv')\n",
    "df.head()\n",
    "\n",
    "colors = ['rgb(239,243,255)', 'rgb(189,215,231)', 'rgb(107,174,214)', 'rgb(33,113,181)']\n",
    "months = {6: 'June', 7: 'July', 8: 'Aug', 9: 'Sept'}\n",
    "\n",
    "fig = go.Figure()\n",
    "\n",
    "for i in range(6, 10)[::-1]:\n",
    "    df_month = df.query('Month == %d' % i)\n",
    "    fig.add_trace(go.Scattergeo(\n",
    "        lon=df_month['Lon'],\n",
    "        lat=df_month['Lat'],\n",
    "        text=df_month['Value'],\n",
    "        name=months[i],\n",
    "        marker=dict(\n",
    "            size=df_month['Value'] / 50,\n",
    "            color=colors[i - 6],\n",
    "            line_width=0\n",
    "        )))\n",
    "\n",
    "df_sept = df.query('Month == 9')\n",
    "fig['data'][0].update(mode='markers+text', textposition='bottom center',\n",
    "                      text=df_sept['Value'].map('{:.0f}'.format).astype(str) + ' ' +\n",
    "                           df_sept['Country'])\n",
    "\n",
    "# Inset\n",
    "fig.add_trace(go.Choropleth(\n",
    "    locationmode='country names',\n",
    "    locations=df_sept['Country'],\n",
    "    z=df_sept['Value'],\n",
    "    text=df_sept['Country'],\n",
    "    colorscale=[[0, 'rgb(0, 0, 0)'], [1, 'rgb(0, 0, 0)']],\n",
    "    autocolorscale=False,\n",
    "    showscale=False,\n",
    "    geo='geo2'\n",
    "))\n",
    "fig.add_trace(go.Scattergeo(\n",
    "    lon=[21.0936],\n",
    "    lat=[7.1881],\n",
    "    text=['Africa'],\n",
    "    mode='text',\n",
    "    showlegend=False,\n",
    "    geo='geo2'\n",
    "))\n",
    "\n",
    "fig.update_layout(\n",
    "    title=go.layout.Title(\n",
    "        text='Ebola cases reported by month in West Africa 2014<br> \\\n",
    "Source: <a href=\"https://data.hdx.rwlabs.org/dataset/rowca-ebola-cases\">\\\n",
    "HDX</a>'),\n",
    "    geo=go.layout.Geo(\n",
    "        resolution=50,\n",
    "        scope='africa',\n",
    "        showframe=False,\n",
    "        showcoastlines=True,\n",
    "        landcolor=\"rgb(229, 229, 229)\",\n",
    "        countrycolor=\"white\",\n",
    "        coastlinecolor=\"white\",\n",
    "        projection_type='mercator',\n",
    "        lonaxis_range=[-15.0, -5.0],\n",
    "        lataxis_range=[0.0, 12.0],\n",
    "        domain=dict(x=[0, 1], y=[0, 1])\n",
    "    ),\n",
    "    geo2=go.layout.Geo(\n",
    "        scope='africa',\n",
    "        showframe=False,\n",
    "        landcolor=\"rgb(229, 229, 229)\",\n",
    "        showcountries=False,\n",
    "        domain=dict(x=[0, 0.6], y=[0, 0.6]),\n",
    "        bgcolor='rgba(255, 255, 255, 0.0)',\n",
    "    ),\n",
    "    legend_traceorder='reversed'\n",
    ")\n",
    "\n",
    "app = jupyter_dash.Dash()\n",
    "app.layout = html.Div([\n",
    "    dcc.Graph(figure=fig)\n",
    "])\n",
    "\n",
    "app.run_server(mode=\"jupyter_lab\", debug=True, use_reloader=False, port=\"1738\")"
   ]
  },
  {
   "cell_type": "code",
   "execution_count": null,
   "metadata": {
    "collapsed": false,
    "jupyter": {
     "outputs_hidden": false
    },
    "pycharm": {
     "name": "#%%\n"
    }
   },
   "outputs": [],
   "source": [
    "\n",
    "\n",
    "fig = go.Figure()  # or any Plotly Express function e.g. px.bar(...)\n",
    "# fig.add_trace( ... )\n",
    "# fig.update_layout( ... )\n",
    "\n",
    "\n"
   ]
  },
  {
   "cell_type": "code",
   "execution_count": null,
   "metadata": {
    "collapsed": false,
    "jupyter": {
     "outputs_hidden": false
    },
    "pycharm": {
     "name": "#%%\n"
    }
   },
   "outputs": [],
   "source": [
    "import sys\n",
    "!conda install --yes --prefix {sys.prefix}  -c plotly plotly=5.9.0"
   ]
  },
  {
   "cell_type": "code",
   "execution_count": null,
   "metadata": {
    "collapsed": false,
    "jupyter": {
     "outputs_hidden": false
    },
    "pycharm": {
     "name": "#%%\n"
    }
   },
   "outputs": [],
   "source": []
  },
  {
   "cell_type": "code",
   "execution_count": null,
   "metadata": {
    "collapsed": false,
    "jupyter": {
     "outputs_hidden": false
    },
    "pycharm": {
     "name": "#%%\n"
    }
   },
   "outputs": [],
   "source": [
    "import plotly.graph_objects as go\n",
    "\n",
    "import pandas as pd\n",
    "\n",
    "df = pd.read_csv('https://raw.githubusercontent.com/plotly/datasets/master/2014_us_cities.csv')\n",
    "df.head()\n",
    "\n",
    "df['text'] = df['name'] + '<br>Population ' + (df['pop']/1e6).astype(str)+' million'\n",
    "limits = [(0,2),(3,10),(11,20),(21,50),(50,3000)]\n",
    "colors = [\"royalblue\",\"crimson\",\"lightseagreen\",\"orange\",\"lightgrey\"]\n",
    "cities = []\n",
    "scale = 5000\n",
    "\n",
    "fig = go.Figure()\n",
    "\n",
    "for i in range(len(limits)):\n",
    "    lim = limits[i]\n",
    "    df_sub = df[lim[0]:lim[1]]\n",
    "    fig.add_trace(go.Scattergeo(\n",
    "        locationmode = 'USA-states',\n",
    "        lon = df_sub['lon'],\n",
    "        lat = df_sub['lat'],\n",
    "        text = df_sub['text'],\n",
    "        marker = dict(\n",
    "            size = df_sub['pop']/scale,\n",
    "            color = colors[i],\n",
    "            line_color='rgb(40,40,40)',\n",
    "            line_width=0.5,\n",
    "            sizemode = 'area'\n",
    "        ),\n",
    "        name = '{0} - {1}'.format(lim[0],lim[1])))\n",
    "\n",
    "fig.update_layout(\n",
    "    title_text = '2014 US city populations<br>(Click legend to toggle traces)',\n",
    "    showlegend = True,\n",
    "    geo = dict(\n",
    "        scope = 'usa',\n",
    "        landcolor = 'rgb(217, 217, 217)',\n",
    "    )\n",
    ")\n",
    "\n",
    "fig.show()"
   ]
  },
  {
   "cell_type": "code",
   "execution_count": null,
   "metadata": {
    "collapsed": false,
    "jupyter": {
     "outputs_hidden": false
    },
    "pycharm": {
     "name": "#%%\n"
    }
   },
   "outputs": [],
   "source": [
    "import plotly.graph_objects as go\n",
    "\n",
    "import pandas as pd\n",
    "\n",
    "df = pd.read_csv('https://raw.githubusercontent.com/plotly/datasets/master/2014_ebola.csv')\n",
    "df.head()\n",
    "\n",
    "colors = ['rgb(239,243,255)','rgb(189,215,231)','rgb(107,174,214)','rgb(33,113,181)']\n",
    "months = {6:'June',7:'July',8:'Aug',9:'Sept'}\n",
    "\n",
    "fig = go.Figure()\n",
    "\n",
    "for i in range(6,10)[::-1]:\n",
    "    df_month = df.query('Month == %d' %i)\n",
    "    fig.add_trace(go.Scattergeo(\n",
    "        lon = df_month['Lon'],\n",
    "        lat = df_month['Lat'],\n",
    "        text = df_month['Value'],\n",
    "        name = months[i],\n",
    "        marker = dict(\n",
    "            size = df_month['Value']/50,\n",
    "            color = colors[i-6],\n",
    "            line_width = 0\n",
    "        )))\n",
    "\n",
    "df_sept = df.query('Month == 9')\n",
    "fig['data'][0].update(mode='markers+text', textposition='bottom center',\n",
    "                      text=df_sept['Value'].map('{:.0f}'.format).astype(str)+' '+\n",
    "                           df_sept['Country'])\n",
    "\n",
    "# Inset\n",
    "fig.add_trace(go.Choropleth(\n",
    "    locationmode = 'country names',\n",
    "    locations = df_sept['Country'],\n",
    "    z = df_sept['Value'],\n",
    "    text = df_sept['Country'],\n",
    "    colorscale = [[0,'rgb(0, 0, 0)'],[1,'rgb(0, 0, 0)']],\n",
    "    autocolorscale = False,\n",
    "    showscale = False,\n",
    "    geo = 'geo2'\n",
    "))\n",
    "fig.add_trace(go.Scattergeo(\n",
    "    lon = [21.0936],\n",
    "    lat = [7.1881],\n",
    "    text = ['Africa'],\n",
    "    mode = 'text',\n",
    "    showlegend = False,\n",
    "    geo = 'geo2'\n",
    "))\n",
    "\n",
    "fig.update_layout(\n",
    "    title = go.layout.Title(\n",
    "        text = 'Ebola cases reported by month in West Africa 2014<br> \\\n",
    "Source: <a href=\"https://data.hdx.rwlabs.org/dataset/rowca-ebola-cases\">\\\n",
    "HDX</a>'),\n",
    "    geo = go.layout.Geo(\n",
    "        resolution = 50,\n",
    "        scope = 'africa',\n",
    "        showframe = False,\n",
    "        showcoastlines = True,\n",
    "        landcolor = \"rgb(229, 229, 229)\",\n",
    "        countrycolor = \"white\" ,\n",
    "        coastlinecolor = \"white\",\n",
    "        projection_type = 'mercator',\n",
    "        lonaxis_range= [ -15.0, -5.0 ],\n",
    "        lataxis_range= [ 0.0, 12.0 ],\n",
    "        domain = dict(x = [ 0, 1 ], y = [ 0, 1 ])\n",
    "    ),\n",
    "    geo2 = go.layout.Geo(\n",
    "        scope = 'africa',\n",
    "        showframe = False,\n",
    "        landcolor = \"rgb(229, 229, 229)\",\n",
    "        showcountries = False,\n",
    "        domain = dict(x = [ 0, 0.6 ], y = [ 0, 0.6 ]),\n",
    "        bgcolor = 'rgba(255, 255, 255, 0.0)',\n",
    "    ),\n",
    "    legend_traceorder = 'reversed'\n",
    ")\n",
    "\n",
    "fig.show()"
   ]
  },
  {
   "cell_type": "code",
   "execution_count": null,
   "metadata": {
    "collapsed": false,
    "jupyter": {
     "outputs_hidden": false
    },
    "pycharm": {
     "name": "#%%\n"
    }
   },
   "outputs": [],
   "source": [
    "import plotly.graph_objects as go # or plotly.express as px\n",
    "fig = go.Figure() # or any Plotly Express function e.g. px.bar(...)\n",
    "# fig.add_trace( ... )\n",
    "# fig.update_layout( ... )\n",
    "\n",
    "import dash\n",
    "from dash import dcc\n",
    "from dash import html\n",
    "\n",
    "app = dash.Dash()\n",
    "app.layout = html.Div([\n",
    "    dcc.Graph(figure=fig)\n",
    "])\n",
    "\n",
    "app.run_server(self, \"0.0.0.0\", debug=True, use_reloader=False,port=\"1738\")"
   ]
  },
  {
   "cell_type": "code",
   "execution_count": null,
   "metadata": {
    "collapsed": false,
    "jupyter": {
     "outputs_hidden": false
    },
    "pycharm": {
     "name": "#%%\n"
    }
   },
   "outputs": [],
   "source": []
  }
 ],
 "metadata": {
  "kernelspec": {
   "display_name": "LighthouseEnv",
   "language": "python",
   "name": "lighthouseenv"
  },
  "language_info": {
   "codemirror_mode": {
    "name": "ipython",
    "version": 3
   },
   "file_extension": ".py",
   "mimetype": "text/x-python",
   "name": "python",
   "nbconvert_exporter": "python",
   "pygments_lexer": "ipython3",
   "version": "3.10.4"
  }
 },
 "nbformat": 4,
 "nbformat_minor": 4
}
