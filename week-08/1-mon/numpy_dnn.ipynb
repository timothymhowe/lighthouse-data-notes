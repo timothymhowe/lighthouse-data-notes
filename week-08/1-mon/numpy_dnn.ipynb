{
 "cells": [
  {
   "cell_type": "code",
   "execution_count": 1,
   "outputs": [],
   "source": [
    "import numpy as np"
   ],
   "metadata": {
    "collapsed": false,
    "pycharm": {
     "name": "#%%\n"
    }
   }
  },
  {
   "cell_type": "code",
   "execution_count": 2,
   "outputs": [],
   "source": [
    "\n",
    "\n",
    " # Creating data set\n",
    "# A\n",
    "a =[0, 0, 1, 1, 0, 0,\n",
    "   0, 1, 0, 0, 1, 0,\n",
    "   1, 1, 1, 1, 1, 1,\n",
    "   1, 0, 0, 0, 0, 1,\n",
    "   1, 0, 0, 0, 0, 1]\n",
    "# B\n",
    "b =[0, 1, 1, 1, 1, 0,\n",
    "   0, 1, 0, 0, 1, 0,\n",
    "   0, 1, 1, 1, 1, 0,\n",
    "   0, 1, 0, 0, 1, 0,\n",
    "   0, 1, 1, 1, 1, 0]\n",
    "# C\n",
    "c =[0, 1, 1, 1, 1, 0,\n",
    "   0, 1, 0, 0, 0, 0,\n",
    "   0, 1, 0, 0, 0, 0,\n",
    "   0, 1, 0, 0, 0, 0,\n",
    "   0, 1, 1, 1, 1, 0]\n",
    "\n",
    "# Creating labels\n",
    "y =[[1, 0, 0],\n",
    "   [0, 1, 0],\n",
    "   [0, 0, 1]]"
   ],
   "metadata": {
    "collapsed": false,
    "pycharm": {
     "name": "#%%\n"
    }
   }
  },
  {
   "cell_type": "code",
   "execution_count": 3,
   "outputs": [
    {
     "data": {
      "text/plain": "<Figure size 432x288 with 1 Axes>",
      "image/png": "[encoded data removed]"
     },
     "metadata": {
      "needs_background": "light"
     },
     "output_type": "display_data"
    }
   ],
   "source": [
    "import matplotlib.pyplot as plt\n",
    "\n",
    "plt.imshow(np.array(a).reshape(5,6))\n",
    "plt.show()"
   ],
   "metadata": {
    "collapsed": false,
    "pycharm": {
     "name": "#%%\n"
    }
   }
  },
  {
   "cell_type": "code",
   "execution_count": 4,
   "outputs": [],
   "source": [
    "# converting data and labels into numpy array\n",
    "\"\"\" convert the matrix of 0 and 1 into one hot vector so that we can directly feed it to the neural network,\n",
    "these vectors are then stored in a list x\"\"\"\n",
    "\n",
    "x = [np.array(a).reshape(1,30),np.array(b).reshape(1,30), np.array(c).reshape(1,30)]"
   ],
   "metadata": {
    "collapsed": false,
    "pycharm": {
     "name": "#%%\n"
    }
   }
  },
  {
   "cell_type": "code",
   "execution_count": 5,
   "outputs": [
    {
     "name": "stdout",
     "output_type": "stream",
     "text": [
      "[array([[0, 0, 1, 1, 0, 0, 0, 1, 0, 0, 1, 0, 1, 1, 1, 1, 1, 1, 1, 0, 0, 0,\n",
      "        0, 1, 1, 0, 0, 0, 0, 1]]), array([[0, 1, 1, 1, 1, 0, 0, 1, 0, 0, 1, 0, 0, 1, 1, 1, 1, 0, 0, 1, 0, 0,\n",
      "        1, 0, 0, 1, 1, 1, 1, 0]]), array([[0, 1, 1, 1, 1, 0, 0, 1, 0, 0, 0, 0, 0, 1, 0, 0, 0, 0, 0, 1, 0, 0,\n",
      "        0, 0, 0, 1, 1, 1, 1, 0]])] \n",
      "\n",
      " [[1 0 0]\n",
      " [0 1 0]\n",
      " [0 0 1]]\n"
     ]
    }
   ],
   "source": [
    "# labels are also converted into a NumPy array\n",
    "y = np.array(y)\n",
    "\n",
    "print(x,\"\\n\\n\",y)"
   ],
   "metadata": {
    "collapsed": false,
    "pycharm": {
     "name": "#%%\n"
    }
   }
  },
  {
   "cell_type": "markdown",
   "source": [
    "### *Step 4:* Defining the architecture or structure of the DNN.  This includes deciding the number of layers and the number of nodes in each layer\n",
    "\n",
    "This NN will have the structure:\n",
    "   - 1st layer: Input Layer (1,30)\n",
    "   - 2nd Layer: Hidden Layer (1,5)\n",
    "   - 3rd layer: Output layer (3,3)"
   ],
   "metadata": {
    "collapsed": false,
    "pycharm": {
     "name": "#%% md\n"
    }
   }
  },
  {
   "cell_type": "code",
   "execution_count": 6,
   "outputs": [],
   "source": [
    "# activation function\n",
    "def sigmoid(x):\n",
    "   return(1/(1+ np.exp(-x)))\n",
    "\n",
    "# Creating the Feed forward neural network\n",
    "# 1 Input layer (1, 30)\n",
    "# 1 hidden layer (1, 5)\n",
    "# 1 output layer (3, 3)\n",
    "\n",
    "def f_forward(x, w1, w2):\n",
    "   # hidden\n",
    "   z1 = x.dot(w1) # input from layer 1\n",
    "   a1 = sigmoid(z1) # output of layer 2\n",
    "\n",
    "   #output layer\n",
    "   z2 = a1.dot(w2)\n",
    "   a2 = sigmoid(z2)\n",
    "   return (a2)\n",
    "\n",
    "def generate_wt(x,y):\n",
    "   l = []\n",
    "   for i in range (x * y):\n",
    "      l.append(np.random.randn())\n",
    "   return (np.array(l).reshape(x,y))\n",
    "\n",
    "def loss(out, Y):\n",
    "   s = (np.square(out-Y))\n",
    "   s = np.sum(s)/len(y)\n",
    "   return (s)\n",
    "\n",
    "# back propagation of error\n",
    "def back_prop(x,y,w1,w2,alpha):\n",
    "   # hidden layer\n",
    "   z1 = x.dot(w1)\n",
    "   a1 = sigmoid(z1)\n",
    "\n",
    "   # output layer\n",
    "   z2 = a1.dot(w2) #input of output layer\n",
    "   a2 = sigmoid(z2) # output of out layer\n",
    "\n",
    "   # error in output layer\n",
    "   d2 = (a2-y)\n",
    "   d1 = np.multiply((w2.dot((d2.transpose()))).transpose(),(np.multiply(a1,1-a1)))\n",
    "\n",
    "   # gradient for w1 and w2\n",
    "   w1_adj = x.transpose().dot(d1)\n",
    "   w2_adj = a1.transpose().dot(d2)\n",
    "\n",
    "   # updating parameters\n",
    "   w1 = w1-(alpha * (w1_adj))\n",
    "   w2 = w2-(alpha * (w2_adj))\n",
    "\n",
    "   return (w1,w2)\n",
    "\n",
    "def train (x, Y, w1,w2, alpha = 0.01, epoch = 10):\n",
    "   acc = []\n",
    "   losss = []\n",
    "\n",
    "   for j in range(epoch):\n",
    "      l = []\n",
    "      for i in range(len(x)):\n",
    "         out = f_forward(x[i],w1,w2)\n",
    "         l.append((loss(out,Y[i])))\n",
    "         w1,w2 = back_prop(x[i], y[i], w1, w2, alpha)\n",
    "      print(\"epochs: \",j+1, \"======== acc:\",(1-(sum(l)/len(x)))*100)\n",
    "      acc.append((1))\n",
    "      losss.append(sum(l)/len(l))\n",
    "   return (acc,loss,w1,w2)\n",
    "\n",
    "def predict(x,w1,w2):\n",
    "   Out = f_forward(x,w1,w2)\n",
    "   maxm = 0\n",
    "   k = 0\n",
    "   for i in range(len(Out[0])):\n",
    "      if (maxm<Out[0][i]):\n",
    "         maxm = Out[0][i]\n",
    "         k=1\n",
    "   if k == 0:\n",
    "      print(\"Image is of letter A.\")\n",
    "   elif k == 1:\n",
    "      print(\"Image is of letter B.\")\n",
    "   else:\n",
    "      print(\"Images is of letter C.\")\n",
    "\n",
    "   plt.imshow(x.reshape(5,6))\n",
    "   plt.show()"
   ],
   "metadata": {
    "collapsed": false,
    "pycharm": {
     "name": "#%%\n"
    }
   }
  },
  {
   "cell_type": "code",
   "execution_count": 7,
   "outputs": [
    {
     "name": "stdout",
     "output_type": "stream",
     "text": [
      "[[-8.92681311e-01  4.61664524e-01  4.11013939e-01  1.06269430e+00\n",
      "   1.24788770e-01]\n",
      " [ 1.28161093e-01 -8.48869118e-01 -1.95941078e+00  3.25543546e-01\n",
      "   1.31488511e+00]\n",
      " [-5.50229556e-01 -1.95678423e+00  1.00863869e+00  7.45380409e-01\n",
      "  -7.16676017e-01]\n",
      " [-8.70161958e-01  2.42927622e-01  6.79713803e-01 -2.13924652e+00\n",
      "  -1.43946285e+00]\n",
      " [-1.16001973e+00  1.02103892e+00  1.22285155e+00 -8.99458790e-01\n",
      "   1.23418519e+00]\n",
      " [ 3.65282100e-01 -1.39376852e+00  1.20374748e+00 -1.17371877e+00\n",
      "   1.92609023e+00]\n",
      " [ 1.61094265e+00  1.22830438e-01 -7.78816331e-01  3.15336100e-01\n",
      "   8.71591918e-01]\n",
      " [ 2.35705419e-03 -4.70908109e-01 -5.83153703e-01 -1.48147182e-01\n",
      "   9.86913347e-01]\n",
      " [-5.84865975e-01  3.73062537e-01  1.38202371e+00  1.68508245e+00\n",
      "  -3.08961070e-01]\n",
      " [ 1.09486766e+00 -4.58985775e-01 -3.55725089e-01  4.85096455e-01\n",
      "  -7.90221795e-01]\n",
      " [ 8.48482766e-01 -5.77505425e-01  3.03912620e-01  1.11751168e+00\n",
      "   4.41252525e-01]\n",
      " [-1.80932689e+00  6.28508490e-01 -5.26471240e-01 -2.55406204e+00\n",
      "  -6.08359167e-01]\n",
      " [-2.41014213e+00 -1.26029440e+00 -2.17951672e+00 -5.34152381e-01\n",
      "  -6.82890430e-01]\n",
      " [-9.54405332e-02  9.80849409e-02 -4.41717764e-01 -9.39975546e-01\n",
      "  -8.67085628e-01]\n",
      " [-3.77921957e-02  5.83540184e-01  6.31781065e-01  9.16639237e-03\n",
      "  -5.60364026e-01]\n",
      " [ 5.59581831e-01  1.92505984e+00  2.06634669e-02 -7.44779973e-01\n",
      "   8.32420822e-01]\n",
      " [-1.03802532e-01 -8.45696598e-01  1.22801987e+00 -1.62776539e-01\n",
      "  -9.67303959e-01]\n",
      " [-1.09913923e+00 -3.81603093e-01 -8.45238871e-03  1.28475753e+00\n",
      "   2.48715221e-01]\n",
      " [ 4.91756122e-01 -3.42473681e-02  3.63280191e-01  1.81469377e-01\n",
      "   1.29965799e+00]\n",
      " [ 8.82924399e-01  1.87340444e+00  8.00989956e-01  2.00275465e+00\n",
      "  -6.14359974e-01]\n",
      " [ 1.06267268e+00  2.83731625e-01  9.75594211e-02 -3.03640819e-02\n",
      "   1.73671966e+00]\n",
      " [ 2.68714023e-01 -1.38844808e+00 -4.40041466e-02  9.52297216e-01\n",
      "   1.86602384e+00]\n",
      " [-2.29182064e+00  4.33034634e-01 -2.19868099e-01  1.39000069e+00\n",
      "  -1.48303863e+00]\n",
      " [ 7.11646783e-01 -7.86786312e-01  1.44257262e+00 -1.02900203e+00\n",
      "  -9.98410515e-01]\n",
      " [-1.29070533e+00  4.49335271e-02  1.56541761e+00 -4.79454843e-01\n",
      "   4.32394493e-01]\n",
      " [ 4.74651494e-01  9.30280673e-02  1.27759452e-01 -1.23758762e+00\n",
      "  -2.88585419e-01]\n",
      " [-1.22322218e+00  6.19717770e-01  1.44720635e-01  5.30600685e-01\n",
      "   2.03831827e-01]\n",
      " [-1.30085094e-01  3.60518330e-01  2.56310119e-01 -3.25216481e-01\n",
      "   1.15692580e+00]\n",
      " [ 5.72188120e-01 -1.33386390e-01  1.56450074e+00  7.19268200e-01\n",
      "   5.67181975e-01]\n",
      " [ 9.76982618e-01  3.54678627e-02  7.62860364e-01  7.17140257e-01\n",
      "  -1.01313930e+00]] \n",
      "\n",
      " [[ 0.35104217  2.71536208  0.13622531]\n",
      " [ 0.40992418  2.02867725 -1.11417303]\n",
      " [-1.08332125  0.40058085 -1.18828309]\n",
      " [-0.07914404  0.77988422 -0.04985389]\n",
      " [-0.78806064  1.269263    0.78714242]]\n"
     ]
    }
   ],
   "source": [
    "w1 = generate_wt(30,5)\n",
    "w2 = generate_wt(5,3)\n",
    "print(w1,\"\\n\\n\",w2)"
   ],
   "metadata": {
    "collapsed": false,
    "pycharm": {
     "name": "#%%\n"
    }
   }
  },
  {
   "cell_type": "code",
   "execution_count": 17,
   "outputs": [
    {
     "name": "stdout",
     "output_type": "stream",
     "text": [
      "epochs:  1 ======== acc: 97.4751084413783\n",
      "epochs:  2 ======== acc: 97.51645579922341\n",
      "epochs:  3 ======== acc: 97.55693518424408\n",
      "epochs:  4 ======== acc: 97.59656995377777\n",
      "epochs:  5 ======== acc: 97.63538276347725\n",
      "epochs:  6 ======== acc: 97.67339558477026\n",
      "epochs:  7 ======== acc: 97.71062972190565\n",
      "epochs:  8 ======== acc: 97.74710582858225\n",
      "epochs:  9 ======== acc: 97.78284392416005\n",
      "epochs:  10 ======== acc: 97.81786340945689\n",
      "epochs:  11 ======== acc: 97.85218308213774\n",
      "epochs:  12 ======== acc: 97.88582115170644\n",
      "epochs:  13 ======== acc: 97.91879525411437\n",
      "epochs:  14 ======== acc: 97.9511224660029\n",
      "epochs:  15 ======== acc: 97.98281931860048\n",
      "epochs:  16 ======== acc: 98.01390181129817\n",
      "epochs:  17 ======== acc: 98.04438542493075\n",
      "epochs:  18 ======== acc: 98.0742851347931\n",
      "epochs:  19 ======== acc: 98.10361542342444\n",
      "epochs:  20 ======== acc: 98.13239029319543\n",
      "epochs:  21 ======== acc: 98.16062327873477\n",
      "epochs:  22 ======== acc: 98.18832745923383\n",
      "epochs:  23 ======== acc: 98.21551547066834\n",
      "epochs:  24 ======== acc: 98.24219951797724\n",
      "epochs:  25 ======== acc: 98.26839138723756\n",
      "epochs:  26 ======== acc: 98.2941024578738\n",
      "epochs:  27 ======== acc: 98.31934371493807\n",
      "epochs:  28 ======== acc: 98.34412576149376\n",
      "epochs:  29 ======== acc: 98.36845883113283\n",
      "epochs:  30 ======== acc: 98.39235280065063\n",
      "epochs:  31 ======== acc: 98.41581720289693\n",
      "epochs:  32 ======== acc: 98.43886123981498\n",
      "epochs:  33 ======== acc: 98.46149379567234\n",
      "epochs:  34 ======== acc: 98.48372345047855\n",
      "epochs:  35 ======== acc: 98.50555849357607\n",
      "epochs:  36 ======== acc: 98.52700693738015\n",
      "epochs:  37 ======== acc: 98.54807653123427\n",
      "epochs:  38 ======== acc: 98.5687747753373\n",
      "epochs:  39 ======== acc: 98.58910893468884\n",
      "epochs:  40 ======== acc: 98.60908605299032\n",
      "epochs:  41 ======== acc: 98.62871296643168\n",
      "epochs:  42 ======== acc: 98.64799631728577\n",
      "epochs:  43 ======== acc: 98.66694256722857\n",
      "epochs:  44 ======== acc: 98.68555801029913\n",
      "epochs:  45 ======== acc: 98.7038487854122\n",
      "epochs:  46 ======== acc: 98.72182088833794\n",
      "epochs:  47 ======== acc: 98.73948018306571\n",
      "epochs:  48 ======== acc: 98.75683241247545\n",
      "epochs:  49 ======== acc: 98.77388320824761\n",
      "epochs:  50 ======== acc: 98.7906380999529\n",
      "epochs:  51 ======== acc: 98.80710252327479\n",
      "epochs:  52 ======== acc: 98.82328182733143\n",
      "epochs:  53 ======== acc: 98.83918128107733\n",
      "epochs:  54 ======== acc: 98.85480607878073\n",
      "epochs:  55 ======== acc: 98.87016134458726\n",
      "epochs:  56 ======== acc: 98.88525213619535\n",
      "epochs:  57 ======== acc: 98.90008344768242\n",
      "epochs:  58 ======== acc: 98.9146602115339\n",
      "epochs:  59 ======== acc: 98.92898729993736\n",
      "epochs:  60 ======== acc: 98.94306952541385\n",
      "epochs:  61 ======== acc: 98.95691164086462\n",
      "epochs:  62 ======== acc: 98.97051833911674\n",
      "epochs:  63 ======== acc: 98.98389425205288\n",
      "epochs:  64 ======== acc: 98.99704394941132\n",
      "epochs:  65 ======== acc: 99.00997193733988\n",
      "epochs:  66 ======== acc: 99.02268265678413\n",
      "epochs:  67 ======== acc: 99.03518048178469\n",
      "epochs:  68 ======== acc: 99.0474697177524\n",
      "epochs:  69 ======== acc: 99.05955459978178\n",
      "epochs:  70 ======== acc: 99.0714392910558\n",
      "epochs:  71 ======== acc: 99.08312788138635\n",
      "epochs:  72 ======== acc: 99.09462438592571\n",
      "epochs:  73 ======== acc: 99.10593274407667\n",
      "epochs:  74 ======== acc: 99.1170568186203\n",
      "epochs:  75 ======== acc: 99.12800039507361\n",
      "epochs:  76 ======== acc: 99.13876718128226\n",
      "epochs:  77 ======== acc: 99.14936080724749\n",
      "epochs:  78 ======== acc: 99.1597848251819\n",
      "epochs:  79 ======== acc: 99.170042709784\n",
      "epochs:  80 ======== acc: 99.18013785871851\n",
      "epochs:  81 ======== acc: 99.19007359328647\n",
      "epochs:  82 ======== acc: 99.19985315926782\n",
      "epochs:  83 ======== acc: 99.20947972791785\n",
      "epochs:  84 ======== acc: 99.21895639709814\n",
      "epochs:  85 ======== acc: 99.22828619252306\n",
      "epochs:  86 ======== acc: 99.23747206910298\n",
      "epochs:  87 ======== acc: 99.24651691236605\n",
      "epochs:  88 ======== acc: 99.25542353994187\n",
      "epochs:  89 ======== acc: 99.2641947030908\n",
      "epochs:  90 ======== acc: 99.2728330882648\n",
      "epochs:  91 ======== acc: 99.28134131868656\n",
      "epochs:  92 ======== acc: 99.28972195593514\n",
      "epochs:  93 ======== acc: 99.29797750152827\n",
      "epochs:  94 ======== acc: 99.30611039849191\n",
      "epochs:  95 ======== acc: 99.31412303291003\n",
      "epochs:  96 ======== acc: 99.32201773544791\n",
      "epochs:  97 ======== acc: 99.329796782844\n",
      "epochs:  98 ======== acc: 99.33746239936603\n",
      "epochs:  99 ======== acc: 99.34501675822828\n",
      "epochs:  100 ======== acc: 99.35246198296748\n"
     ]
    }
   ],
   "source": [
    "\"\"\"The arguments of train function are data set list x,\n",
    "correct labels y, weights w1, w2, learning rate = 0.1,\n",
    "no of epochs or iteration.The function will return the\n",
    "matrix of accuracy and loss and also the matrix of\n",
    "trained weights w1, w2\"\"\"\n",
    "\n",
    "acc, losss, w1, w2 = train(x, y, w1, w2, 0.1, 100)"
   ],
   "metadata": {
    "collapsed": false,
    "pycharm": {
     "name": "#%%\n"
    }
   }
  },
  {
   "cell_type": "code",
   "execution_count": 18,
   "outputs": [
    {
     "data": {
      "text/plain": "<Figure size 432x288 with 1 Axes>",
      "image/png": "[encoded data removed]"
     },
     "metadata": {
      "needs_background": "light"
     },
     "output_type": "display_data"
    }
   ],
   "source": [
    "import matplotlib.pyplot as plt1\n",
    "\n",
    "plt1.plot(acc)\n",
    "plt1.ylabel('Accuracy')\n",
    "plt1.xlabel(\"Epochs: \")\n",
    "plt1.show()"
   ],
   "metadata": {
    "collapsed": false,
    "pycharm": {
     "name": "#%%\n"
    }
   }
  },
  {
   "cell_type": "code",
   "execution_count": 18,
   "outputs": [],
   "source": [],
   "metadata": {
    "collapsed": false,
    "pycharm": {
     "name": "#%%\n"
    }
   }
  },
  {
   "cell_type": "code",
   "execution_count": 19,
   "outputs": [
    {
     "ename": "TypeError",
     "evalue": "float() argument must be a string or a number, not 'function'",
     "output_type": "error",
     "traceback": [
      "\u001B[0;31m---------------------------------------------------------------------------\u001B[0m",
      "\u001B[0;31mTypeError\u001B[0m                                 Traceback (most recent call last)",
      "Input \u001B[0;32mIn [19]\u001B[0m, in \u001B[0;36m<cell line: 2>\u001B[0;34m()\u001B[0m\n\u001B[1;32m      1\u001B[0m \u001B[38;5;66;03m# plotting Loss\u001B[39;00m\n\u001B[0;32m----> 2\u001B[0m \u001B[43mplt1\u001B[49m\u001B[38;5;241;43m.\u001B[39;49m\u001B[43mplot\u001B[49m\u001B[43m(\u001B[49m\u001B[43mlosss\u001B[49m\u001B[43m)\u001B[49m\n\u001B[1;32m      3\u001B[0m plt1\u001B[38;5;241m.\u001B[39mylabel(\u001B[38;5;124m'\u001B[39m\u001B[38;5;124mLoss\u001B[39m\u001B[38;5;124m'\u001B[39m)\n\u001B[1;32m      4\u001B[0m plt1\u001B[38;5;241m.\u001B[39mxlabel(\u001B[38;5;124m\"\u001B[39m\u001B[38;5;124mEpochs:\u001B[39m\u001B[38;5;124m\"\u001B[39m)\n",
      "File \u001B[0;32m~/miniconda3/envs/cudnn-1/lib/python3.8/site-packages/matplotlib/pyplot.py:2757\u001B[0m, in \u001B[0;36mplot\u001B[0;34m(scalex, scaley, data, *args, **kwargs)\u001B[0m\n\u001B[1;32m   2755\u001B[0m \u001B[38;5;129m@_copy_docstring_and_deprecators\u001B[39m(Axes\u001B[38;5;241m.\u001B[39mplot)\n\u001B[1;32m   2756\u001B[0m \u001B[38;5;28;01mdef\u001B[39;00m \u001B[38;5;21mplot\u001B[39m(\u001B[38;5;241m*\u001B[39margs, scalex\u001B[38;5;241m=\u001B[39m\u001B[38;5;28;01mTrue\u001B[39;00m, scaley\u001B[38;5;241m=\u001B[39m\u001B[38;5;28;01mTrue\u001B[39;00m, data\u001B[38;5;241m=\u001B[39m\u001B[38;5;28;01mNone\u001B[39;00m, \u001B[38;5;241m*\u001B[39m\u001B[38;5;241m*\u001B[39mkwargs):\n\u001B[0;32m-> 2757\u001B[0m     \u001B[38;5;28;01mreturn\u001B[39;00m \u001B[43mgca\u001B[49m\u001B[43m(\u001B[49m\u001B[43m)\u001B[49m\u001B[38;5;241;43m.\u001B[39;49m\u001B[43mplot\u001B[49m\u001B[43m(\u001B[49m\n\u001B[1;32m   2758\u001B[0m \u001B[43m        \u001B[49m\u001B[38;5;241;43m*\u001B[39;49m\u001B[43margs\u001B[49m\u001B[43m,\u001B[49m\u001B[43m \u001B[49m\u001B[43mscalex\u001B[49m\u001B[38;5;241;43m=\u001B[39;49m\u001B[43mscalex\u001B[49m\u001B[43m,\u001B[49m\u001B[43m \u001B[49m\u001B[43mscaley\u001B[49m\u001B[38;5;241;43m=\u001B[39;49m\u001B[43mscaley\u001B[49m\u001B[43m,\u001B[49m\n\u001B[1;32m   2759\u001B[0m \u001B[43m        \u001B[49m\u001B[38;5;241;43m*\u001B[39;49m\u001B[38;5;241;43m*\u001B[39;49m\u001B[43m(\u001B[49m\u001B[43m{\u001B[49m\u001B[38;5;124;43m\"\u001B[39;49m\u001B[38;5;124;43mdata\u001B[39;49m\u001B[38;5;124;43m\"\u001B[39;49m\u001B[43m:\u001B[49m\u001B[43m \u001B[49m\u001B[43mdata\u001B[49m\u001B[43m}\u001B[49m\u001B[43m \u001B[49m\u001B[38;5;28;43;01mif\u001B[39;49;00m\u001B[43m \u001B[49m\u001B[43mdata\u001B[49m\u001B[43m \u001B[49m\u001B[38;5;129;43;01mis\u001B[39;49;00m\u001B[43m \u001B[49m\u001B[38;5;129;43;01mnot\u001B[39;49;00m\u001B[43m \u001B[49m\u001B[38;5;28;43;01mNone\u001B[39;49;00m\u001B[43m \u001B[49m\u001B[38;5;28;43;01melse\u001B[39;49;00m\u001B[43m \u001B[49m\u001B[43m{\u001B[49m\u001B[43m}\u001B[49m\u001B[43m)\u001B[49m\u001B[43m,\u001B[49m\u001B[43m \u001B[49m\u001B[38;5;241;43m*\u001B[39;49m\u001B[38;5;241;43m*\u001B[39;49m\u001B[43mkwargs\u001B[49m\u001B[43m)\u001B[49m\n",
      "File \u001B[0;32m~/miniconda3/envs/cudnn-1/lib/python3.8/site-packages/matplotlib/axes/_axes.py:1634\u001B[0m, in \u001B[0;36mAxes.plot\u001B[0;34m(self, scalex, scaley, data, *args, **kwargs)\u001B[0m\n\u001B[1;32m   1632\u001B[0m lines \u001B[38;5;241m=\u001B[39m [\u001B[38;5;241m*\u001B[39m\u001B[38;5;28mself\u001B[39m\u001B[38;5;241m.\u001B[39m_get_lines(\u001B[38;5;241m*\u001B[39margs, data\u001B[38;5;241m=\u001B[39mdata, \u001B[38;5;241m*\u001B[39m\u001B[38;5;241m*\u001B[39mkwargs)]\n\u001B[1;32m   1633\u001B[0m \u001B[38;5;28;01mfor\u001B[39;00m line \u001B[38;5;129;01min\u001B[39;00m lines:\n\u001B[0;32m-> 1634\u001B[0m     \u001B[38;5;28;43mself\u001B[39;49m\u001B[38;5;241;43m.\u001B[39;49m\u001B[43madd_line\u001B[49m\u001B[43m(\u001B[49m\u001B[43mline\u001B[49m\u001B[43m)\u001B[49m\n\u001B[1;32m   1635\u001B[0m \u001B[38;5;28mself\u001B[39m\u001B[38;5;241m.\u001B[39m_request_autoscale_view(scalex\u001B[38;5;241m=\u001B[39mscalex, scaley\u001B[38;5;241m=\u001B[39mscaley)\n\u001B[1;32m   1636\u001B[0m \u001B[38;5;28;01mreturn\u001B[39;00m lines\n",
      "File \u001B[0;32m~/miniconda3/envs/cudnn-1/lib/python3.8/site-packages/matplotlib/axes/_base.py:2283\u001B[0m, in \u001B[0;36m_AxesBase.add_line\u001B[0;34m(self, line)\u001B[0m\n\u001B[1;32m   2280\u001B[0m \u001B[38;5;28;01mif\u001B[39;00m line\u001B[38;5;241m.\u001B[39mget_clip_path() \u001B[38;5;129;01mis\u001B[39;00m \u001B[38;5;28;01mNone\u001B[39;00m:\n\u001B[1;32m   2281\u001B[0m     line\u001B[38;5;241m.\u001B[39mset_clip_path(\u001B[38;5;28mself\u001B[39m\u001B[38;5;241m.\u001B[39mpatch)\n\u001B[0;32m-> 2283\u001B[0m \u001B[38;5;28;43mself\u001B[39;49m\u001B[38;5;241;43m.\u001B[39;49m\u001B[43m_update_line_limits\u001B[49m\u001B[43m(\u001B[49m\u001B[43mline\u001B[49m\u001B[43m)\u001B[49m\n\u001B[1;32m   2284\u001B[0m \u001B[38;5;28;01mif\u001B[39;00m \u001B[38;5;129;01mnot\u001B[39;00m line\u001B[38;5;241m.\u001B[39mget_label():\n\u001B[1;32m   2285\u001B[0m     line\u001B[38;5;241m.\u001B[39mset_label(\u001B[38;5;124mf\u001B[39m\u001B[38;5;124m'\u001B[39m\u001B[38;5;124m_child\u001B[39m\u001B[38;5;132;01m{\u001B[39;00m\u001B[38;5;28mlen\u001B[39m(\u001B[38;5;28mself\u001B[39m\u001B[38;5;241m.\u001B[39m_children)\u001B[38;5;132;01m}\u001B[39;00m\u001B[38;5;124m'\u001B[39m)\n",
      "File \u001B[0;32m~/miniconda3/envs/cudnn-1/lib/python3.8/site-packages/matplotlib/axes/_base.py:2306\u001B[0m, in \u001B[0;36m_AxesBase._update_line_limits\u001B[0;34m(self, line)\u001B[0m\n\u001B[1;32m   2302\u001B[0m \u001B[38;5;28;01mdef\u001B[39;00m \u001B[38;5;21m_update_line_limits\u001B[39m(\u001B[38;5;28mself\u001B[39m, line):\n\u001B[1;32m   2303\u001B[0m     \u001B[38;5;124;03m\"\"\"\u001B[39;00m\n\u001B[1;32m   2304\u001B[0m \u001B[38;5;124;03m    Figures out the data limit of the given line, updating self.dataLim.\u001B[39;00m\n\u001B[1;32m   2305\u001B[0m \u001B[38;5;124;03m    \"\"\"\u001B[39;00m\n\u001B[0;32m-> 2306\u001B[0m     path \u001B[38;5;241m=\u001B[39m \u001B[43mline\u001B[49m\u001B[38;5;241;43m.\u001B[39;49m\u001B[43mget_path\u001B[49m\u001B[43m(\u001B[49m\u001B[43m)\u001B[49m\n\u001B[1;32m   2307\u001B[0m     \u001B[38;5;28;01mif\u001B[39;00m path\u001B[38;5;241m.\u001B[39mvertices\u001B[38;5;241m.\u001B[39msize \u001B[38;5;241m==\u001B[39m \u001B[38;5;241m0\u001B[39m:\n\u001B[1;32m   2308\u001B[0m         \u001B[38;5;28;01mreturn\u001B[39;00m\n",
      "File \u001B[0;32m~/miniconda3/envs/cudnn-1/lib/python3.8/site-packages/matplotlib/lines.py:999\u001B[0m, in \u001B[0;36mLine2D.get_path\u001B[0;34m(self)\u001B[0m\n\u001B[1;32m    997\u001B[0m \u001B[38;5;124;03m\"\"\"Return the `~matplotlib.path.Path` associated with this line.\"\"\"\u001B[39;00m\n\u001B[1;32m    998\u001B[0m \u001B[38;5;28;01mif\u001B[39;00m \u001B[38;5;28mself\u001B[39m\u001B[38;5;241m.\u001B[39m_invalidy \u001B[38;5;129;01mor\u001B[39;00m \u001B[38;5;28mself\u001B[39m\u001B[38;5;241m.\u001B[39m_invalidx:\n\u001B[0;32m--> 999\u001B[0m     \u001B[38;5;28;43mself\u001B[39;49m\u001B[38;5;241;43m.\u001B[39;49m\u001B[43mrecache\u001B[49m\u001B[43m(\u001B[49m\u001B[43m)\u001B[49m\n\u001B[1;32m   1000\u001B[0m \u001B[38;5;28;01mreturn\u001B[39;00m \u001B[38;5;28mself\u001B[39m\u001B[38;5;241m.\u001B[39m_path\n",
      "File \u001B[0;32m~/miniconda3/envs/cudnn-1/lib/python3.8/site-packages/matplotlib/lines.py:657\u001B[0m, in \u001B[0;36mLine2D.recache\u001B[0;34m(self, always)\u001B[0m\n\u001B[1;32m    655\u001B[0m \u001B[38;5;28;01mif\u001B[39;00m always \u001B[38;5;129;01mor\u001B[39;00m \u001B[38;5;28mself\u001B[39m\u001B[38;5;241m.\u001B[39m_invalidy:\n\u001B[1;32m    656\u001B[0m     yconv \u001B[38;5;241m=\u001B[39m \u001B[38;5;28mself\u001B[39m\u001B[38;5;241m.\u001B[39mconvert_yunits(\u001B[38;5;28mself\u001B[39m\u001B[38;5;241m.\u001B[39m_yorig)\n\u001B[0;32m--> 657\u001B[0m     y \u001B[38;5;241m=\u001B[39m \u001B[43m_to_unmasked_float_array\u001B[49m\u001B[43m(\u001B[49m\u001B[43myconv\u001B[49m\u001B[43m)\u001B[49m\u001B[38;5;241m.\u001B[39mravel()\n\u001B[1;32m    658\u001B[0m \u001B[38;5;28;01melse\u001B[39;00m:\n\u001B[1;32m    659\u001B[0m     y \u001B[38;5;241m=\u001B[39m \u001B[38;5;28mself\u001B[39m\u001B[38;5;241m.\u001B[39m_y\n",
      "File \u001B[0;32m~/miniconda3/envs/cudnn-1/lib/python3.8/site-packages/matplotlib/cbook/__init__.py:1298\u001B[0m, in \u001B[0;36m_to_unmasked_float_array\u001B[0;34m(x)\u001B[0m\n\u001B[1;32m   1296\u001B[0m     \u001B[38;5;28;01mreturn\u001B[39;00m np\u001B[38;5;241m.\u001B[39mma\u001B[38;5;241m.\u001B[39masarray(x, \u001B[38;5;28mfloat\u001B[39m)\u001B[38;5;241m.\u001B[39mfilled(np\u001B[38;5;241m.\u001B[39mnan)\n\u001B[1;32m   1297\u001B[0m \u001B[38;5;28;01melse\u001B[39;00m:\n\u001B[0;32m-> 1298\u001B[0m     \u001B[38;5;28;01mreturn\u001B[39;00m \u001B[43mnp\u001B[49m\u001B[38;5;241;43m.\u001B[39;49m\u001B[43masarray\u001B[49m\u001B[43m(\u001B[49m\u001B[43mx\u001B[49m\u001B[43m,\u001B[49m\u001B[43m \u001B[49m\u001B[38;5;28;43mfloat\u001B[39;49m\u001B[43m)\u001B[49m\n",
      "\u001B[0;31mTypeError\u001B[0m: float() argument must be a string or a number, not 'function'"
     ]
    },
    {
     "data": {
      "text/plain": "<Figure size 432x288 with 1 Axes>",
      "image/png": "[encoded data removed]"
     },
     "metadata": {
      "needs_background": "light"
     },
     "output_type": "display_data"
    }
   ],
   "source": [
    "# plotting Loss\n",
    "plt1.plot(losss)\n",
    "plt1.ylabel('Loss')\n",
    "plt1.xlabel(\"Epochs:\")\n",
    "plt1.show()"
   ],
   "metadata": {
    "collapsed": false,
    "pycharm": {
     "name": "#%%\n"
    }
   }
  },
  {
   "cell_type": "code",
   "execution_count": 20,
   "outputs": [
    {
     "name": "stdout",
     "output_type": "stream",
     "text": [
      "[[-8.92681311e-01  4.61664524e-01  4.11013939e-01  1.06269430e+00\n",
      "   1.24788770e-01]\n",
      " [-9.23849464e-02 -1.15897145e+00 -2.20760728e+00  3.83752386e-01\n",
      "   1.63827257e+00]\n",
      " [-8.61132740e-01 -2.49351427e+00  8.55540790e-01  4.47233388e-01\n",
      "  -6.44052994e-01]\n",
      " [-1.18106514e+00 -2.93802421e-01  5.26615902e-01 -2.43739354e+00\n",
      "  -1.36683983e+00]\n",
      " [-1.38056577e+00  7.10936583e-01  9.74655043e-01 -8.41249949e-01\n",
      "   1.55757264e+00]\n",
      " [ 3.65282100e-01 -1.39376852e+00  1.20374748e+00 -1.17371877e+00\n",
      "   1.92609023e+00]\n",
      " [ 1.61094265e+00  1.22830438e-01 -7.78816331e-01  3.15336100e-01\n",
      "   8.71591918e-01]\n",
      " [-3.08546130e-01 -1.00763815e+00 -7.36251604e-01 -4.46294203e-01\n",
      "   1.05953637e+00]\n",
      " [-5.84865975e-01  3.73062537e-01  1.38202371e+00  1.68508245e+00\n",
      "  -3.08961070e-01]\n",
      " [ 1.09486766e+00 -4.58985775e-01 -3.55725089e-01  4.85096455e-01\n",
      "  -7.90221795e-01]\n",
      " [ 7.92652835e-01  3.85001154e-01  2.85957925e-01  1.62268923e+00\n",
      "  -9.43847124e-03]\n",
      " [-1.80932689e+00  6.28508490e-01 -5.26471240e-01 -2.55406204e+00\n",
      "  -6.08359167e-01]\n",
      " [-2.50049927e+00 -1.48692211e+00 -2.08441811e+00 -8.90508242e-01\n",
      "  -9.33654863e-01]\n",
      " [-4.06343717e-01 -4.38645102e-01 -5.94815664e-01 -1.23812257e+00\n",
      "  -7.94462604e-01]\n",
      " [-9.36221265e-02  1.54604676e+00  6.13826370e-01  5.14343941e-01\n",
      "  -1.01105502e+00]\n",
      " [ 5.03751901e-01  2.88756642e+00  2.70877156e-03 -2.39602425e-01\n",
      "   3.81729826e-01]\n",
      " [-1.59632463e-01  1.16809981e-01  1.21006517e+00  3.42401009e-01\n",
      "  -1.41799496e+00]\n",
      " [-1.18949637e+00 -6.08230802e-01  8.66462157e-02  9.28401669e-01\n",
      "  -2.04921202e-03]\n",
      " [ 4.01398978e-01 -2.60875078e-01  4.58378795e-01 -1.74886484e-01\n",
      "   1.04889356e+00]\n",
      " [ 6.62378359e-01  1.56330211e+00  5.52793451e-01  2.06096349e+00\n",
      "  -2.90972517e-01]\n",
      " [ 1.06267268e+00  2.83731625e-01  9.75594211e-02 -3.03640819e-02\n",
      "   1.73671966e+00]\n",
      " [ 2.68714023e-01 -1.38844808e+00 -4.40041466e-02  9.52297216e-01\n",
      "   1.86602384e+00]\n",
      " [-2.25729343e+00  1.62216892e+00 -3.32921398e-01  2.25153410e+00\n",
      "  -1.68296520e+00]\n",
      " [ 6.21289639e-01 -1.01341402e+00  1.53767123e+00 -1.38535789e+00\n",
      "  -1.24917495e+00]\n",
      " [-1.38106248e+00 -1.81694183e-01  1.66051622e+00 -8.35810704e-01\n",
      "   1.81630060e-01]\n",
      " [ 2.54105454e-01 -2.17074266e-01 -1.20437053e-01 -1.17937878e+00\n",
      "   3.48020368e-02]\n",
      " [-1.44376822e+00  3.09615436e-01 -1.03475870e-01  5.88809526e-01\n",
      "   5.27219283e-01]\n",
      " [-3.50631134e-01  5.04159966e-02  8.11361385e-03 -2.67007640e-01\n",
      "   1.48031326e+00]\n",
      " [ 3.51642080e-01 -4.43488723e-01  1.31630424e+00  7.77477041e-01\n",
      "   8.90569431e-01]\n",
      " [ 8.86625473e-01 -1.91159847e-01  8.57958968e-01  3.60784396e-01\n",
      "  -1.26390373e+00]] \n",
      " [[ 0.39411807  2.58367426  0.18729233]\n",
      " [-1.18810872  4.01631436 -2.71513367]\n",
      " [ 1.91564424 -3.14255312 -2.22812591]\n",
      " [-1.54402615  2.2507329  -1.11515949]\n",
      " [-3.99922967 -0.69933823  4.03587748]]\n"
     ]
    }
   ],
   "source": [
    "# the trained weights are\n",
    "print(w1, \"\\n\", w2)"
   ],
   "metadata": {
    "collapsed": false,
    "pycharm": {
     "name": "#%%\n"
    }
   }
  },
  {
   "cell_type": "code",
   "execution_count": 21,
   "outputs": [
    {
     "name": "stdout",
     "output_type": "stream",
     "text": [
      "Image is of letter B.\n"
     ]
    },
    {
     "data": {
      "text/plain": "<Figure size 432x288 with 1 Axes>",
      "image/png": "[encoded data removed]"
     },
     "metadata": {
      "needs_background": "light"
     },
     "output_type": "display_data"
    }
   ],
   "source": [
    "\"\"\"\n",
    "The predict function will take the following arguments:\n",
    "1) image matrix\n",
    "2) w1 trained weights\n",
    "3) w2 trained weights\n",
    "\"\"\"\n",
    "predict(x[1], w1, w2)"
   ],
   "metadata": {
    "collapsed": false,
    "pycharm": {
     "name": "#%%\n"
    }
   }
  },
  {
   "cell_type": "code",
   "execution_count": null,
   "outputs": [],
   "source": [],
   "metadata": {
    "collapsed": false,
    "pycharm": {
     "name": "#%%\n"
    }
   }
  }
 ],
 "metadata": {
  "kernelspec": {
   "display_name": "Python 3",
   "language": "python",
   "name": "python3"
  },
  "language_info": {
   "codemirror_mode": {
    "name": "ipython",
    "version": 2
   },
   "file_extension": ".py",
   "mimetype": "text/x-python",
   "name": "python",
   "nbconvert_exporter": "python",
   "pygments_lexer": "ipython2",
   "version": "2.7.6"
  }
 },
 "nbformat": 4,
 "nbformat_minor": 0
}